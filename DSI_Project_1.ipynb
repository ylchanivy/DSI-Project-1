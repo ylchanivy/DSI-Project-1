{
 "cells": [
  {
   "cell_type": "markdown",
   "metadata": {},
   "source": [
    "# Project 1: SAT & ACT Analysis"
   ]
  },
  {
   "cell_type": "markdown",
   "metadata": {},
   "source": [
    "The first markdown cell in a notebook is a great place to provide an overview of your entire project. You will likely want to at least state your\n",
    "\n"
   ]
  },
  {
   "cell_type": "markdown",
   "metadata": {},
   "source": [
    "Define the problem you are finding answers for from the data given."
   ]
  },
  {
   "cell_type": "markdown",
   "metadata": {},
   "source": [
    "<font color=blue> \n",
    "Study the SAT & ACT Participation Rate in Ohio and recommendation ways to increase Participation Rate of SAT in Ohio.\n",
    "\n"
   ]
  },
  {
   "cell_type": "markdown",
   "metadata": {},
   "source": [
    "## Executive Summary\n",
    "\n",
    "If you want to, it's great to use relative links to direct your audience to various sections of a notebook. **HERE'S A DEMONSTRATION WITH THE CURRENT SECTION HEADERS**:\n",
    "\n",
    "### Contents:\n",
    "- [2017 Data Import & Cleaning](#Data-Import-and-Cleaning)\n",
    "- [2018 Data Import and Cleaning](#2018-Data-Import-and-Cleaning)\n",
    "- [Exploratory Data Analysis](#Exploratory-Data-Analysis)\n",
    "- [Data Visualization](#Visualize-the-data)\n",
    "- [Descriptive and Inferential Statistics](#Descriptive-and-Inferential-Statistics)\n",
    "- [Outside Research](#Outside-Research)\n",
    "- [Conclusions and Recommendations](#Conclusions-and-Recommendations)"
   ]
  },
  {
   "cell_type": "markdown",
   "metadata": {},
   "source": [
    "**If you combine your problem statement, executive summary, data dictionary, and conclusions/recommendations, you have an amazing README.md file that quickly aligns your audience to the contents of your project.** Don't forget to cite your data sources!"
   ]
  },
  {
   "cell_type": "markdown",
   "metadata": {},
   "source": [
    "<font color=blue>\n",
    "README.md<br>\n",
    "combine your problem statement,<br>\n",
    "executive summary,<br>\n",
    "data dictionary,<br>\n",
    "conclusions/recommendations,<br>\n",
    "data source<br>\n",
    "</font>"
   ]
  },
  {
   "cell_type": "markdown",
   "metadata": {},
   "source": [
    "*All libraries used should be added here*"
   ]
  },
  {
   "cell_type": "code",
   "execution_count": 1,
   "metadata": {},
   "outputs": [],
   "source": [
    "#Imports:\n",
    "import numpy as np\n",
    "import pandas as pd\n",
    "import csv\n",
    "from scipy.stats import norm\n",
    "import scipy.stats as stats"
   ]
  },
  {
   "cell_type": "markdown",
   "metadata": {},
   "source": [
    "## 2017 Data Import and Cleaning"
   ]
  },
  {
   "cell_type": "markdown",
   "metadata": {},
   "source": [
    "#### 1. Read In SAT & ACT  Data\n",
    "\n",
    "Read in the `sat_2017.csv` and `act_2017.csv` files and assign them to appropriately named pandas dataframes."
   ]
  },
  {
   "cell_type": "code",
   "execution_count": 2,
   "metadata": {},
   "outputs": [],
   "source": [
    "#Code:\n",
    "pd.read_csv(r\"C:\\Users\\user\\Desktop\\GAClasswork\\classes\\Project1234\\project_1\\data\\sat_2017.csv\")\n",
    "pd.read_csv(r\"C:\\Users\\user\\Desktop\\GAClasswork\\classes\\Project1234\\project_1\\data\\sat_2017.csv\")\n",
    "\n",
    "#at_2017=pd.read_csv('sat_2017.csv',index_col=0)\n",
    "#act_2017=pd.read_csv('act_2017.csv',index_col=0)        \n",
    "\n",
    "sat_2017=pd.read_csv('sat_2017.csv')\n",
    "act_2017=pd.read_csv('act_2017.csv')\n"
   ]
  },
  {
   "cell_type": "markdown",
   "metadata": {},
   "source": [
    "#### 2. Display Data\n",
    "\n",
    "Print the first 10 rows of each dataframe to your jupyter notebook"
   ]
  },
  {
   "cell_type": "code",
   "execution_count": 3,
   "metadata": {},
   "outputs": [
    {
     "name": "stdout",
     "output_type": "stream",
     "text": [
      "                  State Participation  Evidence-Based Reading and Writing  \\\n",
      "0               Alabama            5%                                 593   \n",
      "1                Alaska           38%                                 547   \n",
      "2               Arizona           30%                                 563   \n",
      "3              Arkansas            3%                                 614   \n",
      "4            California           53%                                 531   \n",
      "5              Colorado           11%                                 606   \n",
      "6           Connecticut          100%                                 530   \n",
      "7              Delaware          100%                                 503   \n",
      "8  District of Columbia          100%                                 482   \n",
      "9               Florida           83%                                 520   \n",
      "\n",
      "   Math  Total  \n",
      "0   572   1165  \n",
      "1   533   1080  \n",
      "2   553   1116  \n",
      "3   594   1208  \n",
      "4   524   1055  \n",
      "5   595   1201  \n",
      "6   512   1041  \n",
      "7   492    996  \n",
      "8   468    950  \n",
      "9   497   1017  \n",
      "                  State Participation  English  Math  Reading  Science  \\\n",
      "0              National           60%     20.3  20.7     21.4     21.0   \n",
      "1               Alabama          100%     18.9  18.4     19.7     19.4   \n",
      "2                Alaska           65%     18.7  19.8     20.4     19.9   \n",
      "3               Arizona           62%     18.6  19.8     20.1     19.8   \n",
      "4              Arkansas          100%     18.9  19.0     19.7     19.5   \n",
      "5            California           31%     22.5  22.7     23.1     22.2   \n",
      "6              Colorado          100%     20.1  20.3     21.2     20.9   \n",
      "7           Connecticut           31%     25.5  24.6     25.6     24.6   \n",
      "8              Delaware           18%     24.1  23.4     24.8     23.6   \n",
      "9  District of Columbia           32%     24.4  23.5     24.9     23.5   \n",
      "\n",
      "  Composite  \n",
      "0      21.0  \n",
      "1      19.2  \n",
      "2      19.8  \n",
      "3      19.7  \n",
      "4      19.4  \n",
      "5      22.8  \n",
      "6      20.8  \n",
      "7      25.2  \n",
      "8      24.1  \n",
      "9      24.2  \n"
     ]
    }
   ],
   "source": [
    "#Code:\n",
    "print(sat_2017.head(10))\n",
    "print(act_2017.head(10))"
   ]
  },
  {
   "cell_type": "markdown",
   "metadata": {},
   "source": [
    "#### 3. Verbally Describe Data\n",
    "\n",
    "Take your time looking through the data and thoroughly describe the data in the markdown cell below. "
   ]
  },
  {
   "cell_type": "markdown",
   "metadata": {},
   "source": [
    "<font color=blue>Verbally Describe Data Answer:\n",
    "\n",
    "1. Data in sat_2017 shows respective States':\n",
    "   - participation rate, \n",
    "   - average SAT score for Evidence-Based Reading and Writing, Math,\n",
    "   - and a Total average SAT score\n",
    "    \n",
    "    \n",
    "2. Data in act_2017 shows respective States':\n",
    "   - participation rate,\n",
    "   - average ACT score for English, Math, Reading, Science and Composite\n",
    "\n",
    "\n",
    "3. Average score for SAT is in integer while average score for ACT is in float.\n",
    "\n",
    "1. States column in sat_2017 is sorted by alphabetical order while States column in act_2017 is not sorted.There's a \"National\" in between the states.\n",
    "2. Data in sat_2017 consist a column that holds total score, whereas data in act_2017 doesn't \n",
    "\n",
    "</font> "
   ]
  },
  {
   "cell_type": "markdown",
   "metadata": {},
   "source": [
    "#### 4a. Does the data look complete? "
   ]
  },
  {
   "cell_type": "markdown",
   "metadata": {},
   "source": [
    "<font color=blue>Answer:\n",
    "    \n",
    "From the top 10 rows of both data tables, it seems there's no row with missing data.<br>\n",
    "Further checking using df.info() is performed to see if there's any missing data for both data tables.<br>\n",
    "Both tables has no null entry.\n",
    "</font>"
   ]
  },
  {
   "cell_type": "code",
   "execution_count": 4,
   "metadata": {},
   "outputs": [
    {
     "name": "stdout",
     "output_type": "stream",
     "text": [
      "<class 'pandas.core.frame.DataFrame'>\n",
      "RangeIndex: 51 entries, 0 to 50\n",
      "Data columns (total 5 columns):\n",
      "State                                 51 non-null object\n",
      "Participation                         51 non-null object\n",
      "Evidence-Based Reading and Writing    51 non-null int64\n",
      "Math                                  51 non-null int64\n",
      "Total                                 51 non-null int64\n",
      "dtypes: int64(3), object(2)\n",
      "memory usage: 2.1+ KB\n",
      "<class 'pandas.core.frame.DataFrame'>\n",
      "RangeIndex: 52 entries, 0 to 51\n",
      "Data columns (total 7 columns):\n",
      "State            52 non-null object\n",
      "Participation    52 non-null object\n",
      "English          52 non-null float64\n",
      "Math             52 non-null float64\n",
      "Reading          52 non-null float64\n",
      "Science          52 non-null float64\n",
      "Composite        52 non-null object\n",
      "dtypes: float64(4), object(3)\n",
      "memory usage: 2.9+ KB\n"
     ]
    }
   ],
   "source": [
    "# to check on both data tables to see if there's any missing data\n",
    "sat_2017.info()\n",
    "act_2017.info()"
   ]
  },
  {
   "cell_type": "markdown",
   "metadata": {},
   "source": [
    "#### 4b. Are there any obvious issues with the observations?\n",
    "\n",
    "**What is the minimum *possible* value for each test/subtest? What is the maximum *possible* value?**\n",
    "\n",
    "Consider comparing any questionable values to the sources of your data:\n",
    "- [SAT](https://blog.collegevine.com/here-are-the-average-sat-scores-by-state/)\n",
    "- [ACT](https://blog.prepscholar.com/act-scores-by-state-averages-highs-and-lows)"
   ]
  },
  {
   "cell_type": "markdown",
   "metadata": {},
   "source": [
    "<font color=blue>Answer:\n",
    "\n",
    "SAT score range is 400-1600 for composite SAT score.<br>\n",
    "for subtest in SAT the score range is 200-800 in 10-point increments.<br>\n",
    "\n",
    "ACT score range is 1-36 for composite ACT score.<br>\n",
    "for subtest in ACT the score range is 1-36.<br>\n",
    "</font>"
   ]
  },
  {
   "cell_type": "markdown",
   "metadata": {},
   "source": [
    "#### 4c. Fix any errors you identified\n",
    "\n",
    "**The data is available** so there's no need to guess or calculate anything. If you didn't find any errors, continue to the next step."
   ]
  },
  {
   "cell_type": "markdown",
   "metadata": {},
   "source": [
    "<font color=blue>Answer:<br>\n",
    "df.describe()is used to check both data tables for any possible data entry error.\n",
    "</font>"
   ]
  },
  {
   "cell_type": "markdown",
   "metadata": {},
   "source": [
    "<font color=blue>sat_2017\n",
    "</font>"
   ]
  },
  {
   "cell_type": "code",
   "execution_count": 5,
   "metadata": {},
   "outputs": [
    {
     "data": {
      "text/html": [
       "<div>\n",
       "<style scoped>\n",
       "    .dataframe tbody tr th:only-of-type {\n",
       "        vertical-align: middle;\n",
       "    }\n",
       "\n",
       "    .dataframe tbody tr th {\n",
       "        vertical-align: top;\n",
       "    }\n",
       "\n",
       "    .dataframe thead th {\n",
       "        text-align: right;\n",
       "    }\n",
       "</style>\n",
       "<table border=\"1\" class=\"dataframe\">\n",
       "  <thead>\n",
       "    <tr style=\"text-align: right;\">\n",
       "      <th></th>\n",
       "      <th>Evidence-Based Reading and Writing</th>\n",
       "      <th>Math</th>\n",
       "      <th>Total</th>\n",
       "    </tr>\n",
       "  </thead>\n",
       "  <tbody>\n",
       "    <tr>\n",
       "      <th>count</th>\n",
       "      <td>51.000000</td>\n",
       "      <td>51.000000</td>\n",
       "      <td>51.000000</td>\n",
       "    </tr>\n",
       "    <tr>\n",
       "      <th>mean</th>\n",
       "      <td>569.117647</td>\n",
       "      <td>547.627451</td>\n",
       "      <td>1126.098039</td>\n",
       "    </tr>\n",
       "    <tr>\n",
       "      <th>std</th>\n",
       "      <td>45.666901</td>\n",
       "      <td>84.909119</td>\n",
       "      <td>92.494812</td>\n",
       "    </tr>\n",
       "    <tr>\n",
       "      <th>min</th>\n",
       "      <td>482.000000</td>\n",
       "      <td>52.000000</td>\n",
       "      <td>950.000000</td>\n",
       "    </tr>\n",
       "    <tr>\n",
       "      <th>25%</th>\n",
       "      <td>533.500000</td>\n",
       "      <td>522.000000</td>\n",
       "      <td>1055.500000</td>\n",
       "    </tr>\n",
       "    <tr>\n",
       "      <th>50%</th>\n",
       "      <td>559.000000</td>\n",
       "      <td>548.000000</td>\n",
       "      <td>1107.000000</td>\n",
       "    </tr>\n",
       "    <tr>\n",
       "      <th>75%</th>\n",
       "      <td>613.000000</td>\n",
       "      <td>599.000000</td>\n",
       "      <td>1212.000000</td>\n",
       "    </tr>\n",
       "    <tr>\n",
       "      <th>max</th>\n",
       "      <td>644.000000</td>\n",
       "      <td>651.000000</td>\n",
       "      <td>1295.000000</td>\n",
       "    </tr>\n",
       "  </tbody>\n",
       "</table>\n",
       "</div>"
      ],
      "text/plain": [
       "       Evidence-Based Reading and Writing        Math        Total\n",
       "count                           51.000000   51.000000    51.000000\n",
       "mean                           569.117647  547.627451  1126.098039\n",
       "std                             45.666901   84.909119    92.494812\n",
       "min                            482.000000   52.000000   950.000000\n",
       "25%                            533.500000  522.000000  1055.500000\n",
       "50%                            559.000000  548.000000  1107.000000\n",
       "75%                            613.000000  599.000000  1212.000000\n",
       "max                            644.000000  651.000000  1295.000000"
      ]
     },
     "execution_count": 5,
     "metadata": {},
     "output_type": "execute_result"
    }
   ],
   "source": [
    "sat_2017.describe()"
   ]
  },
  {
   "cell_type": "markdown",
   "metadata": {},
   "source": [
    "<font color=blue>Answer:\n",
    "the min score for SAT Math (52) in the data table is below the SAT subject minimum score range (200-800)\n",
    "\n",
    "</font>"
   ]
  },
  {
   "cell_type": "markdown",
   "metadata": {},
   "source": [
    "<font color=blue>For sat_2017:\n",
    "a function is run to check which row is having column value out of range 200-800\n",
    "    </font>"
   ]
  },
  {
   "cell_type": "code",
   "execution_count": 6,
   "metadata": {},
   "outputs": [],
   "source": [
    "def check_if_data_within_range (df,col,low_range,up_range):\n",
    "    return df[~df[col].between(low_range,up_range)]     "
   ]
  },
  {
   "cell_type": "code",
   "execution_count": 7,
   "metadata": {},
   "outputs": [
    {
     "data": {
      "text/html": [
       "<div>\n",
       "<style scoped>\n",
       "    .dataframe tbody tr th:only-of-type {\n",
       "        vertical-align: middle;\n",
       "    }\n",
       "\n",
       "    .dataframe tbody tr th {\n",
       "        vertical-align: top;\n",
       "    }\n",
       "\n",
       "    .dataframe thead th {\n",
       "        text-align: right;\n",
       "    }\n",
       "</style>\n",
       "<table border=\"1\" class=\"dataframe\">\n",
       "  <thead>\n",
       "    <tr style=\"text-align: right;\">\n",
       "      <th></th>\n",
       "      <th>State</th>\n",
       "      <th>Participation</th>\n",
       "      <th>Evidence-Based Reading and Writing</th>\n",
       "      <th>Math</th>\n",
       "      <th>Total</th>\n",
       "    </tr>\n",
       "  </thead>\n",
       "  <tbody>\n",
       "  </tbody>\n",
       "</table>\n",
       "</div>"
      ],
      "text/plain": [
       "Empty DataFrame\n",
       "Columns: [State, Participation, Evidence-Based Reading and Writing, Math, Total]\n",
       "Index: []"
      ]
     },
     "execution_count": 7,
     "metadata": {},
     "output_type": "execute_result"
    }
   ],
   "source": [
    "check_if_data_within_range (sat_2017,'Evidence-Based Reading and Writing',200,800)"
   ]
  },
  {
   "cell_type": "code",
   "execution_count": 8,
   "metadata": {},
   "outputs": [
    {
     "data": {
      "text/html": [
       "<div>\n",
       "<style scoped>\n",
       "    .dataframe tbody tr th:only-of-type {\n",
       "        vertical-align: middle;\n",
       "    }\n",
       "\n",
       "    .dataframe tbody tr th {\n",
       "        vertical-align: top;\n",
       "    }\n",
       "\n",
       "    .dataframe thead th {\n",
       "        text-align: right;\n",
       "    }\n",
       "</style>\n",
       "<table border=\"1\" class=\"dataframe\">\n",
       "  <thead>\n",
       "    <tr style=\"text-align: right;\">\n",
       "      <th></th>\n",
       "      <th>State</th>\n",
       "      <th>Participation</th>\n",
       "      <th>Evidence-Based Reading and Writing</th>\n",
       "      <th>Math</th>\n",
       "      <th>Total</th>\n",
       "    </tr>\n",
       "  </thead>\n",
       "  <tbody>\n",
       "    <tr>\n",
       "      <th>20</th>\n",
       "      <td>Maryland</td>\n",
       "      <td>69%</td>\n",
       "      <td>536</td>\n",
       "      <td>52</td>\n",
       "      <td>1060</td>\n",
       "    </tr>\n",
       "  </tbody>\n",
       "</table>\n",
       "</div>"
      ],
      "text/plain": [
       "       State Participation  Evidence-Based Reading and Writing  Math  Total\n",
       "20  Maryland           69%                                 536    52   1060"
      ]
     },
     "execution_count": 8,
     "metadata": {},
     "output_type": "execute_result"
    }
   ],
   "source": [
    "check_if_data_within_range (sat_2017,'Math',200,800)"
   ]
  },
  {
   "cell_type": "code",
   "execution_count": 9,
   "metadata": {},
   "outputs": [
    {
     "data": {
      "text/html": [
       "<div>\n",
       "<style scoped>\n",
       "    .dataframe tbody tr th:only-of-type {\n",
       "        vertical-align: middle;\n",
       "    }\n",
       "\n",
       "    .dataframe tbody tr th {\n",
       "        vertical-align: top;\n",
       "    }\n",
       "\n",
       "    .dataframe thead th {\n",
       "        text-align: right;\n",
       "    }\n",
       "</style>\n",
       "<table border=\"1\" class=\"dataframe\">\n",
       "  <thead>\n",
       "    <tr style=\"text-align: right;\">\n",
       "      <th></th>\n",
       "      <th>State</th>\n",
       "      <th>Participation</th>\n",
       "      <th>Evidence-Based Reading and Writing</th>\n",
       "      <th>Math</th>\n",
       "      <th>Total</th>\n",
       "    </tr>\n",
       "  </thead>\n",
       "  <tbody>\n",
       "  </tbody>\n",
       "</table>\n",
       "</div>"
      ],
      "text/plain": [
       "Empty DataFrame\n",
       "Columns: [State, Participation, Evidence-Based Reading and Writing, Math, Total]\n",
       "Index: []"
      ]
     },
     "execution_count": 9,
     "metadata": {},
     "output_type": "execute_result"
    }
   ],
   "source": [
    "check_if_data_within_range (sat_2017,'Total',400,1600)"
   ]
  },
  {
   "cell_type": "markdown",
   "metadata": {},
   "source": [
    "<font color=blue>For data table sat_2017\n",
    "Math score for Maryland is out of range of 200-800.<br>\n",
    "Counter check on Maryland'maths score in SAT 2017 website<br>\n",
    "The actual Maryland'maths score in SAT \n",
    "2017 website is '524' instead of '52'"
   ]
  },
  {
   "cell_type": "code",
   "execution_count": 10,
   "metadata": {},
   "outputs": [
    {
     "data": {
      "text/plain": [
       "State                                 Maryland\n",
       "Participation                              69%\n",
       "Evidence-Based Reading and Writing         536\n",
       "Math                                       524\n",
       "Total                                     1060\n",
       "Name: 20, dtype: object"
      ]
     },
     "execution_count": 10,
     "metadata": {},
     "output_type": "execute_result"
    }
   ],
   "source": [
    "# updating the SAT 2017 math score for Maryland\n",
    "sat_2017.at[20,'Math']=524\n",
    "sat_2017.loc[20]"
   ]
  },
  {
   "cell_type": "markdown",
   "metadata": {},
   "source": [
    "<font color=blue>act_2017\n",
    "</font>"
   ]
  },
  {
   "cell_type": "code",
   "execution_count": 11,
   "metadata": {},
   "outputs": [
    {
     "data": {
      "text/html": [
       "<div>\n",
       "<style scoped>\n",
       "    .dataframe tbody tr th:only-of-type {\n",
       "        vertical-align: middle;\n",
       "    }\n",
       "\n",
       "    .dataframe tbody tr th {\n",
       "        vertical-align: top;\n",
       "    }\n",
       "\n",
       "    .dataframe thead th {\n",
       "        text-align: right;\n",
       "    }\n",
       "</style>\n",
       "<table border=\"1\" class=\"dataframe\">\n",
       "  <thead>\n",
       "    <tr style=\"text-align: right;\">\n",
       "      <th></th>\n",
       "      <th>English</th>\n",
       "      <th>Math</th>\n",
       "      <th>Reading</th>\n",
       "      <th>Science</th>\n",
       "    </tr>\n",
       "  </thead>\n",
       "  <tbody>\n",
       "    <tr>\n",
       "      <th>count</th>\n",
       "      <td>52.000000</td>\n",
       "      <td>52.000000</td>\n",
       "      <td>52.000000</td>\n",
       "      <td>52.000000</td>\n",
       "    </tr>\n",
       "    <tr>\n",
       "      <th>mean</th>\n",
       "      <td>20.919231</td>\n",
       "      <td>21.173077</td>\n",
       "      <td>22.001923</td>\n",
       "      <td>21.040385</td>\n",
       "    </tr>\n",
       "    <tr>\n",
       "      <th>std</th>\n",
       "      <td>2.332132</td>\n",
       "      <td>1.963602</td>\n",
       "      <td>2.048672</td>\n",
       "      <td>3.151113</td>\n",
       "    </tr>\n",
       "    <tr>\n",
       "      <th>min</th>\n",
       "      <td>16.300000</td>\n",
       "      <td>18.000000</td>\n",
       "      <td>18.100000</td>\n",
       "      <td>2.300000</td>\n",
       "    </tr>\n",
       "    <tr>\n",
       "      <th>25%</th>\n",
       "      <td>19.000000</td>\n",
       "      <td>19.400000</td>\n",
       "      <td>20.475000</td>\n",
       "      <td>19.900000</td>\n",
       "    </tr>\n",
       "    <tr>\n",
       "      <th>50%</th>\n",
       "      <td>20.550000</td>\n",
       "      <td>20.900000</td>\n",
       "      <td>21.700000</td>\n",
       "      <td>21.150000</td>\n",
       "    </tr>\n",
       "    <tr>\n",
       "      <th>75%</th>\n",
       "      <td>23.300000</td>\n",
       "      <td>23.100000</td>\n",
       "      <td>24.125000</td>\n",
       "      <td>22.525000</td>\n",
       "    </tr>\n",
       "    <tr>\n",
       "      <th>max</th>\n",
       "      <td>25.500000</td>\n",
       "      <td>25.300000</td>\n",
       "      <td>26.000000</td>\n",
       "      <td>24.900000</td>\n",
       "    </tr>\n",
       "  </tbody>\n",
       "</table>\n",
       "</div>"
      ],
      "text/plain": [
       "         English       Math    Reading    Science\n",
       "count  52.000000  52.000000  52.000000  52.000000\n",
       "mean   20.919231  21.173077  22.001923  21.040385\n",
       "std     2.332132   1.963602   2.048672   3.151113\n",
       "min    16.300000  18.000000  18.100000   2.300000\n",
       "25%    19.000000  19.400000  20.475000  19.900000\n",
       "50%    20.550000  20.900000  21.700000  21.150000\n",
       "75%    23.300000  23.100000  24.125000  22.525000\n",
       "max    25.500000  25.300000  26.000000  24.900000"
      ]
     },
     "execution_count": 11,
     "metadata": {},
     "output_type": "execute_result"
    }
   ],
   "source": [
    "act_2017.describe()"
   ]
  },
  {
   "cell_type": "markdown",
   "metadata": {},
   "source": [
    "<font color=blue>Answer:\n",
    "the min score for ACT Science (2.3) in the data table is significantly lower than the score for other 3 subjects.<br>\n",
    "Find out score 2.3 in Science column belongs to which state in ACT 2017 website   \n",
    "</font>"
   ]
  },
  {
   "cell_type": "code",
   "execution_count": 12,
   "metadata": {},
   "outputs": [
    {
     "data": {
      "text/html": [
       "<div>\n",
       "<style scoped>\n",
       "    .dataframe tbody tr th:only-of-type {\n",
       "        vertical-align: middle;\n",
       "    }\n",
       "\n",
       "    .dataframe tbody tr th {\n",
       "        vertical-align: top;\n",
       "    }\n",
       "\n",
       "    .dataframe thead th {\n",
       "        text-align: right;\n",
       "    }\n",
       "</style>\n",
       "<table border=\"1\" class=\"dataframe\">\n",
       "  <thead>\n",
       "    <tr style=\"text-align: right;\">\n",
       "      <th></th>\n",
       "      <th>State</th>\n",
       "      <th>Participation</th>\n",
       "      <th>English</th>\n",
       "      <th>Math</th>\n",
       "      <th>Reading</th>\n",
       "      <th>Science</th>\n",
       "      <th>Composite</th>\n",
       "    </tr>\n",
       "  </thead>\n",
       "  <tbody>\n",
       "    <tr>\n",
       "      <th>21</th>\n",
       "      <td>Maryland</td>\n",
       "      <td>28%</td>\n",
       "      <td>23.3</td>\n",
       "      <td>23.1</td>\n",
       "      <td>24.2</td>\n",
       "      <td>2.3</td>\n",
       "      <td>23.6</td>\n",
       "    </tr>\n",
       "  </tbody>\n",
       "</table>\n",
       "</div>"
      ],
      "text/plain": [
       "       State Participation  English  Math  Reading  Science Composite\n",
       "21  Maryland           28%     23.3  23.1     24.2      2.3      23.6"
      ]
     },
     "execution_count": 12,
     "metadata": {},
     "output_type": "execute_result"
    }
   ],
   "source": [
    "act_2017.loc[act_2017['Science']==2.3]"
   ]
  },
  {
   "cell_type": "markdown",
   "metadata": {},
   "source": [
    "<font color=blue>The actual Maryland'Science score in ACT 2017 website is '23.2' instead of '2.3'<br>\n",
    "\n",
    "</font>"
   ]
  },
  {
   "cell_type": "code",
   "execution_count": 13,
   "metadata": {},
   "outputs": [
    {
     "data": {
      "text/plain": [
       "18    20.1\n",
       "19    19.6\n",
       "20    23.7\n",
       "21    23.2\n",
       "22    24.7\n",
       "Name: Science, dtype: float64"
      ]
     },
     "execution_count": 13,
     "metadata": {},
     "output_type": "execute_result"
    }
   ],
   "source": [
    "# updating the ACT 2017 science score for Maryland\n",
    "act_2017.loc[21,'Science']=23.2\n",
    "act_2017.loc[18:22,'Science']"
   ]
  },
  {
   "cell_type": "markdown",
   "metadata": {},
   "source": [
    "#### 5. What are your data types? \n",
    "Display the data types of each feature. "
   ]
  },
  {
   "cell_type": "code",
   "execution_count": 14,
   "metadata": {},
   "outputs": [
    {
     "data": {
      "text/plain": [
       "State                                 object\n",
       "Participation                         object\n",
       "Evidence-Based Reading and Writing     int64\n",
       "Math                                   int64\n",
       "Total                                  int64\n",
       "dtype: object"
      ]
     },
     "execution_count": 14,
     "metadata": {},
     "output_type": "execute_result"
    }
   ],
   "source": [
    "#code\n",
    "sat_2017.dtypes"
   ]
  },
  {
   "cell_type": "code",
   "execution_count": 15,
   "metadata": {},
   "outputs": [
    {
     "data": {
      "text/plain": [
       "State             object\n",
       "Participation     object\n",
       "English          float64\n",
       "Math             float64\n",
       "Reading          float64\n",
       "Science          float64\n",
       "Composite         object\n",
       "dtype: object"
      ]
     },
     "execution_count": 15,
     "metadata": {},
     "output_type": "execute_result"
    }
   ],
   "source": [
    "act_2017.dtypes"
   ]
  },
  {
   "cell_type": "markdown",
   "metadata": {},
   "source": [
    "What did you learn?\n",
    "- Do any of them seem odd?  \n",
    "- Which ones are not as they should be?  "
   ]
  },
  {
   "cell_type": "markdown",
   "metadata": {},
   "source": [
    "<font color=blue>Answer:<br>\n",
    "\n",
    "for sat_2017:<br>\n",
    "the State type should be string<br>\n",
    "the Participation type should be numeric (int/float)<br><br>\n",
    "\n",
    "for act_2017:<br>\n",
    "the State type should be string<br>\n",
    "the Participation type should be numeric (int/float)<br>\n",
    "the Composite type should be float<br>\n",
    "\n",
    "</font>"
   ]
  },
  {
   "cell_type": "markdown",
   "metadata": {},
   "source": [
    "#### 6. Fix Incorrect Data Types\n",
    "Based on what you discovered above, use appropriate methods to re-type incorrectly typed data.\n",
    "- Define a function that will allow you to convert participation rates to an appropriate numeric type. Use `map` or `apply` to change these columns in each dataframe."
   ]
  },
  {
   "cell_type": "code",
   "execution_count": 16,
   "metadata": {},
   "outputs": [],
   "source": [
    "sat_2017['Participation']=sat_2017['Participation'].apply(lambda x:float(x.replace('%','')))"
   ]
  },
  {
   "cell_type": "code",
   "execution_count": 17,
   "metadata": {},
   "outputs": [
    {
     "data": {
      "text/plain": [
       "State                                  object\n",
       "Participation                         float64\n",
       "Evidence-Based Reading and Writing      int64\n",
       "Math                                    int64\n",
       "Total                                   int64\n",
       "dtype: object"
      ]
     },
     "execution_count": 17,
     "metadata": {},
     "output_type": "execute_result"
    }
   ],
   "source": [
    "sat_2017.dtypes"
   ]
  },
  {
   "cell_type": "code",
   "execution_count": 18,
   "metadata": {},
   "outputs": [],
   "source": [
    "act_2017['Participation']=act_2017['Participation'].apply(lambda x:float(x.replace('%','')))"
   ]
  },
  {
   "cell_type": "code",
   "execution_count": 19,
   "metadata": {},
   "outputs": [
    {
     "data": {
      "text/plain": [
       "State             object\n",
       "Participation    float64\n",
       "English          float64\n",
       "Math             float64\n",
       "Reading          float64\n",
       "Science          float64\n",
       "Composite         object\n",
       "dtype: object"
      ]
     },
     "execution_count": 19,
     "metadata": {},
     "output_type": "execute_result"
    }
   ],
   "source": [
    "act_2017.dtypes"
   ]
  },
  {
   "cell_type": "markdown",
   "metadata": {},
   "source": [
    "- Fix any individual values preventing other columns from being the appropriate type.\n",
    "\n"
   ]
  },
  {
   "cell_type": "code",
   "execution_count": 20,
   "metadata": {},
   "outputs": [
    {
     "ename": "ValueError",
     "evalue": "could not convert string to float: '20.2x'",
     "output_type": "error",
     "traceback": [
      "\u001b[1;31m---------------------------------------------------------------------------\u001b[0m",
      "\u001b[1;31mValueError\u001b[0m                                Traceback (most recent call last)",
      "\u001b[1;32m<ipython-input-20-a9db0f805371>\u001b[0m in \u001b[0;36m<module>\u001b[1;34m\u001b[0m\n\u001b[1;32m----> 1\u001b[1;33m \u001b[0mact_2017\u001b[0m\u001b[1;33m[\u001b[0m\u001b[1;34m'Composite'\u001b[0m\u001b[1;33m]\u001b[0m\u001b[1;33m=\u001b[0m\u001b[0mact_2017\u001b[0m\u001b[1;33m[\u001b[0m\u001b[1;34m'Composite'\u001b[0m\u001b[1;33m]\u001b[0m\u001b[1;33m.\u001b[0m\u001b[0mapply\u001b[0m\u001b[1;33m(\u001b[0m\u001b[1;32mlambda\u001b[0m \u001b[0mx\u001b[0m\u001b[1;33m:\u001b[0m\u001b[0mfloat\u001b[0m\u001b[1;33m(\u001b[0m\u001b[0mx\u001b[0m\u001b[1;33m.\u001b[0m\u001b[0mreplace\u001b[0m\u001b[1;33m(\u001b[0m\u001b[1;34m'%'\u001b[0m\u001b[1;33m,\u001b[0m\u001b[1;34m''\u001b[0m\u001b[1;33m)\u001b[0m\u001b[1;33m)\u001b[0m\u001b[1;33m)\u001b[0m\u001b[1;33m\u001b[0m\u001b[1;33m\u001b[0m\u001b[0m\n\u001b[0m",
      "\u001b[1;32m~\\Anaconda3\\lib\\site-packages\\pandas\\core\\series.py\u001b[0m in \u001b[0;36mapply\u001b[1;34m(self, func, convert_dtype, args, **kwds)\u001b[0m\n\u001b[0;32m   3589\u001b[0m             \u001b[1;32melse\u001b[0m\u001b[1;33m:\u001b[0m\u001b[1;33m\u001b[0m\u001b[1;33m\u001b[0m\u001b[0m\n\u001b[0;32m   3590\u001b[0m                 \u001b[0mvalues\u001b[0m \u001b[1;33m=\u001b[0m \u001b[0mself\u001b[0m\u001b[1;33m.\u001b[0m\u001b[0mastype\u001b[0m\u001b[1;33m(\u001b[0m\u001b[0mobject\u001b[0m\u001b[1;33m)\u001b[0m\u001b[1;33m.\u001b[0m\u001b[0mvalues\u001b[0m\u001b[1;33m\u001b[0m\u001b[1;33m\u001b[0m\u001b[0m\n\u001b[1;32m-> 3591\u001b[1;33m                 \u001b[0mmapped\u001b[0m \u001b[1;33m=\u001b[0m \u001b[0mlib\u001b[0m\u001b[1;33m.\u001b[0m\u001b[0mmap_infer\u001b[0m\u001b[1;33m(\u001b[0m\u001b[0mvalues\u001b[0m\u001b[1;33m,\u001b[0m \u001b[0mf\u001b[0m\u001b[1;33m,\u001b[0m \u001b[0mconvert\u001b[0m\u001b[1;33m=\u001b[0m\u001b[0mconvert_dtype\u001b[0m\u001b[1;33m)\u001b[0m\u001b[1;33m\u001b[0m\u001b[1;33m\u001b[0m\u001b[0m\n\u001b[0m\u001b[0;32m   3592\u001b[0m \u001b[1;33m\u001b[0m\u001b[0m\n\u001b[0;32m   3593\u001b[0m         \u001b[1;32mif\u001b[0m \u001b[0mlen\u001b[0m\u001b[1;33m(\u001b[0m\u001b[0mmapped\u001b[0m\u001b[1;33m)\u001b[0m \u001b[1;32mand\u001b[0m \u001b[0misinstance\u001b[0m\u001b[1;33m(\u001b[0m\u001b[0mmapped\u001b[0m\u001b[1;33m[\u001b[0m\u001b[1;36m0\u001b[0m\u001b[1;33m]\u001b[0m\u001b[1;33m,\u001b[0m \u001b[0mSeries\u001b[0m\u001b[1;33m)\u001b[0m\u001b[1;33m:\u001b[0m\u001b[1;33m\u001b[0m\u001b[1;33m\u001b[0m\u001b[0m\n",
      "\u001b[1;32mpandas/_libs/lib.pyx\u001b[0m in \u001b[0;36mpandas._libs.lib.map_infer\u001b[1;34m()\u001b[0m\n",
      "\u001b[1;32m<ipython-input-20-a9db0f805371>\u001b[0m in \u001b[0;36m<lambda>\u001b[1;34m(x)\u001b[0m\n\u001b[1;32m----> 1\u001b[1;33m \u001b[0mact_2017\u001b[0m\u001b[1;33m[\u001b[0m\u001b[1;34m'Composite'\u001b[0m\u001b[1;33m]\u001b[0m\u001b[1;33m=\u001b[0m\u001b[0mact_2017\u001b[0m\u001b[1;33m[\u001b[0m\u001b[1;34m'Composite'\u001b[0m\u001b[1;33m]\u001b[0m\u001b[1;33m.\u001b[0m\u001b[0mapply\u001b[0m\u001b[1;33m(\u001b[0m\u001b[1;32mlambda\u001b[0m \u001b[0mx\u001b[0m\u001b[1;33m:\u001b[0m\u001b[0mfloat\u001b[0m\u001b[1;33m(\u001b[0m\u001b[0mx\u001b[0m\u001b[1;33m.\u001b[0m\u001b[0mreplace\u001b[0m\u001b[1;33m(\u001b[0m\u001b[1;34m'%'\u001b[0m\u001b[1;33m,\u001b[0m\u001b[1;34m''\u001b[0m\u001b[1;33m)\u001b[0m\u001b[1;33m)\u001b[0m\u001b[1;33m)\u001b[0m\u001b[1;33m\u001b[0m\u001b[1;33m\u001b[0m\u001b[0m\n\u001b[0m",
      "\u001b[1;31mValueError\u001b[0m: could not convert string to float: '20.2x'"
     ]
    }
   ],
   "source": [
    "act_2017['Composite']=act_2017['Composite'].apply(lambda x:float(x.replace('%','')))"
   ]
  },
  {
   "cell_type": "code",
   "execution_count": 23,
   "metadata": {},
   "outputs": [
    {
     "data": {
      "text/plain": [
       "0     False\n",
       "1     False\n",
       "2     False\n",
       "3     False\n",
       "4     False\n",
       "5     False\n",
       "6     False\n",
       "7     False\n",
       "8     False\n",
       "9     False\n",
       "10    False\n",
       "11    False\n",
       "12    False\n",
       "13    False\n",
       "14    False\n",
       "15    False\n",
       "16    False\n",
       "17    False\n",
       "18    False\n",
       "19    False\n",
       "20    False\n",
       "21    False\n",
       "22    False\n",
       "23    False\n",
       "24    False\n",
       "25    False\n",
       "26    False\n",
       "27    False\n",
       "28    False\n",
       "29    False\n",
       "30    False\n",
       "31    False\n",
       "32    False\n",
       "33    False\n",
       "34    False\n",
       "35    False\n",
       "36    False\n",
       "37    False\n",
       "38    False\n",
       "39    False\n",
       "40    False\n",
       "41    False\n",
       "42    False\n",
       "43    False\n",
       "44    False\n",
       "45    False\n",
       "46    False\n",
       "47    False\n",
       "48    False\n",
       "49    False\n",
       "50    False\n",
       "51     True\n",
       "Name: Composite, dtype: bool"
      ]
     },
     "execution_count": 23,
     "metadata": {},
     "output_type": "execute_result"
    }
   ],
   "source": [
    "# find which data comprises \"20.2x\"\n",
    "act_2017.iloc[:,6]=='20.2x'"
   ]
  },
  {
   "cell_type": "markdown",
   "metadata": {},
   "source": [
    "<font color=blue>row with index number 51, State:Wyoming comprise non-float entry<br>\n",
    "Counter check on data source to verift the correcr information<br>\n",
    "The actual Wyoming'Composite score in ACT 2017 website is '20.2' instead of '20.2x'<br>"
   ]
  },
  {
   "cell_type": "code",
   "execution_count": 24,
   "metadata": {},
   "outputs": [],
   "source": [
    "# update Wyoming'Composite score in ACT 2017 to '20.2'\n",
    "\n",
    "act_2017.iloc[51,6]=20.2"
   ]
  },
  {
   "cell_type": "code",
   "execution_count": 25,
   "metadata": {},
   "outputs": [
    {
     "data": {
      "text/plain": [
       "49    20.4\n",
       "50    20.5\n",
       "51    20.2\n",
       "Name: Composite, dtype: object"
      ]
     },
     "execution_count": 25,
     "metadata": {},
     "output_type": "execute_result"
    }
   ],
   "source": [
    "act_2017.iloc[49:,6]"
   ]
  },
  {
   "cell_type": "code",
   "execution_count": 26,
   "metadata": {},
   "outputs": [],
   "source": [
    "act_2017['Composite']=act_2017['Composite'].apply(lambda x:float(x))"
   ]
  },
  {
   "cell_type": "code",
   "execution_count": 27,
   "metadata": {},
   "outputs": [
    {
     "data": {
      "text/plain": [
       "State             object\n",
       "Participation    float64\n",
       "English          float64\n",
       "Math             float64\n",
       "Reading          float64\n",
       "Science          float64\n",
       "Composite        float64\n",
       "dtype: object"
      ]
     },
     "execution_count": 27,
     "metadata": {},
     "output_type": "execute_result"
    }
   ],
   "source": [
    "act_2017.dtypes"
   ]
  },
  {
   "cell_type": "markdown",
   "metadata": {},
   "source": [
    "- Finish your data modifications by making sure the columns are now typed appropriately."
   ]
  },
  {
   "cell_type": "markdown",
   "metadata": {},
   "source": [
    "- Display the data types again to confirm they are correct."
   ]
  },
  {
   "cell_type": "code",
   "execution_count": 28,
   "metadata": {},
   "outputs": [
    {
     "data": {
      "text/plain": [
       "State                                  object\n",
       "Participation                         float64\n",
       "Evidence-Based Reading and Writing      int64\n",
       "Math                                    int64\n",
       "Total                                   int64\n",
       "dtype: object"
      ]
     },
     "execution_count": 28,
     "metadata": {},
     "output_type": "execute_result"
    }
   ],
   "source": [
    "#Code:\n",
    "sat_2017.dtypes"
   ]
  },
  {
   "cell_type": "code",
   "execution_count": 29,
   "metadata": {},
   "outputs": [
    {
     "data": {
      "text/plain": [
       "State             object\n",
       "Participation    float64\n",
       "English          float64\n",
       "Math             float64\n",
       "Reading          float64\n",
       "Science          float64\n",
       "Composite        float64\n",
       "dtype: object"
      ]
     },
     "execution_count": 29,
     "metadata": {},
     "output_type": "execute_result"
    }
   ],
   "source": [
    "act_2017.dtypes"
   ]
  },
  {
   "cell_type": "markdown",
   "metadata": {},
   "source": [
    "#### 7. Rename Columns\n",
    "Change the names of the columns to more expressive names so that you can tell the difference the SAT columns and the ACT columns. Your solution should map all column names being changed at once (no repeated singular name-changes). **We will be combining these data with some of the data from 2018, and so you should name columns in an appropriate way**.\n",
    "\n",
    "**Guidelines**:\n",
    "- Column names should be all lowercase (you will thank yourself when you start pushing data to SQL later in the course)\n",
    "- Column names should not contain spaces (underscores will suffice--this allows for using the `df.column_name` method to access columns in addition to `df['column_name']`.\n",
    "- Column names should be unique and informative (the only feature that we actually share between dataframes is the state)."
   ]
  },
  {
   "cell_type": "code",
   "execution_count": 30,
   "metadata": {},
   "outputs": [],
   "source": [
    "#code\n",
    "sat_2017=sat_2017.rename(columns={'State':'state','Participation':'sat_17_participation','Evidence-Based Reading and Writing':'sat_17_ebrw','Math':'sat_17_math','Total':'sat_17_total'})"
   ]
  },
  {
   "cell_type": "code",
   "execution_count": 31,
   "metadata": {},
   "outputs": [
    {
     "data": {
      "text/html": [
       "<div>\n",
       "<style scoped>\n",
       "    .dataframe tbody tr th:only-of-type {\n",
       "        vertical-align: middle;\n",
       "    }\n",
       "\n",
       "    .dataframe tbody tr th {\n",
       "        vertical-align: top;\n",
       "    }\n",
       "\n",
       "    .dataframe thead th {\n",
       "        text-align: right;\n",
       "    }\n",
       "</style>\n",
       "<table border=\"1\" class=\"dataframe\">\n",
       "  <thead>\n",
       "    <tr style=\"text-align: right;\">\n",
       "      <th></th>\n",
       "      <th>state</th>\n",
       "      <th>sat_17_participation</th>\n",
       "      <th>sat_17_ebrw</th>\n",
       "      <th>sat_17_math</th>\n",
       "      <th>sat_17_total</th>\n",
       "    </tr>\n",
       "  </thead>\n",
       "  <tbody>\n",
       "    <tr>\n",
       "      <th>0</th>\n",
       "      <td>Alabama</td>\n",
       "      <td>5.0</td>\n",
       "      <td>593</td>\n",
       "      <td>572</td>\n",
       "      <td>1165</td>\n",
       "    </tr>\n",
       "    <tr>\n",
       "      <th>1</th>\n",
       "      <td>Alaska</td>\n",
       "      <td>38.0</td>\n",
       "      <td>547</td>\n",
       "      <td>533</td>\n",
       "      <td>1080</td>\n",
       "    </tr>\n",
       "  </tbody>\n",
       "</table>\n",
       "</div>"
      ],
      "text/plain": [
       "     state  sat_17_participation  sat_17_ebrw  sat_17_math  sat_17_total\n",
       "0  Alabama                   5.0          593          572          1165\n",
       "1   Alaska                  38.0          547          533          1080"
      ]
     },
     "execution_count": 31,
     "metadata": {},
     "output_type": "execute_result"
    }
   ],
   "source": [
    "sat_2017.head(2)"
   ]
  },
  {
   "cell_type": "code",
   "execution_count": 34,
   "metadata": {},
   "outputs": [],
   "source": [
    "act_2017=act_2017.rename(columns={'State':'state','Participation':'act_17_participation','English':'act_17_english','Math':'act_17_math','Reading':'act_17_reading','Science':'act_17_science','Composite':'act_17_composite'})"
   ]
  },
  {
   "cell_type": "code",
   "execution_count": 35,
   "metadata": {},
   "outputs": [
    {
     "data": {
      "text/html": [
       "<div>\n",
       "<style scoped>\n",
       "    .dataframe tbody tr th:only-of-type {\n",
       "        vertical-align: middle;\n",
       "    }\n",
       "\n",
       "    .dataframe tbody tr th {\n",
       "        vertical-align: top;\n",
       "    }\n",
       "\n",
       "    .dataframe thead th {\n",
       "        text-align: right;\n",
       "    }\n",
       "</style>\n",
       "<table border=\"1\" class=\"dataframe\">\n",
       "  <thead>\n",
       "    <tr style=\"text-align: right;\">\n",
       "      <th></th>\n",
       "      <th>state</th>\n",
       "      <th>act_17_participation</th>\n",
       "      <th>act_17_english</th>\n",
       "      <th>act_17_math</th>\n",
       "      <th>act_17_reading</th>\n",
       "      <th>act_17_science</th>\n",
       "      <th>act_17_composite</th>\n",
       "    </tr>\n",
       "  </thead>\n",
       "  <tbody>\n",
       "    <tr>\n",
       "      <th>0</th>\n",
       "      <td>National</td>\n",
       "      <td>60.0</td>\n",
       "      <td>20.3</td>\n",
       "      <td>20.7</td>\n",
       "      <td>21.4</td>\n",
       "      <td>21.0</td>\n",
       "      <td>21.0</td>\n",
       "    </tr>\n",
       "    <tr>\n",
       "      <th>1</th>\n",
       "      <td>Alabama</td>\n",
       "      <td>100.0</td>\n",
       "      <td>18.9</td>\n",
       "      <td>18.4</td>\n",
       "      <td>19.7</td>\n",
       "      <td>19.4</td>\n",
       "      <td>19.2</td>\n",
       "    </tr>\n",
       "  </tbody>\n",
       "</table>\n",
       "</div>"
      ],
      "text/plain": [
       "      state  act_17_participation  act_17_english  act_17_math  \\\n",
       "0  National                  60.0            20.3         20.7   \n",
       "1   Alabama                 100.0            18.9         18.4   \n",
       "\n",
       "   act_17_reading  act_17_science  act_17_composite  \n",
       "0            21.4            21.0              21.0  \n",
       "1            19.7            19.4              19.2  "
      ]
     },
     "execution_count": 35,
     "metadata": {},
     "output_type": "execute_result"
    }
   ],
   "source": [
    "act_2017.head(2)"
   ]
  },
  {
   "cell_type": "markdown",
   "metadata": {},
   "source": [
    "#### 8. Create a data dictionary\n",
    "\n",
    "Now that we've fixed our data, and given it appropriate names, let's create a [data dictionary](http://library.ucmerced.edu/node/10249). \n",
    "\n",
    "A data dictionary provides a quick overview of features/variables/columns, alongside data types and descriptions. The more descriptive you can be, the more useful this document is.\n",
    "\n",
    "Example of a Fictional Data Dictionary Entry: \n",
    "\n",
    "|Feature|Type|Dataset|Description|\n",
    "|---|---|---|---|\n",
    "|**county_pop**|*integer*|2010 census|The population of the county (units in thousands, where 2.5 represents 2500 people).| \n",
    "|**per_poverty**|*float*|2010 census|The percent of the county over the age of 18 living below the 200% of official US poverty rate (units percent to two decimal places 98.10 means 98.1%)|\n",
    "\n",
    "[Here's a quick link to a short guide for formatting markdown in Jupyter notebooks](https://jupyter-notebook.readthedocs.io/en/stable/examples/Notebook/Working%20With%20Markdown%20Cells.html).\n",
    "\n",
    "Provided is the skeleton for formatting a markdown table, with columns headers that will help you create a data dictionary to quickly summarize your data, as well as some examples. **This would be a great thing to copy and paste into your custom README for this project.**"
   ]
  },
  {
   "cell_type": "markdown",
   "metadata": {},
   "source": [
    "|Feature|Type|Dataset|Description|\n",
    "|---|---|---|---|\n",
    "|column name|int/float/object|ACT/SAT|This is an example| \n"
   ]
  },
  {
   "cell_type": "markdown",
   "metadata": {},
   "source": [
    "|Feature|Type|Dataset|Description|\n",
    "|---|---|---|---|\n",
    "|state|object|SAT & ACT|Participating States for SAT,ACT year 2017 & 2018| \n",
    "|sat_17_participation|int|SAT|Participating rates for SAT year 2017|\n",
    "|sat_17_ebrw|float|SAT|Evidence-Based Reading and Writing score for SAT year 2017|\n",
    "|sat_17_math|float/|SAT|Math score for SAT year 2017|\n",
    "|sat_17_total|float|SAT|Total score for SAT year 2017|\n",
    "|act_17_participation|float|ACT|Participating rates for ACT year 2017|\n",
    "|act_17_english|float|ACT|English score for ACT year 2017|\n",
    "|act_17_math|float|ACT|Math score for ACT year 2017|\n",
    "|act_17_reading|float|ACT|Reading score for ACT year 2017|\n",
    "|act_17_science|float|ACT|Science score for ACT year 2017|\n",
    "|act_17_composite|object|ACT|Composite score for ACT year 2017|"
   ]
  },
  {
   "cell_type": "markdown",
   "metadata": {},
   "source": [
    "#### 9. Drop unnecessary rows\n",
    "\n",
    "One of our dataframes contains an extra row. Identify and remove this from the dataframe."
   ]
  },
  {
   "cell_type": "code",
   "execution_count": 36,
   "metadata": {},
   "outputs": [
    {
     "data": {
      "text/html": [
       "<div>\n",
       "<style scoped>\n",
       "    .dataframe tbody tr th:only-of-type {\n",
       "        vertical-align: middle;\n",
       "    }\n",
       "\n",
       "    .dataframe tbody tr th {\n",
       "        vertical-align: top;\n",
       "    }\n",
       "\n",
       "    .dataframe thead th {\n",
       "        text-align: right;\n",
       "    }\n",
       "</style>\n",
       "<table border=\"1\" class=\"dataframe\">\n",
       "  <thead>\n",
       "    <tr style=\"text-align: right;\">\n",
       "      <th></th>\n",
       "      <th>state</th>\n",
       "      <th>act_17_participation</th>\n",
       "      <th>act_17_english</th>\n",
       "      <th>act_17_math</th>\n",
       "      <th>act_17_reading</th>\n",
       "      <th>act_17_science</th>\n",
       "      <th>act_17_composite</th>\n",
       "    </tr>\n",
       "  </thead>\n",
       "  <tbody>\n",
       "    <tr>\n",
       "      <th>0</th>\n",
       "      <td>National</td>\n",
       "      <td>60.0</td>\n",
       "      <td>20.3</td>\n",
       "      <td>20.7</td>\n",
       "      <td>21.4</td>\n",
       "      <td>21.0</td>\n",
       "      <td>21.0</td>\n",
       "    </tr>\n",
       "    <tr>\n",
       "      <th>1</th>\n",
       "      <td>Alabama</td>\n",
       "      <td>100.0</td>\n",
       "      <td>18.9</td>\n",
       "      <td>18.4</td>\n",
       "      <td>19.7</td>\n",
       "      <td>19.4</td>\n",
       "      <td>19.2</td>\n",
       "    </tr>\n",
       "    <tr>\n",
       "      <th>2</th>\n",
       "      <td>Alaska</td>\n",
       "      <td>65.0</td>\n",
       "      <td>18.7</td>\n",
       "      <td>19.8</td>\n",
       "      <td>20.4</td>\n",
       "      <td>19.9</td>\n",
       "      <td>19.8</td>\n",
       "    </tr>\n",
       "  </tbody>\n",
       "</table>\n",
       "</div>"
      ],
      "text/plain": [
       "      state  act_17_participation  act_17_english  act_17_math  \\\n",
       "0  National                  60.0            20.3         20.7   \n",
       "1   Alabama                 100.0            18.9         18.4   \n",
       "2    Alaska                  65.0            18.7         19.8   \n",
       "\n",
       "   act_17_reading  act_17_science  act_17_composite  \n",
       "0            21.4            21.0              21.0  \n",
       "1            19.7            19.4              19.2  \n",
       "2            20.4            19.9              19.8  "
      ]
     },
     "execution_count": 36,
     "metadata": {},
     "output_type": "execute_result"
    }
   ],
   "source": [
    "# act_2017 has an additional row wit state 'National'\n",
    "act_2017.head(3)"
   ]
  },
  {
   "cell_type": "code",
   "execution_count": 37,
   "metadata": {},
   "outputs": [],
   "source": [
    "#code\n",
    "act_2017.drop(0,axis=0,inplace=True)"
   ]
  },
  {
   "cell_type": "code",
   "execution_count": 38,
   "metadata": {},
   "outputs": [
    {
     "data": {
      "text/html": [
       "<div>\n",
       "<style scoped>\n",
       "    .dataframe tbody tr th:only-of-type {\n",
       "        vertical-align: middle;\n",
       "    }\n",
       "\n",
       "    .dataframe tbody tr th {\n",
       "        vertical-align: top;\n",
       "    }\n",
       "\n",
       "    .dataframe thead th {\n",
       "        text-align: right;\n",
       "    }\n",
       "</style>\n",
       "<table border=\"1\" class=\"dataframe\">\n",
       "  <thead>\n",
       "    <tr style=\"text-align: right;\">\n",
       "      <th></th>\n",
       "      <th>state</th>\n",
       "      <th>act_17_participation</th>\n",
       "      <th>act_17_english</th>\n",
       "      <th>act_17_math</th>\n",
       "      <th>act_17_reading</th>\n",
       "      <th>act_17_science</th>\n",
       "      <th>act_17_composite</th>\n",
       "    </tr>\n",
       "  </thead>\n",
       "  <tbody>\n",
       "    <tr>\n",
       "      <th>1</th>\n",
       "      <td>Alabama</td>\n",
       "      <td>100.0</td>\n",
       "      <td>18.9</td>\n",
       "      <td>18.4</td>\n",
       "      <td>19.7</td>\n",
       "      <td>19.4</td>\n",
       "      <td>19.2</td>\n",
       "    </tr>\n",
       "    <tr>\n",
       "      <th>2</th>\n",
       "      <td>Alaska</td>\n",
       "      <td>65.0</td>\n",
       "      <td>18.7</td>\n",
       "      <td>19.8</td>\n",
       "      <td>20.4</td>\n",
       "      <td>19.9</td>\n",
       "      <td>19.8</td>\n",
       "    </tr>\n",
       "    <tr>\n",
       "      <th>3</th>\n",
       "      <td>Arizona</td>\n",
       "      <td>62.0</td>\n",
       "      <td>18.6</td>\n",
       "      <td>19.8</td>\n",
       "      <td>20.1</td>\n",
       "      <td>19.8</td>\n",
       "      <td>19.7</td>\n",
       "    </tr>\n",
       "  </tbody>\n",
       "</table>\n",
       "</div>"
      ],
      "text/plain": [
       "     state  act_17_participation  act_17_english  act_17_math  act_17_reading  \\\n",
       "1  Alabama                 100.0            18.9         18.4            19.7   \n",
       "2   Alaska                  65.0            18.7         19.8            20.4   \n",
       "3  Arizona                  62.0            18.6         19.8            20.1   \n",
       "\n",
       "   act_17_science  act_17_composite  \n",
       "1            19.4              19.2  \n",
       "2            19.9              19.8  \n",
       "3            19.8              19.7  "
      ]
     },
     "execution_count": 38,
     "metadata": {},
     "output_type": "execute_result"
    }
   ],
   "source": [
    "act_2017.head(3)"
   ]
  },
  {
   "cell_type": "markdown",
   "metadata": {},
   "source": [
    "#### 10. Merge Dataframes\n",
    "\n",
    "Join the 2017 ACT and SAT dataframes using the state in each dataframe as the key. Assign this to a new variable."
   ]
  },
  {
   "cell_type": "code",
   "execution_count": 39,
   "metadata": {},
   "outputs": [],
   "source": [
    "#Code:\n",
    "combined_17=pd.merge(sat_2017,act_2017,left_on='state',right_on='state',how='outer')"
   ]
  },
  {
   "cell_type": "code",
   "execution_count": 40,
   "metadata": {},
   "outputs": [
    {
     "data": {
      "text/html": [
       "<div>\n",
       "<style scoped>\n",
       "    .dataframe tbody tr th:only-of-type {\n",
       "        vertical-align: middle;\n",
       "    }\n",
       "\n",
       "    .dataframe tbody tr th {\n",
       "        vertical-align: top;\n",
       "    }\n",
       "\n",
       "    .dataframe thead th {\n",
       "        text-align: right;\n",
       "    }\n",
       "</style>\n",
       "<table border=\"1\" class=\"dataframe\">\n",
       "  <thead>\n",
       "    <tr style=\"text-align: right;\">\n",
       "      <th></th>\n",
       "      <th>state</th>\n",
       "      <th>sat_17_participation</th>\n",
       "      <th>sat_17_ebrw</th>\n",
       "      <th>sat_17_math</th>\n",
       "      <th>sat_17_total</th>\n",
       "      <th>act_17_participation</th>\n",
       "      <th>act_17_english</th>\n",
       "      <th>act_17_math</th>\n",
       "      <th>act_17_reading</th>\n",
       "      <th>act_17_science</th>\n",
       "      <th>act_17_composite</th>\n",
       "    </tr>\n",
       "  </thead>\n",
       "  <tbody>\n",
       "    <tr>\n",
       "      <th>0</th>\n",
       "      <td>Alabama</td>\n",
       "      <td>5.0</td>\n",
       "      <td>593</td>\n",
       "      <td>572</td>\n",
       "      <td>1165</td>\n",
       "      <td>100.0</td>\n",
       "      <td>18.9</td>\n",
       "      <td>18.4</td>\n",
       "      <td>19.7</td>\n",
       "      <td>19.4</td>\n",
       "      <td>19.2</td>\n",
       "    </tr>\n",
       "    <tr>\n",
       "      <th>1</th>\n",
       "      <td>Alaska</td>\n",
       "      <td>38.0</td>\n",
       "      <td>547</td>\n",
       "      <td>533</td>\n",
       "      <td>1080</td>\n",
       "      <td>65.0</td>\n",
       "      <td>18.7</td>\n",
       "      <td>19.8</td>\n",
       "      <td>20.4</td>\n",
       "      <td>19.9</td>\n",
       "      <td>19.8</td>\n",
       "    </tr>\n",
       "    <tr>\n",
       "      <th>2</th>\n",
       "      <td>Arizona</td>\n",
       "      <td>30.0</td>\n",
       "      <td>563</td>\n",
       "      <td>553</td>\n",
       "      <td>1116</td>\n",
       "      <td>62.0</td>\n",
       "      <td>18.6</td>\n",
       "      <td>19.8</td>\n",
       "      <td>20.1</td>\n",
       "      <td>19.8</td>\n",
       "      <td>19.7</td>\n",
       "    </tr>\n",
       "  </tbody>\n",
       "</table>\n",
       "</div>"
      ],
      "text/plain": [
       "     state  sat_17_participation  sat_17_ebrw  sat_17_math  sat_17_total  \\\n",
       "0  Alabama                   5.0          593          572          1165   \n",
       "1   Alaska                  38.0          547          533          1080   \n",
       "2  Arizona                  30.0          563          553          1116   \n",
       "\n",
       "   act_17_participation  act_17_english  act_17_math  act_17_reading  \\\n",
       "0                 100.0            18.9         18.4            19.7   \n",
       "1                  65.0            18.7         19.8            20.4   \n",
       "2                  62.0            18.6         19.8            20.1   \n",
       "\n",
       "   act_17_science  act_17_composite  \n",
       "0            19.4              19.2  \n",
       "1            19.9              19.8  \n",
       "2            19.8              19.7  "
      ]
     },
     "execution_count": 40,
     "metadata": {},
     "output_type": "execute_result"
    }
   ],
   "source": [
    "combined_17.head(3)"
   ]
  },
  {
   "cell_type": "code",
   "execution_count": 41,
   "metadata": {},
   "outputs": [
    {
     "name": "stdout",
     "output_type": "stream",
     "text": [
      "<class 'pandas.core.frame.DataFrame'>\n",
      "Int64Index: 51 entries, 0 to 50\n",
      "Data columns (total 11 columns):\n",
      "state                   51 non-null object\n",
      "sat_17_participation    51 non-null float64\n",
      "sat_17_ebrw             51 non-null int64\n",
      "sat_17_math             51 non-null int64\n",
      "sat_17_total            51 non-null int64\n",
      "act_17_participation    51 non-null float64\n",
      "act_17_english          51 non-null float64\n",
      "act_17_math             51 non-null float64\n",
      "act_17_reading          51 non-null float64\n",
      "act_17_science          51 non-null float64\n",
      "act_17_composite        51 non-null float64\n",
      "dtypes: float64(7), int64(3), object(1)\n",
      "memory usage: 4.8+ KB\n"
     ]
    }
   ],
   "source": [
    "combined_17.info()"
   ]
  },
  {
   "cell_type": "markdown",
   "metadata": {},
   "source": [
    "#### 11. Save your cleaned, merged dataframe\n",
    "\n",
    "Use a relative path to save out your data as `combined_2017.csv`."
   ]
  },
  {
   "cell_type": "code",
   "execution_count": 42,
   "metadata": {},
   "outputs": [
    {
     "data": {
      "text/plain": [
       "state                    object\n",
       "sat_17_participation    float64\n",
       "sat_17_ebrw               int64\n",
       "sat_17_math               int64\n",
       "sat_17_total              int64\n",
       "act_17_participation    float64\n",
       "act_17_english          float64\n",
       "act_17_math             float64\n",
       "act_17_reading          float64\n",
       "act_17_science          float64\n",
       "act_17_composite        float64\n",
       "dtype: object"
      ]
     },
     "execution_count": 42,
     "metadata": {},
     "output_type": "execute_result"
    }
   ],
   "source": [
    "combined_17.dtypes"
   ]
  },
  {
   "cell_type": "code",
   "execution_count": 43,
   "metadata": {},
   "outputs": [],
   "source": [
    "#code\n",
    "combined_17.to_csv('combined_17.csv')"
   ]
  },
  {
   "cell_type": "markdown",
   "metadata": {},
   "source": [
    "## 2018 Data Import and Cleaning"
   ]
  },
  {
   "cell_type": "markdown",
   "metadata": {},
   "source": [
    "Links to the 2018 ACT and SAT data are provided in the README. These data live in PDFs, and so you'll get to enjoy practicing some *manual* data collection. Save these data as a CSV in your `data` directory, and import, explore, and clean these data in the same way you did above. **Make sure you comment on your steps so it is clear *why* you are doing each process**."
   ]
  },
  {
   "cell_type": "markdown",
   "metadata": {},
   "source": [
    "<font color=blue>1. Import and read csv files\n",
    "</font>"
   ]
  },
  {
   "cell_type": "code",
   "execution_count": 44,
   "metadata": {},
   "outputs": [],
   "source": [
    "# act_2018 csv was found to be incomplete\n",
    "# hence a new act_2018 csv file was saved by copying info from online, pasted in excel and saved as csv\n",
    "pd.read_csv(r\"C:\\Users\\user\\Desktop\\GAClasswork\\classes\\Project1234\\project_1\\data\\sat_2018.csv\")\n",
    "pd.read_csv(r\"C:\\Users\\user\\Desktop\\GAClasswork\\classes\\Project1234\\project_1\\data\\act_20182.csv\")\n",
    "\n",
    "\n",
    "# 1. import and read csv file\n",
    "sat_2018=pd.read_csv('sat_2018.csv')\n",
    "act_2018=pd.read_csv('act_20182.csv')\n"
   ]
  },
  {
   "cell_type": "markdown",
   "metadata": {},
   "source": [
    "<font color=blue>2. Check how does the table looks like by using.head()\n",
    "</font>"
   ]
  },
  {
   "cell_type": "code",
   "execution_count": 45,
   "metadata": {},
   "outputs": [
    {
     "data": {
      "text/html": [
       "<div>\n",
       "<style scoped>\n",
       "    .dataframe tbody tr th:only-of-type {\n",
       "        vertical-align: middle;\n",
       "    }\n",
       "\n",
       "    .dataframe tbody tr th {\n",
       "        vertical-align: top;\n",
       "    }\n",
       "\n",
       "    .dataframe thead th {\n",
       "        text-align: right;\n",
       "    }\n",
       "</style>\n",
       "<table border=\"1\" class=\"dataframe\">\n",
       "  <thead>\n",
       "    <tr style=\"text-align: right;\">\n",
       "      <th></th>\n",
       "      <th>State</th>\n",
       "      <th>Participation</th>\n",
       "      <th>Evidence-Based Reading and Writing</th>\n",
       "      <th>Math</th>\n",
       "      <th>Total</th>\n",
       "    </tr>\n",
       "  </thead>\n",
       "  <tbody>\n",
       "    <tr>\n",
       "      <th>0</th>\n",
       "      <td>Alabama</td>\n",
       "      <td>6%</td>\n",
       "      <td>595</td>\n",
       "      <td>571</td>\n",
       "      <td>1166</td>\n",
       "    </tr>\n",
       "    <tr>\n",
       "      <th>1</th>\n",
       "      <td>Alaska</td>\n",
       "      <td>43%</td>\n",
       "      <td>562</td>\n",
       "      <td>544</td>\n",
       "      <td>1106</td>\n",
       "    </tr>\n",
       "    <tr>\n",
       "      <th>2</th>\n",
       "      <td>Arizona</td>\n",
       "      <td>29%</td>\n",
       "      <td>577</td>\n",
       "      <td>572</td>\n",
       "      <td>1149</td>\n",
       "    </tr>\n",
       "    <tr>\n",
       "      <th>3</th>\n",
       "      <td>Arkansas</td>\n",
       "      <td>5%</td>\n",
       "      <td>592</td>\n",
       "      <td>576</td>\n",
       "      <td>1169</td>\n",
       "    </tr>\n",
       "    <tr>\n",
       "      <th>4</th>\n",
       "      <td>California</td>\n",
       "      <td>60%</td>\n",
       "      <td>540</td>\n",
       "      <td>536</td>\n",
       "      <td>1076</td>\n",
       "    </tr>\n",
       "  </tbody>\n",
       "</table>\n",
       "</div>"
      ],
      "text/plain": [
       "        State Participation  Evidence-Based Reading and Writing  Math  Total\n",
       "0     Alabama            6%                                 595   571   1166\n",
       "1      Alaska           43%                                 562   544   1106\n",
       "2     Arizona           29%                                 577   572   1149\n",
       "3    Arkansas            5%                                 592   576   1169\n",
       "4  California           60%                                 540   536   1076"
      ]
     },
     "execution_count": 45,
     "metadata": {},
     "output_type": "execute_result"
    }
   ],
   "source": [
    "sat_2018.head()"
   ]
  },
  {
   "cell_type": "code",
   "execution_count": 46,
   "metadata": {},
   "outputs": [
    {
     "data": {
      "text/html": [
       "<div>\n",
       "<style scoped>\n",
       "    .dataframe tbody tr th:only-of-type {\n",
       "        vertical-align: middle;\n",
       "    }\n",
       "\n",
       "    .dataframe tbody tr th {\n",
       "        vertical-align: top;\n",
       "    }\n",
       "\n",
       "    .dataframe thead th {\n",
       "        text-align: right;\n",
       "    }\n",
       "</style>\n",
       "<table border=\"1\" class=\"dataframe\">\n",
       "  <thead>\n",
       "    <tr style=\"text-align: right;\">\n",
       "      <th></th>\n",
       "      <th>State</th>\n",
       "      <th>Percentage of Students Tested</th>\n",
       "      <th>Average Composite Score</th>\n",
       "      <th>Average English Score</th>\n",
       "      <th>Average Math Score</th>\n",
       "      <th>Average Reading Score</th>\n",
       "      <th>Average Science Score</th>\n",
       "    </tr>\n",
       "  </thead>\n",
       "  <tbody>\n",
       "    <tr>\n",
       "      <th>0</th>\n",
       "      <td>Alabama</td>\n",
       "      <td>100</td>\n",
       "      <td>19.1</td>\n",
       "      <td>18.9</td>\n",
       "      <td>18.3</td>\n",
       "      <td>19.6</td>\n",
       "      <td>19.0</td>\n",
       "    </tr>\n",
       "    <tr>\n",
       "      <th>1</th>\n",
       "      <td>Alaska</td>\n",
       "      <td>33</td>\n",
       "      <td>20.8</td>\n",
       "      <td>19.8</td>\n",
       "      <td>20.6</td>\n",
       "      <td>21.6</td>\n",
       "      <td>20.7</td>\n",
       "    </tr>\n",
       "    <tr>\n",
       "      <th>2</th>\n",
       "      <td>Arizona</td>\n",
       "      <td>66</td>\n",
       "      <td>19.2</td>\n",
       "      <td>18.2</td>\n",
       "      <td>19.4</td>\n",
       "      <td>19.5</td>\n",
       "      <td>19.2</td>\n",
       "    </tr>\n",
       "    <tr>\n",
       "      <th>3</th>\n",
       "      <td>Arkansas</td>\n",
       "      <td>100</td>\n",
       "      <td>19.4</td>\n",
       "      <td>19.1</td>\n",
       "      <td>18.9</td>\n",
       "      <td>19.7</td>\n",
       "      <td>19.4</td>\n",
       "    </tr>\n",
       "    <tr>\n",
       "      <th>4</th>\n",
       "      <td>California</td>\n",
       "      <td>27</td>\n",
       "      <td>22.7</td>\n",
       "      <td>22.5</td>\n",
       "      <td>22.5</td>\n",
       "      <td>23.0</td>\n",
       "      <td>22.1</td>\n",
       "    </tr>\n",
       "  </tbody>\n",
       "</table>\n",
       "</div>"
      ],
      "text/plain": [
       "        State Percentage of Students Tested  Average Composite Score  \\\n",
       "0     Alabama                           100                     19.1   \n",
       "1      Alaska                            33                     20.8   \n",
       "2     Arizona                            66                     19.2   \n",
       "3    Arkansas                           100                     19.4   \n",
       "4  California                            27                     22.7   \n",
       "\n",
       "   Average English Score  Average Math Score  Average Reading Score  \\\n",
       "0                   18.9                18.3                   19.6   \n",
       "1                   19.8                20.6                   21.6   \n",
       "2                   18.2                19.4                   19.5   \n",
       "3                   19.1                18.9                   19.7   \n",
       "4                   22.5                22.5                   23.0   \n",
       "\n",
       "   Average Science Score  \n",
       "0                   19.0  \n",
       "1                   20.7  \n",
       "2                   19.2  \n",
       "3                   19.4  \n",
       "4                   22.1  "
      ]
     },
     "execution_count": 46,
     "metadata": {},
     "output_type": "execute_result"
    }
   ],
   "source": [
    "act_2018.head()"
   ]
  },
  {
   "cell_type": "markdown",
   "metadata": {},
   "source": [
    "<font color=blue>3. Check value range in data table.describe()<br>4. Check if there is possible error in data ie.values in respective columns are not within the minimum possible and maximum possible range.<br> \n",
    "</font> "
   ]
  },
  {
   "cell_type": "code",
   "execution_count": 46,
   "metadata": {},
   "outputs": [
    {
     "data": {
      "text/html": [
       "<div>\n",
       "<style scoped>\n",
       "    .dataframe tbody tr th:only-of-type {\n",
       "        vertical-align: middle;\n",
       "    }\n",
       "\n",
       "    .dataframe tbody tr th {\n",
       "        vertical-align: top;\n",
       "    }\n",
       "\n",
       "    .dataframe thead th {\n",
       "        text-align: right;\n",
       "    }\n",
       "</style>\n",
       "<table border=\"1\" class=\"dataframe\">\n",
       "  <thead>\n",
       "    <tr style=\"text-align: right;\">\n",
       "      <th></th>\n",
       "      <th>Evidence-Based Reading and Writing</th>\n",
       "      <th>Math</th>\n",
       "      <th>Total</th>\n",
       "    </tr>\n",
       "  </thead>\n",
       "  <tbody>\n",
       "    <tr>\n",
       "      <th>count</th>\n",
       "      <td>51.000000</td>\n",
       "      <td>51.000000</td>\n",
       "      <td>51.000000</td>\n",
       "    </tr>\n",
       "    <tr>\n",
       "      <th>mean</th>\n",
       "      <td>563.686275</td>\n",
       "      <td>556.235294</td>\n",
       "      <td>1120.019608</td>\n",
       "    </tr>\n",
       "    <tr>\n",
       "      <th>std</th>\n",
       "      <td>47.502627</td>\n",
       "      <td>47.772623</td>\n",
       "      <td>94.155083</td>\n",
       "    </tr>\n",
       "    <tr>\n",
       "      <th>min</th>\n",
       "      <td>480.000000</td>\n",
       "      <td>480.000000</td>\n",
       "      <td>977.000000</td>\n",
       "    </tr>\n",
       "    <tr>\n",
       "      <th>25%</th>\n",
       "      <td>534.500000</td>\n",
       "      <td>522.500000</td>\n",
       "      <td>1057.500000</td>\n",
       "    </tr>\n",
       "    <tr>\n",
       "      <th>50%</th>\n",
       "      <td>552.000000</td>\n",
       "      <td>544.000000</td>\n",
       "      <td>1098.000000</td>\n",
       "    </tr>\n",
       "    <tr>\n",
       "      <th>75%</th>\n",
       "      <td>610.500000</td>\n",
       "      <td>593.500000</td>\n",
       "      <td>1204.000000</td>\n",
       "    </tr>\n",
       "    <tr>\n",
       "      <th>max</th>\n",
       "      <td>643.000000</td>\n",
       "      <td>655.000000</td>\n",
       "      <td>1298.000000</td>\n",
       "    </tr>\n",
       "  </tbody>\n",
       "</table>\n",
       "</div>"
      ],
      "text/plain": [
       "       Evidence-Based Reading and Writing        Math        Total\n",
       "count                           51.000000   51.000000    51.000000\n",
       "mean                           563.686275  556.235294  1120.019608\n",
       "std                             47.502627   47.772623    94.155083\n",
       "min                            480.000000  480.000000   977.000000\n",
       "25%                            534.500000  522.500000  1057.500000\n",
       "50%                            552.000000  544.000000  1098.000000\n",
       "75%                            610.500000  593.500000  1204.000000\n",
       "max                            643.000000  655.000000  1298.000000"
      ]
     },
     "execution_count": 46,
     "metadata": {},
     "output_type": "execute_result"
    }
   ],
   "source": [
    "sat_2018.describe()"
   ]
  },
  {
   "cell_type": "code",
   "execution_count": 47,
   "metadata": {},
   "outputs": [
    {
     "data": {
      "text/html": [
       "<div>\n",
       "<style scoped>\n",
       "    .dataframe tbody tr th:only-of-type {\n",
       "        vertical-align: middle;\n",
       "    }\n",
       "\n",
       "    .dataframe tbody tr th {\n",
       "        vertical-align: top;\n",
       "    }\n",
       "\n",
       "    .dataframe thead th {\n",
       "        text-align: right;\n",
       "    }\n",
       "</style>\n",
       "<table border=\"1\" class=\"dataframe\">\n",
       "  <thead>\n",
       "    <tr style=\"text-align: right;\">\n",
       "      <th></th>\n",
       "      <th>State</th>\n",
       "      <th>Participation</th>\n",
       "      <th>Evidence-Based Reading and Writing</th>\n",
       "      <th>Math</th>\n",
       "      <th>Total</th>\n",
       "    </tr>\n",
       "  </thead>\n",
       "  <tbody>\n",
       "  </tbody>\n",
       "</table>\n",
       "</div>"
      ],
      "text/plain": [
       "Empty DataFrame\n",
       "Columns: [State, Participation, Evidence-Based Reading and Writing, Math, Total]\n",
       "Index: []"
      ]
     },
     "execution_count": 47,
     "metadata": {},
     "output_type": "execute_result"
    }
   ],
   "source": [
    "check_if_data_within_range (sat_2018,'Evidence-Based Reading and Writing',200,800)"
   ]
  },
  {
   "cell_type": "code",
   "execution_count": 48,
   "metadata": {},
   "outputs": [
    {
     "data": {
      "text/html": [
       "<div>\n",
       "<style scoped>\n",
       "    .dataframe tbody tr th:only-of-type {\n",
       "        vertical-align: middle;\n",
       "    }\n",
       "\n",
       "    .dataframe tbody tr th {\n",
       "        vertical-align: top;\n",
       "    }\n",
       "\n",
       "    .dataframe thead th {\n",
       "        text-align: right;\n",
       "    }\n",
       "</style>\n",
       "<table border=\"1\" class=\"dataframe\">\n",
       "  <thead>\n",
       "    <tr style=\"text-align: right;\">\n",
       "      <th></th>\n",
       "      <th>State</th>\n",
       "      <th>Participation</th>\n",
       "      <th>Evidence-Based Reading and Writing</th>\n",
       "      <th>Math</th>\n",
       "      <th>Total</th>\n",
       "    </tr>\n",
       "  </thead>\n",
       "  <tbody>\n",
       "  </tbody>\n",
       "</table>\n",
       "</div>"
      ],
      "text/plain": [
       "Empty DataFrame\n",
       "Columns: [State, Participation, Evidence-Based Reading and Writing, Math, Total]\n",
       "Index: []"
      ]
     },
     "execution_count": 48,
     "metadata": {},
     "output_type": "execute_result"
    }
   ],
   "source": [
    "check_if_data_within_range (sat_2018,'Math',200,800)"
   ]
  },
  {
   "cell_type": "code",
   "execution_count": 49,
   "metadata": {},
   "outputs": [
    {
     "data": {
      "text/html": [
       "<div>\n",
       "<style scoped>\n",
       "    .dataframe tbody tr th:only-of-type {\n",
       "        vertical-align: middle;\n",
       "    }\n",
       "\n",
       "    .dataframe tbody tr th {\n",
       "        vertical-align: top;\n",
       "    }\n",
       "\n",
       "    .dataframe thead th {\n",
       "        text-align: right;\n",
       "    }\n",
       "</style>\n",
       "<table border=\"1\" class=\"dataframe\">\n",
       "  <thead>\n",
       "    <tr style=\"text-align: right;\">\n",
       "      <th></th>\n",
       "      <th>State</th>\n",
       "      <th>Participation</th>\n",
       "      <th>Evidence-Based Reading and Writing</th>\n",
       "      <th>Math</th>\n",
       "      <th>Total</th>\n",
       "    </tr>\n",
       "  </thead>\n",
       "  <tbody>\n",
       "  </tbody>\n",
       "</table>\n",
       "</div>"
      ],
      "text/plain": [
       "Empty DataFrame\n",
       "Columns: [State, Participation, Evidence-Based Reading and Writing, Math, Total]\n",
       "Index: []"
      ]
     },
     "execution_count": 49,
     "metadata": {},
     "output_type": "execute_result"
    }
   ],
   "source": [
    "check_if_data_within_range (sat_2018,'Total',400,1600)"
   ]
  },
  {
   "cell_type": "code",
   "execution_count": 50,
   "metadata": {},
   "outputs": [
    {
     "data": {
      "text/html": [
       "<div>\n",
       "<style scoped>\n",
       "    .dataframe tbody tr th:only-of-type {\n",
       "        vertical-align: middle;\n",
       "    }\n",
       "\n",
       "    .dataframe tbody tr th {\n",
       "        vertical-align: top;\n",
       "    }\n",
       "\n",
       "    .dataframe thead th {\n",
       "        text-align: right;\n",
       "    }\n",
       "</style>\n",
       "<table border=\"1\" class=\"dataframe\">\n",
       "  <thead>\n",
       "    <tr style=\"text-align: right;\">\n",
       "      <th></th>\n",
       "      <th>Average Composite Score</th>\n",
       "      <th>Average English Score</th>\n",
       "      <th>Average Math Score</th>\n",
       "      <th>Average Reading Score</th>\n",
       "      <th>Average Science Score</th>\n",
       "    </tr>\n",
       "  </thead>\n",
       "  <tbody>\n",
       "    <tr>\n",
       "      <th>count</th>\n",
       "      <td>53.000000</td>\n",
       "      <td>53.000000</td>\n",
       "      <td>53.000000</td>\n",
       "      <td>53.000000</td>\n",
       "      <td>53.000000</td>\n",
       "    </tr>\n",
       "    <tr>\n",
       "      <th>mean</th>\n",
       "      <td>21.460377</td>\n",
       "      <td>20.958491</td>\n",
       "      <td>21.101887</td>\n",
       "      <td>21.988679</td>\n",
       "      <td>21.320755</td>\n",
       "    </tr>\n",
       "    <tr>\n",
       "      <th>std</th>\n",
       "      <td>2.069591</td>\n",
       "      <td>2.403638</td>\n",
       "      <td>1.999855</td>\n",
       "      <td>2.129614</td>\n",
       "      <td>1.837992</td>\n",
       "    </tr>\n",
       "    <tr>\n",
       "      <th>min</th>\n",
       "      <td>17.700000</td>\n",
       "      <td>16.600000</td>\n",
       "      <td>17.800000</td>\n",
       "      <td>18.000000</td>\n",
       "      <td>17.900000</td>\n",
       "    </tr>\n",
       "    <tr>\n",
       "      <th>25%</th>\n",
       "      <td>20.000000</td>\n",
       "      <td>19.100000</td>\n",
       "      <td>19.400000</td>\n",
       "      <td>20.500000</td>\n",
       "      <td>20.000000</td>\n",
       "    </tr>\n",
       "    <tr>\n",
       "      <th>50%</th>\n",
       "      <td>20.800000</td>\n",
       "      <td>20.200000</td>\n",
       "      <td>20.600000</td>\n",
       "      <td>21.300000</td>\n",
       "      <td>20.800000</td>\n",
       "    </tr>\n",
       "    <tr>\n",
       "      <th>75%</th>\n",
       "      <td>23.500000</td>\n",
       "      <td>23.700000</td>\n",
       "      <td>23.100000</td>\n",
       "      <td>24.000000</td>\n",
       "      <td>23.000000</td>\n",
       "    </tr>\n",
       "    <tr>\n",
       "      <th>max</th>\n",
       "      <td>25.600000</td>\n",
       "      <td>26.000000</td>\n",
       "      <td>25.200000</td>\n",
       "      <td>26.100000</td>\n",
       "      <td>24.900000</td>\n",
       "    </tr>\n",
       "  </tbody>\n",
       "</table>\n",
       "</div>"
      ],
      "text/plain": [
       "       Average Composite Score  Average English Score  Average Math Score  \\\n",
       "count                53.000000              53.000000           53.000000   \n",
       "mean                 21.460377              20.958491           21.101887   \n",
       "std                   2.069591               2.403638            1.999855   \n",
       "min                  17.700000              16.600000           17.800000   \n",
       "25%                  20.000000              19.100000           19.400000   \n",
       "50%                  20.800000              20.200000           20.600000   \n",
       "75%                  23.500000              23.700000           23.100000   \n",
       "max                  25.600000              26.000000           25.200000   \n",
       "\n",
       "       Average Reading Score  Average Science Score  \n",
       "count              53.000000              53.000000  \n",
       "mean               21.988679              21.320755  \n",
       "std                 2.129614               1.837992  \n",
       "min                18.000000              17.900000  \n",
       "25%                20.500000              20.000000  \n",
       "50%                21.300000              20.800000  \n",
       "75%                24.000000              23.000000  \n",
       "max                26.100000              24.900000  "
      ]
     },
     "execution_count": 50,
     "metadata": {},
     "output_type": "execute_result"
    }
   ],
   "source": [
    "act_2018.describe()"
   ]
  },
  {
   "cell_type": "code",
   "execution_count": 51,
   "metadata": {},
   "outputs": [
    {
     "data": {
      "text/html": [
       "<div>\n",
       "<style scoped>\n",
       "    .dataframe tbody tr th:only-of-type {\n",
       "        vertical-align: middle;\n",
       "    }\n",
       "\n",
       "    .dataframe tbody tr th {\n",
       "        vertical-align: top;\n",
       "    }\n",
       "\n",
       "    .dataframe thead th {\n",
       "        text-align: right;\n",
       "    }\n",
       "</style>\n",
       "<table border=\"1\" class=\"dataframe\">\n",
       "  <thead>\n",
       "    <tr style=\"text-align: right;\">\n",
       "      <th></th>\n",
       "      <th>State</th>\n",
       "      <th>Percentage of Students Tested</th>\n",
       "      <th>Average Composite Score</th>\n",
       "      <th>Average English Score</th>\n",
       "      <th>Average Math Score</th>\n",
       "      <th>Average Reading Score</th>\n",
       "      <th>Average Science Score</th>\n",
       "    </tr>\n",
       "  </thead>\n",
       "  <tbody>\n",
       "  </tbody>\n",
       "</table>\n",
       "</div>"
      ],
      "text/plain": [
       "Empty DataFrame\n",
       "Columns: [State, Percentage of Students Tested, Average Composite Score, Average English Score, Average Math Score, Average Reading Score, Average Science Score]\n",
       "Index: []"
      ]
     },
     "execution_count": 51,
     "metadata": {},
     "output_type": "execute_result"
    }
   ],
   "source": [
    "check_if_data_within_range (act_2018,'Average Composite Score',1,36)"
   ]
  },
  {
   "cell_type": "code",
   "execution_count": 52,
   "metadata": {},
   "outputs": [
    {
     "data": {
      "text/html": [
       "<div>\n",
       "<style scoped>\n",
       "    .dataframe tbody tr th:only-of-type {\n",
       "        vertical-align: middle;\n",
       "    }\n",
       "\n",
       "    .dataframe tbody tr th {\n",
       "        vertical-align: top;\n",
       "    }\n",
       "\n",
       "    .dataframe thead th {\n",
       "        text-align: right;\n",
       "    }\n",
       "</style>\n",
       "<table border=\"1\" class=\"dataframe\">\n",
       "  <thead>\n",
       "    <tr style=\"text-align: right;\">\n",
       "      <th></th>\n",
       "      <th>State</th>\n",
       "      <th>Percentage of Students Tested</th>\n",
       "      <th>Average Composite Score</th>\n",
       "      <th>Average English Score</th>\n",
       "      <th>Average Math Score</th>\n",
       "      <th>Average Reading Score</th>\n",
       "      <th>Average Science Score</th>\n",
       "    </tr>\n",
       "  </thead>\n",
       "  <tbody>\n",
       "  </tbody>\n",
       "</table>\n",
       "</div>"
      ],
      "text/plain": [
       "Empty DataFrame\n",
       "Columns: [State, Percentage of Students Tested, Average Composite Score, Average English Score, Average Math Score, Average Reading Score, Average Science Score]\n",
       "Index: []"
      ]
     },
     "execution_count": 52,
     "metadata": {},
     "output_type": "execute_result"
    }
   ],
   "source": [
    "check_if_data_within_range (act_2018,'Average English Score',1,36)"
   ]
  },
  {
   "cell_type": "code",
   "execution_count": 53,
   "metadata": {},
   "outputs": [
    {
     "data": {
      "text/html": [
       "<div>\n",
       "<style scoped>\n",
       "    .dataframe tbody tr th:only-of-type {\n",
       "        vertical-align: middle;\n",
       "    }\n",
       "\n",
       "    .dataframe tbody tr th {\n",
       "        vertical-align: top;\n",
       "    }\n",
       "\n",
       "    .dataframe thead th {\n",
       "        text-align: right;\n",
       "    }\n",
       "</style>\n",
       "<table border=\"1\" class=\"dataframe\">\n",
       "  <thead>\n",
       "    <tr style=\"text-align: right;\">\n",
       "      <th></th>\n",
       "      <th>State</th>\n",
       "      <th>Percentage of Students Tested</th>\n",
       "      <th>Average Composite Score</th>\n",
       "      <th>Average English Score</th>\n",
       "      <th>Average Math Score</th>\n",
       "      <th>Average Reading Score</th>\n",
       "      <th>Average Science Score</th>\n",
       "    </tr>\n",
       "  </thead>\n",
       "  <tbody>\n",
       "  </tbody>\n",
       "</table>\n",
       "</div>"
      ],
      "text/plain": [
       "Empty DataFrame\n",
       "Columns: [State, Percentage of Students Tested, Average Composite Score, Average English Score, Average Math Score, Average Reading Score, Average Science Score]\n",
       "Index: []"
      ]
     },
     "execution_count": 53,
     "metadata": {},
     "output_type": "execute_result"
    }
   ],
   "source": [
    "check_if_data_within_range (act_2018,'Average Math Score',1,36)"
   ]
  },
  {
   "cell_type": "code",
   "execution_count": 54,
   "metadata": {},
   "outputs": [
    {
     "data": {
      "text/html": [
       "<div>\n",
       "<style scoped>\n",
       "    .dataframe tbody tr th:only-of-type {\n",
       "        vertical-align: middle;\n",
       "    }\n",
       "\n",
       "    .dataframe tbody tr th {\n",
       "        vertical-align: top;\n",
       "    }\n",
       "\n",
       "    .dataframe thead th {\n",
       "        text-align: right;\n",
       "    }\n",
       "</style>\n",
       "<table border=\"1\" class=\"dataframe\">\n",
       "  <thead>\n",
       "    <tr style=\"text-align: right;\">\n",
       "      <th></th>\n",
       "      <th>State</th>\n",
       "      <th>Percentage of Students Tested</th>\n",
       "      <th>Average Composite Score</th>\n",
       "      <th>Average English Score</th>\n",
       "      <th>Average Math Score</th>\n",
       "      <th>Average Reading Score</th>\n",
       "      <th>Average Science Score</th>\n",
       "    </tr>\n",
       "  </thead>\n",
       "  <tbody>\n",
       "  </tbody>\n",
       "</table>\n",
       "</div>"
      ],
      "text/plain": [
       "Empty DataFrame\n",
       "Columns: [State, Percentage of Students Tested, Average Composite Score, Average English Score, Average Math Score, Average Reading Score, Average Science Score]\n",
       "Index: []"
      ]
     },
     "execution_count": 54,
     "metadata": {},
     "output_type": "execute_result"
    }
   ],
   "source": [
    "check_if_data_within_range (act_2018,'Average Reading Score',1,36)"
   ]
  },
  {
   "cell_type": "code",
   "execution_count": 55,
   "metadata": {},
   "outputs": [
    {
     "data": {
      "text/html": [
       "<div>\n",
       "<style scoped>\n",
       "    .dataframe tbody tr th:only-of-type {\n",
       "        vertical-align: middle;\n",
       "    }\n",
       "\n",
       "    .dataframe tbody tr th {\n",
       "        vertical-align: top;\n",
       "    }\n",
       "\n",
       "    .dataframe thead th {\n",
       "        text-align: right;\n",
       "    }\n",
       "</style>\n",
       "<table border=\"1\" class=\"dataframe\">\n",
       "  <thead>\n",
       "    <tr style=\"text-align: right;\">\n",
       "      <th></th>\n",
       "      <th>State</th>\n",
       "      <th>Percentage of Students Tested</th>\n",
       "      <th>Average Composite Score</th>\n",
       "      <th>Average English Score</th>\n",
       "      <th>Average Math Score</th>\n",
       "      <th>Average Reading Score</th>\n",
       "      <th>Average Science Score</th>\n",
       "    </tr>\n",
       "  </thead>\n",
       "  <tbody>\n",
       "  </tbody>\n",
       "</table>\n",
       "</div>"
      ],
      "text/plain": [
       "Empty DataFrame\n",
       "Columns: [State, Percentage of Students Tested, Average Composite Score, Average English Score, Average Math Score, Average Reading Score, Average Science Score]\n",
       "Index: []"
      ]
     },
     "execution_count": 55,
     "metadata": {},
     "output_type": "execute_result"
    }
   ],
   "source": [
    "check_if_data_within_range (act_2018,'Average Science Score',1,36)"
   ]
  },
  {
   "cell_type": "markdown",
   "metadata": {},
   "source": [
    "<font color=blue>All data in sat_2018 & act_2018 is within the minimum possible and maximum possible range\n",
    "    </font>"
   ]
  },
  {
   "cell_type": "markdown",
   "metadata": {},
   "source": [
    "<font color=blue>5. check on data table data type and check if there's any null value data"
   ]
  },
  {
   "cell_type": "code",
   "execution_count": 57,
   "metadata": {},
   "outputs": [
    {
     "name": "stdout",
     "output_type": "stream",
     "text": [
      "<class 'pandas.core.frame.DataFrame'>\n",
      "RangeIndex: 51 entries, 0 to 50\n",
      "Data columns (total 5 columns):\n",
      "State                                 51 non-null object\n",
      "Participation                         51 non-null object\n",
      "Evidence-Based Reading and Writing    51 non-null int64\n",
      "Math                                  51 non-null int64\n",
      "Total                                 51 non-null int64\n",
      "dtypes: int64(3), object(2)\n",
      "memory usage: 2.1+ KB\n",
      "<class 'pandas.core.frame.DataFrame'>\n",
      "RangeIndex: 53 entries, 0 to 52\n",
      "Data columns (total 7 columns):\n",
      "State                            53 non-null object\n",
      "Percentage of Students Tested    53 non-null object\n",
      "Average Composite Score          53 non-null float64\n",
      "Average English Score            53 non-null float64\n",
      "Average Math Score               53 non-null float64\n",
      "Average Reading Score            53 non-null float64\n",
      "Average Science Score            53 non-null float64\n",
      "dtypes: float64(5), object(2)\n",
      "memory usage: 3.0+ KB\n"
     ]
    }
   ],
   "source": [
    "sat_2018.info()\n",
    "act_2018.info()"
   ]
  },
  {
   "cell_type": "markdown",
   "metadata": {},
   "source": [
    "<font color=blue>6. Change sat_2018 'Participation'  & act_2018'Percentage of Students Tested' data type from object to numerical<br> \n",
    "</font>"
   ]
  },
  {
   "cell_type": "code",
   "execution_count": 58,
   "metadata": {},
   "outputs": [],
   "source": [
    "sat_2018['Participation']=sat_2018['Participation'].apply(lambda x:float(x.replace('%','')))\n"
   ]
  },
  {
   "cell_type": "code",
   "execution_count": 59,
   "metadata": {},
   "outputs": [
    {
     "data": {
      "text/plain": [
       "State                                  object\n",
       "Participation                         float64\n",
       "Evidence-Based Reading and Writing      int64\n",
       "Math                                    int64\n",
       "Total                                   int64\n",
       "dtype: object"
      ]
     },
     "execution_count": 59,
     "metadata": {},
     "output_type": "execute_result"
    }
   ],
   "source": [
    "sat_2018.dtypes"
   ]
  },
  {
   "cell_type": "code",
   "execution_count": 60,
   "metadata": {},
   "outputs": [],
   "source": [
    "#act_2018['Percentage of Students Tested']=act_2018['Percentage of Students Tested'].apply(lambda x:float(x.replace('%','')))"
   ]
  },
  {
   "cell_type": "markdown",
   "metadata": {},
   "source": [
    "<font color=blue>7. Was unable to convert act_18's Percentage of Students Tested to numeric<br>\n",
    "checked on csv file and found some of the valued are displayed as \"Not given\"<br>\n",
    "counter check on those value in other website to verify<br>\n",
    "\n",
    "</font>"
   ]
  },
  {
   "cell_type": "code",
   "execution_count": 61,
   "metadata": {},
   "outputs": [
    {
     "data": {
      "text/html": [
       "<div>\n",
       "<style scoped>\n",
       "    .dataframe tbody tr th:only-of-type {\n",
       "        vertical-align: middle;\n",
       "    }\n",
       "\n",
       "    .dataframe tbody tr th {\n",
       "        vertical-align: top;\n",
       "    }\n",
       "\n",
       "    .dataframe thead th {\n",
       "        text-align: right;\n",
       "    }\n",
       "</style>\n",
       "<table border=\"1\" class=\"dataframe\">\n",
       "  <thead>\n",
       "    <tr style=\"text-align: right;\">\n",
       "      <th></th>\n",
       "      <th>State</th>\n",
       "      <th>Percentage of Students Tested</th>\n",
       "      <th>Average Composite Score</th>\n",
       "      <th>Average English Score</th>\n",
       "      <th>Average Math Score</th>\n",
       "      <th>Average Reading Score</th>\n",
       "      <th>Average Science Score</th>\n",
       "    </tr>\n",
       "  </thead>\n",
       "  <tbody>\n",
       "    <tr>\n",
       "      <th>18</th>\n",
       "      <td>Louisiana</td>\n",
       "      <td>Not given</td>\n",
       "      <td>19.2</td>\n",
       "      <td>19.0</td>\n",
       "      <td>18.5</td>\n",
       "      <td>19.6</td>\n",
       "      <td>19.1</td>\n",
       "    </tr>\n",
       "    <tr>\n",
       "      <th>27</th>\n",
       "      <td>National</td>\n",
       "      <td>Not given</td>\n",
       "      <td>20.8</td>\n",
       "      <td>20.2</td>\n",
       "      <td>20.5</td>\n",
       "      <td>21.3</td>\n",
       "      <td>20.7</td>\n",
       "    </tr>\n",
       "    <tr>\n",
       "      <th>34</th>\n",
       "      <td>North Carolina</td>\n",
       "      <td>Not given</td>\n",
       "      <td>19.1</td>\n",
       "      <td>18.0</td>\n",
       "      <td>19.3</td>\n",
       "      <td>19.5</td>\n",
       "      <td>19.2</td>\n",
       "    </tr>\n",
       "    <tr>\n",
       "      <th>37</th>\n",
       "      <td>Oklahoma</td>\n",
       "      <td>Not given</td>\n",
       "      <td>19.3</td>\n",
       "      <td>18.4</td>\n",
       "      <td>18.8</td>\n",
       "      <td>20.1</td>\n",
       "      <td>19.4</td>\n",
       "    </tr>\n",
       "    <tr>\n",
       "      <th>39</th>\n",
       "      <td>Pennsylvania</td>\n",
       "      <td>Not given</td>\n",
       "      <td>23.5</td>\n",
       "      <td>23.3</td>\n",
       "      <td>23.2</td>\n",
       "      <td>24.0</td>\n",
       "      <td>23.1</td>\n",
       "    </tr>\n",
       "    <tr>\n",
       "      <th>52</th>\n",
       "      <td>National</td>\n",
       "      <td>Not given</td>\n",
       "      <td>20.8</td>\n",
       "      <td>20.2</td>\n",
       "      <td>20.5</td>\n",
       "      <td>21.3</td>\n",
       "      <td>20.7</td>\n",
       "    </tr>\n",
       "  </tbody>\n",
       "</table>\n",
       "</div>"
      ],
      "text/plain": [
       "             State Percentage of Students Tested  Average Composite Score  \\\n",
       "18       Louisiana                     Not given                     19.2   \n",
       "27        National                     Not given                     20.8   \n",
       "34  North Carolina                     Not given                     19.1   \n",
       "37        Oklahoma                     Not given                     19.3   \n",
       "39    Pennsylvania                     Not given                     23.5   \n",
       "52        National                     Not given                     20.8   \n",
       "\n",
       "    Average English Score  Average Math Score  Average Reading Score  \\\n",
       "18                   19.0                18.5                   19.6   \n",
       "27                   20.2                20.5                   21.3   \n",
       "34                   18.0                19.3                   19.5   \n",
       "37                   18.4                18.8                   20.1   \n",
       "39                   23.3                23.2                   24.0   \n",
       "52                   20.2                20.5                   21.3   \n",
       "\n",
       "    Average Science Score  \n",
       "18                   19.1  \n",
       "27                   20.7  \n",
       "34                   19.2  \n",
       "37                   19.4  \n",
       "39                   23.1  \n",
       "52                   20.7  "
      ]
     },
     "execution_count": 61,
     "metadata": {},
     "output_type": "execute_result"
    }
   ],
   "source": [
    "act_2018[act_2018['Percentage of Students Tested']=='Not given']"
   ]
  },
  {
   "cell_type": "markdown",
   "metadata": {},
   "source": [
    "<font color=blue> 8.Info below shows the Percentage of Students Tested for the 6 States <br>\n",
    "Louisiana= 100<br>\n",
    "North Carolina=100<br>\n",
    "Oklahoma= 100<br>\n",
    "Pennsylvania=20<br>\n",
    "National=55<br>\n",
    "\n",
    "source:<br>\n",
    "https://www.act.org/content/dam/act/unsecured/documents/cccr2018/National-CCCR-2018.pdf\n",
    "</font>"
   ]
  },
  {
   "cell_type": "markdown",
   "metadata": {},
   "source": [
    "<font color=blue> 9.updating the 6 rows of data with updated value."
   ]
  },
  {
   "cell_type": "code",
   "execution_count": 64,
   "metadata": {},
   "outputs": [],
   "source": [
    "# updating the 6 rows of data with updated value\n",
    "act_2018.iloc[18,1]=100\n",
    "act_2018.iloc[27,1]=55\n",
    "act_2018.iloc[34,1]=100\n",
    "act_2018.iloc[37,1]=100\n",
    "act_2018.iloc[39,1]=20\n",
    "act_2018.iloc[52,1]=55"
   ]
  },
  {
   "cell_type": "code",
   "execution_count": 65,
   "metadata": {},
   "outputs": [
    {
     "data": {
      "text/html": [
       "<div>\n",
       "<style scoped>\n",
       "    .dataframe tbody tr th:only-of-type {\n",
       "        vertical-align: middle;\n",
       "    }\n",
       "\n",
       "    .dataframe tbody tr th {\n",
       "        vertical-align: top;\n",
       "    }\n",
       "\n",
       "    .dataframe thead th {\n",
       "        text-align: right;\n",
       "    }\n",
       "</style>\n",
       "<table border=\"1\" class=\"dataframe\">\n",
       "  <thead>\n",
       "    <tr style=\"text-align: right;\">\n",
       "      <th></th>\n",
       "      <th>State</th>\n",
       "      <th>Percentage of Students Tested</th>\n",
       "    </tr>\n",
       "  </thead>\n",
       "  <tbody>\n",
       "    <tr>\n",
       "      <th>0</th>\n",
       "      <td>Alabama</td>\n",
       "      <td>100</td>\n",
       "    </tr>\n",
       "    <tr>\n",
       "      <th>1</th>\n",
       "      <td>Alaska</td>\n",
       "      <td>33</td>\n",
       "    </tr>\n",
       "    <tr>\n",
       "      <th>2</th>\n",
       "      <td>Arizona</td>\n",
       "      <td>66</td>\n",
       "    </tr>\n",
       "    <tr>\n",
       "      <th>3</th>\n",
       "      <td>Arkansas</td>\n",
       "      <td>100</td>\n",
       "    </tr>\n",
       "    <tr>\n",
       "      <th>4</th>\n",
       "      <td>California</td>\n",
       "      <td>27</td>\n",
       "    </tr>\n",
       "    <tr>\n",
       "      <th>5</th>\n",
       "      <td>Colorado</td>\n",
       "      <td>30</td>\n",
       "    </tr>\n",
       "    <tr>\n",
       "      <th>6</th>\n",
       "      <td>Connecticut</td>\n",
       "      <td>26</td>\n",
       "    </tr>\n",
       "    <tr>\n",
       "      <th>7</th>\n",
       "      <td>Delaware</td>\n",
       "      <td>17</td>\n",
       "    </tr>\n",
       "    <tr>\n",
       "      <th>8</th>\n",
       "      <td>District of Columbia</td>\n",
       "      <td>32</td>\n",
       "    </tr>\n",
       "    <tr>\n",
       "      <th>9</th>\n",
       "      <td>Florida</td>\n",
       "      <td>66</td>\n",
       "    </tr>\n",
       "    <tr>\n",
       "      <th>10</th>\n",
       "      <td>Georgia</td>\n",
       "      <td>53</td>\n",
       "    </tr>\n",
       "    <tr>\n",
       "      <th>11</th>\n",
       "      <td>Hawaii</td>\n",
       "      <td>89</td>\n",
       "    </tr>\n",
       "    <tr>\n",
       "      <th>12</th>\n",
       "      <td>Idaho</td>\n",
       "      <td>36</td>\n",
       "    </tr>\n",
       "    <tr>\n",
       "      <th>13</th>\n",
       "      <td>Illinois</td>\n",
       "      <td>43</td>\n",
       "    </tr>\n",
       "    <tr>\n",
       "      <th>14</th>\n",
       "      <td>Indiana</td>\n",
       "      <td>32</td>\n",
       "    </tr>\n",
       "    <tr>\n",
       "      <th>15</th>\n",
       "      <td>Iowa</td>\n",
       "      <td>68</td>\n",
       "    </tr>\n",
       "    <tr>\n",
       "      <th>16</th>\n",
       "      <td>Kansas</td>\n",
       "      <td>71</td>\n",
       "    </tr>\n",
       "    <tr>\n",
       "      <th>17</th>\n",
       "      <td>Kentucky</td>\n",
       "      <td>100</td>\n",
       "    </tr>\n",
       "    <tr>\n",
       "      <th>18</th>\n",
       "      <td>Louisiana</td>\n",
       "      <td>100</td>\n",
       "    </tr>\n",
       "    <tr>\n",
       "      <th>19</th>\n",
       "      <td>Maine</td>\n",
       "      <td>7</td>\n",
       "    </tr>\n",
       "    <tr>\n",
       "      <th>20</th>\n",
       "      <td>Maryland</td>\n",
       "      <td>31</td>\n",
       "    </tr>\n",
       "    <tr>\n",
       "      <th>21</th>\n",
       "      <td>Massachusetts</td>\n",
       "      <td>25</td>\n",
       "    </tr>\n",
       "    <tr>\n",
       "      <th>22</th>\n",
       "      <td>Michigan</td>\n",
       "      <td>22</td>\n",
       "    </tr>\n",
       "    <tr>\n",
       "      <th>23</th>\n",
       "      <td>Minnesota</td>\n",
       "      <td>99</td>\n",
       "    </tr>\n",
       "    <tr>\n",
       "      <th>24</th>\n",
       "      <td>Mississippi</td>\n",
       "      <td>100</td>\n",
       "    </tr>\n",
       "    <tr>\n",
       "      <th>25</th>\n",
       "      <td>Missouri</td>\n",
       "      <td>100</td>\n",
       "    </tr>\n",
       "    <tr>\n",
       "      <th>26</th>\n",
       "      <td>Montana</td>\n",
       "      <td>100</td>\n",
       "    </tr>\n",
       "    <tr>\n",
       "      <th>27</th>\n",
       "      <td>National</td>\n",
       "      <td>55</td>\n",
       "    </tr>\n",
       "    <tr>\n",
       "      <th>28</th>\n",
       "      <td>Nebraska</td>\n",
       "      <td>100</td>\n",
       "    </tr>\n",
       "    <tr>\n",
       "      <th>29</th>\n",
       "      <td>Nevada</td>\n",
       "      <td>100</td>\n",
       "    </tr>\n",
       "    <tr>\n",
       "      <th>30</th>\n",
       "      <td>New Hampshire</td>\n",
       "      <td>16</td>\n",
       "    </tr>\n",
       "    <tr>\n",
       "      <th>31</th>\n",
       "      <td>New Jersey</td>\n",
       "      <td>31</td>\n",
       "    </tr>\n",
       "    <tr>\n",
       "      <th>32</th>\n",
       "      <td>New Mexico</td>\n",
       "      <td>67</td>\n",
       "    </tr>\n",
       "    <tr>\n",
       "      <th>33</th>\n",
       "      <td>New York</td>\n",
       "      <td>27</td>\n",
       "    </tr>\n",
       "    <tr>\n",
       "      <th>34</th>\n",
       "      <td>North Carolina</td>\n",
       "      <td>100</td>\n",
       "    </tr>\n",
       "  </tbody>\n",
       "</table>\n",
       "</div>"
      ],
      "text/plain": [
       "                   State Percentage of Students Tested\n",
       "0                Alabama                           100\n",
       "1                 Alaska                            33\n",
       "2                Arizona                            66\n",
       "3               Arkansas                           100\n",
       "4             California                            27\n",
       "5               Colorado                            30\n",
       "6            Connecticut                            26\n",
       "7               Delaware                            17\n",
       "8   District of Columbia                            32\n",
       "9                Florida                            66\n",
       "10               Georgia                            53\n",
       "11                Hawaii                            89\n",
       "12                 Idaho                            36\n",
       "13              Illinois                            43\n",
       "14               Indiana                            32\n",
       "15                  Iowa                            68\n",
       "16                Kansas                            71\n",
       "17              Kentucky                           100\n",
       "18             Louisiana                           100\n",
       "19                 Maine                             7\n",
       "20              Maryland                            31\n",
       "21         Massachusetts                            25\n",
       "22              Michigan                            22\n",
       "23             Minnesota                            99\n",
       "24           Mississippi                           100\n",
       "25              Missouri                           100\n",
       "26               Montana                           100\n",
       "27              National                            55\n",
       "28              Nebraska                           100\n",
       "29                Nevada                           100\n",
       "30         New Hampshire                            16\n",
       "31            New Jersey                            31\n",
       "32            New Mexico                            67\n",
       "33              New York                            27\n",
       "34        North Carolina                           100"
      ]
     },
     "execution_count": 65,
     "metadata": {},
     "output_type": "execute_result"
    }
   ],
   "source": [
    "act_2018[['State','Percentage of Students Tested']].head(35)"
   ]
  },
  {
   "cell_type": "code",
   "execution_count": 66,
   "metadata": {},
   "outputs": [
    {
     "data": {
      "text/plain": [
       "dtype('O')"
      ]
     },
     "execution_count": 66,
     "metadata": {},
     "output_type": "execute_result"
    }
   ],
   "source": [
    "act_2018[\"Percentage of Students Tested\"].dtypes"
   ]
  },
  {
   "cell_type": "markdown",
   "metadata": {},
   "source": [
    "<font color=blue> 10.change data type for act_2018 percentage of student tested to float."
   ]
  },
  {
   "cell_type": "code",
   "execution_count": 68,
   "metadata": {},
   "outputs": [],
   "source": [
    "act_2018['Percentage of Students Tested']=act_2018['Percentage of Students Tested'].apply(lambda x:float(x))"
   ]
  },
  {
   "cell_type": "code",
   "execution_count": 69,
   "metadata": {},
   "outputs": [
    {
     "data": {
      "text/plain": [
       "dtype('float64')"
      ]
     },
     "execution_count": 69,
     "metadata": {},
     "output_type": "execute_result"
    }
   ],
   "source": [
    "act_2018[\"Percentage of Students Tested\"].dtypes"
   ]
  },
  {
   "cell_type": "markdown",
   "metadata": {},
   "source": [
    "<font color=blue>11. Check on both 2018 data frame for data types.\n",
    "</font>"
   ]
  },
  {
   "cell_type": "code",
   "execution_count": 70,
   "metadata": {},
   "outputs": [
    {
     "data": {
      "text/plain": [
       "State                                  object\n",
       "Participation                         float64\n",
       "Evidence-Based Reading and Writing      int64\n",
       "Math                                    int64\n",
       "Total                                   int64\n",
       "dtype: object"
      ]
     },
     "execution_count": 70,
     "metadata": {},
     "output_type": "execute_result"
    }
   ],
   "source": [
    "sat_2018.dtypes"
   ]
  },
  {
   "cell_type": "code",
   "execution_count": 71,
   "metadata": {},
   "outputs": [
    {
     "data": {
      "text/plain": [
       "State                             object\n",
       "Percentage of Students Tested    float64\n",
       "Average Composite Score          float64\n",
       "Average English Score            float64\n",
       "Average Math Score               float64\n",
       "Average Reading Score            float64\n",
       "Average Science Score            float64\n",
       "dtype: object"
      ]
     },
     "execution_count": 71,
     "metadata": {},
     "output_type": "execute_result"
    }
   ],
   "source": [
    "act_2018.dtypes"
   ]
  },
  {
   "cell_type": "markdown",
   "metadata": {},
   "source": [
    "<font color=blue>12. Rename columns with suitable name.\n",
    "</font>"
   ]
  },
  {
   "cell_type": "code",
   "execution_count": 75,
   "metadata": {},
   "outputs": [],
   "source": [
    "sat_2018=sat_2018.rename(columns={'State':'state','Participation':'sat_18_participation','Evidence-Based Reading and Writing':'sat_18_ebrw','Math':'sat_18_math','Total':'sat_18_total'})"
   ]
  },
  {
   "cell_type": "code",
   "execution_count": 76,
   "metadata": {},
   "outputs": [
    {
     "data": {
      "text/html": [
       "<div>\n",
       "<style scoped>\n",
       "    .dataframe tbody tr th:only-of-type {\n",
       "        vertical-align: middle;\n",
       "    }\n",
       "\n",
       "    .dataframe tbody tr th {\n",
       "        vertical-align: top;\n",
       "    }\n",
       "\n",
       "    .dataframe thead th {\n",
       "        text-align: right;\n",
       "    }\n",
       "</style>\n",
       "<table border=\"1\" class=\"dataframe\">\n",
       "  <thead>\n",
       "    <tr style=\"text-align: right;\">\n",
       "      <th></th>\n",
       "      <th>state</th>\n",
       "      <th>sat_18_participation</th>\n",
       "      <th>sat_18_ebrw</th>\n",
       "      <th>sat_18_math</th>\n",
       "      <th>sat_18_total</th>\n",
       "    </tr>\n",
       "  </thead>\n",
       "  <tbody>\n",
       "    <tr>\n",
       "      <th>0</th>\n",
       "      <td>Alabama</td>\n",
       "      <td>6.0</td>\n",
       "      <td>595</td>\n",
       "      <td>571</td>\n",
       "      <td>1166</td>\n",
       "    </tr>\n",
       "    <tr>\n",
       "      <th>1</th>\n",
       "      <td>Alaska</td>\n",
       "      <td>43.0</td>\n",
       "      <td>562</td>\n",
       "      <td>544</td>\n",
       "      <td>1106</td>\n",
       "    </tr>\n",
       "  </tbody>\n",
       "</table>\n",
       "</div>"
      ],
      "text/plain": [
       "     state  sat_18_participation  sat_18_ebrw  sat_18_math  sat_18_total\n",
       "0  Alabama                   6.0          595          571          1166\n",
       "1   Alaska                  43.0          562          544          1106"
      ]
     },
     "execution_count": 76,
     "metadata": {},
     "output_type": "execute_result"
    }
   ],
   "source": [
    "sat_2018.head(2)"
   ]
  },
  {
   "cell_type": "code",
   "execution_count": 77,
   "metadata": {},
   "outputs": [],
   "source": [
    "act_2018=act_2018.rename(columns={'State':'state','Percentage of Students Tested':'act_18_participation','Average English Score':'act_18_english','Average Math Score':'act_18_math','Average Reading Score':'act_18_reading','Average Science Score':'act_18_science','Average Composite Score':'act_18_composite'})"
   ]
  },
  {
   "cell_type": "code",
   "execution_count": 78,
   "metadata": {},
   "outputs": [
    {
     "data": {
      "text/html": [
       "<div>\n",
       "<style scoped>\n",
       "    .dataframe tbody tr th:only-of-type {\n",
       "        vertical-align: middle;\n",
       "    }\n",
       "\n",
       "    .dataframe tbody tr th {\n",
       "        vertical-align: top;\n",
       "    }\n",
       "\n",
       "    .dataframe thead th {\n",
       "        text-align: right;\n",
       "    }\n",
       "</style>\n",
       "<table border=\"1\" class=\"dataframe\">\n",
       "  <thead>\n",
       "    <tr style=\"text-align: right;\">\n",
       "      <th></th>\n",
       "      <th>state</th>\n",
       "      <th>act_18_participation</th>\n",
       "      <th>act_18_composite</th>\n",
       "      <th>act_18_english</th>\n",
       "      <th>act_18_math</th>\n",
       "      <th>act_18_reading</th>\n",
       "      <th>act_18_science</th>\n",
       "    </tr>\n",
       "  </thead>\n",
       "  <tbody>\n",
       "    <tr>\n",
       "      <th>0</th>\n",
       "      <td>Alabama</td>\n",
       "      <td>100.0</td>\n",
       "      <td>19.1</td>\n",
       "      <td>18.9</td>\n",
       "      <td>18.3</td>\n",
       "      <td>19.6</td>\n",
       "      <td>19.0</td>\n",
       "    </tr>\n",
       "    <tr>\n",
       "      <th>1</th>\n",
       "      <td>Alaska</td>\n",
       "      <td>33.0</td>\n",
       "      <td>20.8</td>\n",
       "      <td>19.8</td>\n",
       "      <td>20.6</td>\n",
       "      <td>21.6</td>\n",
       "      <td>20.7</td>\n",
       "    </tr>\n",
       "  </tbody>\n",
       "</table>\n",
       "</div>"
      ],
      "text/plain": [
       "     state  act_18_participation  act_18_composite  act_18_english  \\\n",
       "0  Alabama                 100.0              19.1            18.9   \n",
       "1   Alaska                  33.0              20.8            19.8   \n",
       "\n",
       "   act_18_math  act_18_reading  act_18_science  \n",
       "0         18.3            19.6            19.0  \n",
       "1         20.6            21.6            20.7  "
      ]
     },
     "execution_count": 78,
     "metadata": {},
     "output_type": "execute_result"
    }
   ],
   "source": [
    "act_2018.head(2)"
   ]
  },
  {
   "cell_type": "markdown",
   "metadata": {},
   "source": [
    "<font color=blue>13. Create Data Dictionary.\n",
    "</font>"
   ]
  },
  {
   "cell_type": "markdown",
   "metadata": {},
   "source": [
    "|Feature|Type|Dataset|Description|\n",
    "|---|---|---|---|\n",
    "|state|object|SAT & ACT|Participating States for SAT & ACT year 2017 & 2018| \n",
    "|sat_18_participation|int|SAT|Participating rates for SAT year 2018|\n",
    "|sat_18_ebrw|float|SAT|Evidence-Based Reading and Writing score for SAT year 2018|\n",
    "|sat_18_math|float/|SAT|Math score for SAT year 2018|\n",
    "|sat_18_total|float|SAT|Total score for SAT year 2018|\n",
    "|act_18_state|object|ACT|Participating States for ACT year 2018|\n",
    "|act_18_participation|float|ACT|Participating rates for ACT year 2018|\n",
    "|act_18_english|float|ACT|Math score  for ACT year 2018|\n",
    "|act_18_math|float|ACT|Math score for ACT year 2018|\n",
    "|act_18_reading|float|ACT|Reading score for ACT year 2018|\n",
    "|act_18_science|float|ACT|Science score for ACT year 2018|\n",
    "|act_18_composite|object|ACT|Composite score for ACT year 2018|\n",
    "|sat_17_participation|int|SAT|Participating rates for SAT year 2017|\n",
    "|sat_17_ebrw|float|SAT|Evidence-Based Reading and Writing score for SAT year 2017|\n",
    "|sat_17_math|float/|SAT|Math score for SAT year 2017|\n",
    "|sat_17_total|float|SAT|Total score for SAT year 2017|\n",
    "|act_17_participation|float|ACT|Participating rates for ACT year 2017|\n",
    "|act_17_english|float|ACT|English score for ACT year 2017|\n",
    "|act_17_math|float|ACT|Math score for ACT year 2017|\n",
    "|act_17_reading|float|ACT|Reading score for ACT year 2017|\n",
    "|act_17_science|float|ACT|Science score for ACT year 2017|\n",
    "|act_17_composite|object|ACT|Composite score for ACT year 2017|"
   ]
  },
  {
   "cell_type": "markdown",
   "metadata": {},
   "source": [
    "<font color=blue>14. For respective data table, drop unnecessary rows.<br>\n",
    "    sat_2018 has 51 rows of data while act_2018 has 53 rows of data<br>\n",
    "    Upon checking there are 2 lines of State National found in act_2018<br>\n",
    "    The 2 State National line will be removed.\n",
    "</font>"
   ]
  },
  {
   "cell_type": "code",
   "execution_count": 79,
   "metadata": {},
   "outputs": [
    {
     "data": {
      "text/html": [
       "<div>\n",
       "<style scoped>\n",
       "    .dataframe tbody tr th:only-of-type {\n",
       "        vertical-align: middle;\n",
       "    }\n",
       "\n",
       "    .dataframe tbody tr th {\n",
       "        vertical-align: top;\n",
       "    }\n",
       "\n",
       "    .dataframe thead th {\n",
       "        text-align: right;\n",
       "    }\n",
       "</style>\n",
       "<table border=\"1\" class=\"dataframe\">\n",
       "  <thead>\n",
       "    <tr style=\"text-align: right;\">\n",
       "      <th></th>\n",
       "      <th>state</th>\n",
       "      <th>act_18_participation</th>\n",
       "      <th>act_18_composite</th>\n",
       "      <th>act_18_english</th>\n",
       "      <th>act_18_math</th>\n",
       "      <th>act_18_reading</th>\n",
       "      <th>act_18_science</th>\n",
       "    </tr>\n",
       "  </thead>\n",
       "  <tbody>\n",
       "    <tr>\n",
       "      <th>27</th>\n",
       "      <td>National</td>\n",
       "      <td>55.0</td>\n",
       "      <td>20.8</td>\n",
       "      <td>20.2</td>\n",
       "      <td>20.5</td>\n",
       "      <td>21.3</td>\n",
       "      <td>20.7</td>\n",
       "    </tr>\n",
       "    <tr>\n",
       "      <th>52</th>\n",
       "      <td>National</td>\n",
       "      <td>55.0</td>\n",
       "      <td>20.8</td>\n",
       "      <td>20.2</td>\n",
       "      <td>20.5</td>\n",
       "      <td>21.3</td>\n",
       "      <td>20.7</td>\n",
       "    </tr>\n",
       "  </tbody>\n",
       "</table>\n",
       "</div>"
      ],
      "text/plain": [
       "       state  act_18_participation  act_18_composite  act_18_english  \\\n",
       "27  National                  55.0              20.8            20.2   \n",
       "52  National                  55.0              20.8            20.2   \n",
       "\n",
       "    act_18_math  act_18_reading  act_18_science  \n",
       "27         20.5            21.3            20.7  \n",
       "52         20.5            21.3            20.7  "
      ]
     },
     "execution_count": 79,
     "metadata": {},
     "output_type": "execute_result"
    }
   ],
   "source": [
    "act_2018.loc[act_2018['state']=='National']"
   ]
  },
  {
   "cell_type": "code",
   "execution_count": 80,
   "metadata": {},
   "outputs": [],
   "source": [
    "act_2018.drop([27,52],axis=0,inplace=True)"
   ]
  },
  {
   "cell_type": "code",
   "execution_count": 81,
   "metadata": {},
   "outputs": [
    {
     "data": {
      "text/html": [
       "<div>\n",
       "<style scoped>\n",
       "    .dataframe tbody tr th:only-of-type {\n",
       "        vertical-align: middle;\n",
       "    }\n",
       "\n",
       "    .dataframe tbody tr th {\n",
       "        vertical-align: top;\n",
       "    }\n",
       "\n",
       "    .dataframe thead th {\n",
       "        text-align: right;\n",
       "    }\n",
       "</style>\n",
       "<table border=\"1\" class=\"dataframe\">\n",
       "  <thead>\n",
       "    <tr style=\"text-align: right;\">\n",
       "      <th></th>\n",
       "      <th>state</th>\n",
       "      <th>act_18_participation</th>\n",
       "      <th>act_18_composite</th>\n",
       "      <th>act_18_english</th>\n",
       "      <th>act_18_math</th>\n",
       "      <th>act_18_reading</th>\n",
       "      <th>act_18_science</th>\n",
       "    </tr>\n",
       "  </thead>\n",
       "  <tbody>\n",
       "    <tr>\n",
       "      <th>26</th>\n",
       "      <td>Montana</td>\n",
       "      <td>100.0</td>\n",
       "      <td>20.0</td>\n",
       "      <td>18.7</td>\n",
       "      <td>19.9</td>\n",
       "      <td>20.7</td>\n",
       "      <td>20.0</td>\n",
       "    </tr>\n",
       "    <tr>\n",
       "      <th>28</th>\n",
       "      <td>Nebraska</td>\n",
       "      <td>100.0</td>\n",
       "      <td>20.1</td>\n",
       "      <td>19.4</td>\n",
       "      <td>19.8</td>\n",
       "      <td>20.4</td>\n",
       "      <td>20.1</td>\n",
       "    </tr>\n",
       "    <tr>\n",
       "      <th>29</th>\n",
       "      <td>Nevada</td>\n",
       "      <td>100.0</td>\n",
       "      <td>17.7</td>\n",
       "      <td>16.6</td>\n",
       "      <td>17.8</td>\n",
       "      <td>18.0</td>\n",
       "      <td>17.9</td>\n",
       "    </tr>\n",
       "    <tr>\n",
       "      <th>30</th>\n",
       "      <td>New Hampshire</td>\n",
       "      <td>16.0</td>\n",
       "      <td>25.1</td>\n",
       "      <td>25.1</td>\n",
       "      <td>24.7</td>\n",
       "      <td>25.6</td>\n",
       "      <td>24.4</td>\n",
       "    </tr>\n",
       "    <tr>\n",
       "      <th>31</th>\n",
       "      <td>New Jersey</td>\n",
       "      <td>31.0</td>\n",
       "      <td>23.7</td>\n",
       "      <td>23.8</td>\n",
       "      <td>23.6</td>\n",
       "      <td>24.0</td>\n",
       "      <td>23.0</td>\n",
       "    </tr>\n",
       "    <tr>\n",
       "      <th>32</th>\n",
       "      <td>New Mexico</td>\n",
       "      <td>67.0</td>\n",
       "      <td>19.4</td>\n",
       "      <td>18.3</td>\n",
       "      <td>19.1</td>\n",
       "      <td>20.1</td>\n",
       "      <td>19.7</td>\n",
       "    </tr>\n",
       "    <tr>\n",
       "      <th>33</th>\n",
       "      <td>New York</td>\n",
       "      <td>27.0</td>\n",
       "      <td>24.5</td>\n",
       "      <td>24.2</td>\n",
       "      <td>24.2</td>\n",
       "      <td>24.9</td>\n",
       "      <td>24.2</td>\n",
       "    </tr>\n",
       "    <tr>\n",
       "      <th>34</th>\n",
       "      <td>North Carolina</td>\n",
       "      <td>100.0</td>\n",
       "      <td>19.1</td>\n",
       "      <td>18.0</td>\n",
       "      <td>19.3</td>\n",
       "      <td>19.5</td>\n",
       "      <td>19.2</td>\n",
       "    </tr>\n",
       "    <tr>\n",
       "      <th>35</th>\n",
       "      <td>North Dakota</td>\n",
       "      <td>98.0</td>\n",
       "      <td>20.3</td>\n",
       "      <td>19.1</td>\n",
       "      <td>20.3</td>\n",
       "      <td>20.7</td>\n",
       "      <td>20.5</td>\n",
       "    </tr>\n",
       "    <tr>\n",
       "      <th>36</th>\n",
       "      <td>Ohio</td>\n",
       "      <td>100.0</td>\n",
       "      <td>20.3</td>\n",
       "      <td>19.3</td>\n",
       "      <td>20.3</td>\n",
       "      <td>20.8</td>\n",
       "      <td>20.4</td>\n",
       "    </tr>\n",
       "    <tr>\n",
       "      <th>37</th>\n",
       "      <td>Oklahoma</td>\n",
       "      <td>100.0</td>\n",
       "      <td>19.3</td>\n",
       "      <td>18.4</td>\n",
       "      <td>18.8</td>\n",
       "      <td>20.1</td>\n",
       "      <td>19.4</td>\n",
       "    </tr>\n",
       "    <tr>\n",
       "      <th>38</th>\n",
       "      <td>Oregon</td>\n",
       "      <td>42.0</td>\n",
       "      <td>21.3</td>\n",
       "      <td>20.6</td>\n",
       "      <td>20.9</td>\n",
       "      <td>21.9</td>\n",
       "      <td>21.1</td>\n",
       "    </tr>\n",
       "    <tr>\n",
       "      <th>39</th>\n",
       "      <td>Pennsylvania</td>\n",
       "      <td>20.0</td>\n",
       "      <td>23.5</td>\n",
       "      <td>23.3</td>\n",
       "      <td>23.2</td>\n",
       "      <td>24.0</td>\n",
       "      <td>23.1</td>\n",
       "    </tr>\n",
       "    <tr>\n",
       "      <th>40</th>\n",
       "      <td>Rhode Island</td>\n",
       "      <td>15.0</td>\n",
       "      <td>24.2</td>\n",
       "      <td>24.4</td>\n",
       "      <td>23.6</td>\n",
       "      <td>25.0</td>\n",
       "      <td>23.5</td>\n",
       "    </tr>\n",
       "    <tr>\n",
       "      <th>41</th>\n",
       "      <td>South Carolina</td>\n",
       "      <td>100.0</td>\n",
       "      <td>18.3</td>\n",
       "      <td>17.3</td>\n",
       "      <td>18.2</td>\n",
       "      <td>18.6</td>\n",
       "      <td>18.5</td>\n",
       "    </tr>\n",
       "    <tr>\n",
       "      <th>42</th>\n",
       "      <td>South Dakota</td>\n",
       "      <td>77.0</td>\n",
       "      <td>21.9</td>\n",
       "      <td>20.8</td>\n",
       "      <td>21.6</td>\n",
       "      <td>22.4</td>\n",
       "      <td>22.2</td>\n",
       "    </tr>\n",
       "    <tr>\n",
       "      <th>43</th>\n",
       "      <td>Tennessee</td>\n",
       "      <td>100.0</td>\n",
       "      <td>19.6</td>\n",
       "      <td>19.4</td>\n",
       "      <td>19.1</td>\n",
       "      <td>19.9</td>\n",
       "      <td>19.6</td>\n",
       "    </tr>\n",
       "    <tr>\n",
       "      <th>44</th>\n",
       "      <td>Texas</td>\n",
       "      <td>41.0</td>\n",
       "      <td>20.6</td>\n",
       "      <td>19.6</td>\n",
       "      <td>20.6</td>\n",
       "      <td>21.1</td>\n",
       "      <td>20.8</td>\n",
       "    </tr>\n",
       "    <tr>\n",
       "      <th>45</th>\n",
       "      <td>Utah</td>\n",
       "      <td>100.0</td>\n",
       "      <td>20.4</td>\n",
       "      <td>19.7</td>\n",
       "      <td>19.9</td>\n",
       "      <td>20.9</td>\n",
       "      <td>20.5</td>\n",
       "    </tr>\n",
       "    <tr>\n",
       "      <th>46</th>\n",
       "      <td>Vermont</td>\n",
       "      <td>24.0</td>\n",
       "      <td>24.1</td>\n",
       "      <td>23.9</td>\n",
       "      <td>23.4</td>\n",
       "      <td>24.9</td>\n",
       "      <td>23.8</td>\n",
       "    </tr>\n",
       "    <tr>\n",
       "      <th>47</th>\n",
       "      <td>Virginia</td>\n",
       "      <td>24.0</td>\n",
       "      <td>23.9</td>\n",
       "      <td>23.8</td>\n",
       "      <td>23.3</td>\n",
       "      <td>24.7</td>\n",
       "      <td>23.5</td>\n",
       "    </tr>\n",
       "    <tr>\n",
       "      <th>48</th>\n",
       "      <td>Washington</td>\n",
       "      <td>24.0</td>\n",
       "      <td>22.2</td>\n",
       "      <td>21.4</td>\n",
       "      <td>22.2</td>\n",
       "      <td>22.7</td>\n",
       "      <td>22.0</td>\n",
       "    </tr>\n",
       "    <tr>\n",
       "      <th>49</th>\n",
       "      <td>West Virginia</td>\n",
       "      <td>65.0</td>\n",
       "      <td>20.3</td>\n",
       "      <td>19.8</td>\n",
       "      <td>19.4</td>\n",
       "      <td>21.3</td>\n",
       "      <td>20.4</td>\n",
       "    </tr>\n",
       "    <tr>\n",
       "      <th>50</th>\n",
       "      <td>Wisconsin</td>\n",
       "      <td>100.0</td>\n",
       "      <td>20.5</td>\n",
       "      <td>19.8</td>\n",
       "      <td>20.3</td>\n",
       "      <td>20.6</td>\n",
       "      <td>20.8</td>\n",
       "    </tr>\n",
       "    <tr>\n",
       "      <th>51</th>\n",
       "      <td>Wyoming</td>\n",
       "      <td>100.0</td>\n",
       "      <td>20.0</td>\n",
       "      <td>19.0</td>\n",
       "      <td>19.7</td>\n",
       "      <td>20.6</td>\n",
       "      <td>20.3</td>\n",
       "    </tr>\n",
       "  </tbody>\n",
       "</table>\n",
       "</div>"
      ],
      "text/plain": [
       "             state  act_18_participation  act_18_composite  act_18_english  \\\n",
       "26         Montana                 100.0              20.0            18.7   \n",
       "28        Nebraska                 100.0              20.1            19.4   \n",
       "29          Nevada                 100.0              17.7            16.6   \n",
       "30   New Hampshire                  16.0              25.1            25.1   \n",
       "31      New Jersey                  31.0              23.7            23.8   \n",
       "32      New Mexico                  67.0              19.4            18.3   \n",
       "33        New York                  27.0              24.5            24.2   \n",
       "34  North Carolina                 100.0              19.1            18.0   \n",
       "35    North Dakota                  98.0              20.3            19.1   \n",
       "36            Ohio                 100.0              20.3            19.3   \n",
       "37        Oklahoma                 100.0              19.3            18.4   \n",
       "38          Oregon                  42.0              21.3            20.6   \n",
       "39    Pennsylvania                  20.0              23.5            23.3   \n",
       "40    Rhode Island                  15.0              24.2            24.4   \n",
       "41  South Carolina                 100.0              18.3            17.3   \n",
       "42    South Dakota                  77.0              21.9            20.8   \n",
       "43       Tennessee                 100.0              19.6            19.4   \n",
       "44           Texas                  41.0              20.6            19.6   \n",
       "45            Utah                 100.0              20.4            19.7   \n",
       "46         Vermont                  24.0              24.1            23.9   \n",
       "47        Virginia                  24.0              23.9            23.8   \n",
       "48      Washington                  24.0              22.2            21.4   \n",
       "49   West Virginia                  65.0              20.3            19.8   \n",
       "50       Wisconsin                 100.0              20.5            19.8   \n",
       "51         Wyoming                 100.0              20.0            19.0   \n",
       "\n",
       "    act_18_math  act_18_reading  act_18_science  \n",
       "26         19.9            20.7            20.0  \n",
       "28         19.8            20.4            20.1  \n",
       "29         17.8            18.0            17.9  \n",
       "30         24.7            25.6            24.4  \n",
       "31         23.6            24.0            23.0  \n",
       "32         19.1            20.1            19.7  \n",
       "33         24.2            24.9            24.2  \n",
       "34         19.3            19.5            19.2  \n",
       "35         20.3            20.7            20.5  \n",
       "36         20.3            20.8            20.4  \n",
       "37         18.8            20.1            19.4  \n",
       "38         20.9            21.9            21.1  \n",
       "39         23.2            24.0            23.1  \n",
       "40         23.6            25.0            23.5  \n",
       "41         18.2            18.6            18.5  \n",
       "42         21.6            22.4            22.2  \n",
       "43         19.1            19.9            19.6  \n",
       "44         20.6            21.1            20.8  \n",
       "45         19.9            20.9            20.5  \n",
       "46         23.4            24.9            23.8  \n",
       "47         23.3            24.7            23.5  \n",
       "48         22.2            22.7            22.0  \n",
       "49         19.4            21.3            20.4  \n",
       "50         20.3            20.6            20.8  \n",
       "51         19.7            20.6            20.3  "
      ]
     },
     "execution_count": 81,
     "metadata": {},
     "output_type": "execute_result"
    }
   ],
   "source": [
    "act_2018.iloc[26:53,:]"
   ]
  },
  {
   "cell_type": "markdown",
   "metadata": {},
   "source": [
    "<font color=blue>15. Join the 2018 ACT and SAT dataframes. \n",
    "</font>"
   ]
  },
  {
   "cell_type": "code",
   "execution_count": 82,
   "metadata": {},
   "outputs": [],
   "source": [
    "combined_18=pd.merge(sat_2018,act_2018,left_on='state',right_on='state',how='outer')"
   ]
  },
  {
   "cell_type": "code",
   "execution_count": 83,
   "metadata": {},
   "outputs": [
    {
     "data": {
      "text/html": [
       "<div>\n",
       "<style scoped>\n",
       "    .dataframe tbody tr th:only-of-type {\n",
       "        vertical-align: middle;\n",
       "    }\n",
       "\n",
       "    .dataframe tbody tr th {\n",
       "        vertical-align: top;\n",
       "    }\n",
       "\n",
       "    .dataframe thead th {\n",
       "        text-align: right;\n",
       "    }\n",
       "</style>\n",
       "<table border=\"1\" class=\"dataframe\">\n",
       "  <thead>\n",
       "    <tr style=\"text-align: right;\">\n",
       "      <th></th>\n",
       "      <th>state</th>\n",
       "      <th>sat_18_participation</th>\n",
       "      <th>sat_18_ebrw</th>\n",
       "      <th>sat_18_math</th>\n",
       "      <th>sat_18_total</th>\n",
       "      <th>act_18_participation</th>\n",
       "      <th>act_18_composite</th>\n",
       "      <th>act_18_english</th>\n",
       "      <th>act_18_math</th>\n",
       "      <th>act_18_reading</th>\n",
       "      <th>act_18_science</th>\n",
       "    </tr>\n",
       "  </thead>\n",
       "  <tbody>\n",
       "    <tr>\n",
       "      <th>0</th>\n",
       "      <td>Alabama</td>\n",
       "      <td>6.0</td>\n",
       "      <td>595</td>\n",
       "      <td>571</td>\n",
       "      <td>1166</td>\n",
       "      <td>100.0</td>\n",
       "      <td>19.1</td>\n",
       "      <td>18.9</td>\n",
       "      <td>18.3</td>\n",
       "      <td>19.6</td>\n",
       "      <td>19.0</td>\n",
       "    </tr>\n",
       "    <tr>\n",
       "      <th>1</th>\n",
       "      <td>Alaska</td>\n",
       "      <td>43.0</td>\n",
       "      <td>562</td>\n",
       "      <td>544</td>\n",
       "      <td>1106</td>\n",
       "      <td>33.0</td>\n",
       "      <td>20.8</td>\n",
       "      <td>19.8</td>\n",
       "      <td>20.6</td>\n",
       "      <td>21.6</td>\n",
       "      <td>20.7</td>\n",
       "    </tr>\n",
       "    <tr>\n",
       "      <th>2</th>\n",
       "      <td>Arizona</td>\n",
       "      <td>29.0</td>\n",
       "      <td>577</td>\n",
       "      <td>572</td>\n",
       "      <td>1149</td>\n",
       "      <td>66.0</td>\n",
       "      <td>19.2</td>\n",
       "      <td>18.2</td>\n",
       "      <td>19.4</td>\n",
       "      <td>19.5</td>\n",
       "      <td>19.2</td>\n",
       "    </tr>\n",
       "  </tbody>\n",
       "</table>\n",
       "</div>"
      ],
      "text/plain": [
       "     state  sat_18_participation  sat_18_ebrw  sat_18_math  sat_18_total  \\\n",
       "0  Alabama                   6.0          595          571          1166   \n",
       "1   Alaska                  43.0          562          544          1106   \n",
       "2  Arizona                  29.0          577          572          1149   \n",
       "\n",
       "   act_18_participation  act_18_composite  act_18_english  act_18_math  \\\n",
       "0                 100.0              19.1            18.9         18.3   \n",
       "1                  33.0              20.8            19.8         20.6   \n",
       "2                  66.0              19.2            18.2         19.4   \n",
       "\n",
       "   act_18_reading  act_18_science  \n",
       "0            19.6            19.0  \n",
       "1            21.6            20.7  \n",
       "2            19.5            19.2  "
      ]
     },
     "execution_count": 83,
     "metadata": {},
     "output_type": "execute_result"
    }
   ],
   "source": [
    "combined_18.head(3)"
   ]
  },
  {
   "cell_type": "markdown",
   "metadata": {},
   "source": [
    "#### Combine your 2017 and 2018 data into a single dataframe\n",
    "Joining on state names should work, assuming you formatted all your state names identically. Make sure none of your columns (other than state) have identical names. Do yourself a favor and decide if you're encoding participation rates as floats or integers and standardize this across your datasets.\n",
    "\n",
    "Save the contents of this merged dataframe as `final.csv`.\n",
    "\n",
    "**Use this combined dataframe for the remainder of the project**."
   ]
  },
  {
   "cell_type": "code",
   "execution_count": 84,
   "metadata": {},
   "outputs": [],
   "source": [
    "# combine 2017_2018 df\n",
    "\n",
    "final=pd.merge(combined_17,combined_18,left_on='state',right_on='state',how='outer')"
   ]
  },
  {
   "cell_type": "code",
   "execution_count": 85,
   "metadata": {},
   "outputs": [
    {
     "data": {
      "text/html": [
       "<div>\n",
       "<style scoped>\n",
       "    .dataframe tbody tr th:only-of-type {\n",
       "        vertical-align: middle;\n",
       "    }\n",
       "\n",
       "    .dataframe tbody tr th {\n",
       "        vertical-align: top;\n",
       "    }\n",
       "\n",
       "    .dataframe thead th {\n",
       "        text-align: right;\n",
       "    }\n",
       "</style>\n",
       "<table border=\"1\" class=\"dataframe\">\n",
       "  <thead>\n",
       "    <tr style=\"text-align: right;\">\n",
       "      <th></th>\n",
       "      <th>state</th>\n",
       "      <th>sat_17_participation</th>\n",
       "      <th>sat_17_ebrw</th>\n",
       "      <th>sat_17_math</th>\n",
       "      <th>sat_17_total</th>\n",
       "      <th>act_17_participation</th>\n",
       "      <th>act_17_english</th>\n",
       "      <th>act_17_math</th>\n",
       "      <th>act_17_reading</th>\n",
       "      <th>act_17_science</th>\n",
       "      <th>...</th>\n",
       "      <th>sat_18_participation</th>\n",
       "      <th>sat_18_ebrw</th>\n",
       "      <th>sat_18_math</th>\n",
       "      <th>sat_18_total</th>\n",
       "      <th>act_18_participation</th>\n",
       "      <th>act_18_composite</th>\n",
       "      <th>act_18_english</th>\n",
       "      <th>act_18_math</th>\n",
       "      <th>act_18_reading</th>\n",
       "      <th>act_18_science</th>\n",
       "    </tr>\n",
       "  </thead>\n",
       "  <tbody>\n",
       "    <tr>\n",
       "      <th>0</th>\n",
       "      <td>Alabama</td>\n",
       "      <td>5.0</td>\n",
       "      <td>593</td>\n",
       "      <td>572</td>\n",
       "      <td>1165</td>\n",
       "      <td>100.0</td>\n",
       "      <td>18.9</td>\n",
       "      <td>18.4</td>\n",
       "      <td>19.7</td>\n",
       "      <td>19.4</td>\n",
       "      <td>...</td>\n",
       "      <td>6.0</td>\n",
       "      <td>595</td>\n",
       "      <td>571</td>\n",
       "      <td>1166</td>\n",
       "      <td>100.0</td>\n",
       "      <td>19.1</td>\n",
       "      <td>18.9</td>\n",
       "      <td>18.3</td>\n",
       "      <td>19.6</td>\n",
       "      <td>19.0</td>\n",
       "    </tr>\n",
       "    <tr>\n",
       "      <th>1</th>\n",
       "      <td>Alaska</td>\n",
       "      <td>38.0</td>\n",
       "      <td>547</td>\n",
       "      <td>533</td>\n",
       "      <td>1080</td>\n",
       "      <td>65.0</td>\n",
       "      <td>18.7</td>\n",
       "      <td>19.8</td>\n",
       "      <td>20.4</td>\n",
       "      <td>19.9</td>\n",
       "      <td>...</td>\n",
       "      <td>43.0</td>\n",
       "      <td>562</td>\n",
       "      <td>544</td>\n",
       "      <td>1106</td>\n",
       "      <td>33.0</td>\n",
       "      <td>20.8</td>\n",
       "      <td>19.8</td>\n",
       "      <td>20.6</td>\n",
       "      <td>21.6</td>\n",
       "      <td>20.7</td>\n",
       "    </tr>\n",
       "  </tbody>\n",
       "</table>\n",
       "<p>2 rows × 21 columns</p>\n",
       "</div>"
      ],
      "text/plain": [
       "     state  sat_17_participation  sat_17_ebrw  sat_17_math  sat_17_total  \\\n",
       "0  Alabama                   5.0          593          572          1165   \n",
       "1   Alaska                  38.0          547          533          1080   \n",
       "\n",
       "   act_17_participation  act_17_english  act_17_math  act_17_reading  \\\n",
       "0                 100.0            18.9         18.4            19.7   \n",
       "1                  65.0            18.7         19.8            20.4   \n",
       "\n",
       "   act_17_science  ...  sat_18_participation  sat_18_ebrw  sat_18_math  \\\n",
       "0            19.4  ...                   6.0          595          571   \n",
       "1            19.9  ...                  43.0          562          544   \n",
       "\n",
       "   sat_18_total  act_18_participation  act_18_composite  act_18_english  \\\n",
       "0          1166                 100.0              19.1            18.9   \n",
       "1          1106                  33.0              20.8            19.8   \n",
       "\n",
       "   act_18_math  act_18_reading  act_18_science  \n",
       "0         18.3            19.6            19.0  \n",
       "1         20.6            21.6            20.7  \n",
       "\n",
       "[2 rows x 21 columns]"
      ]
     },
     "execution_count": 85,
     "metadata": {},
     "output_type": "execute_result"
    }
   ],
   "source": [
    "final.head(2)"
   ]
  },
  {
   "cell_type": "code",
   "execution_count": 86,
   "metadata": {},
   "outputs": [
    {
     "name": "stdout",
     "output_type": "stream",
     "text": [
      "<class 'pandas.core.frame.DataFrame'>\n",
      "Int64Index: 51 entries, 0 to 50\n",
      "Data columns (total 21 columns):\n",
      "state                   51 non-null object\n",
      "sat_17_participation    51 non-null float64\n",
      "sat_17_ebrw             51 non-null int64\n",
      "sat_17_math             51 non-null int64\n",
      "sat_17_total            51 non-null int64\n",
      "act_17_participation    51 non-null float64\n",
      "act_17_english          51 non-null float64\n",
      "act_17_math             51 non-null float64\n",
      "act_17_reading          51 non-null float64\n",
      "act_17_science          51 non-null float64\n",
      "act_17_composite        51 non-null float64\n",
      "sat_18_participation    51 non-null float64\n",
      "sat_18_ebrw             51 non-null int64\n",
      "sat_18_math             51 non-null int64\n",
      "sat_18_total            51 non-null int64\n",
      "act_18_participation    51 non-null float64\n",
      "act_18_composite        51 non-null float64\n",
      "act_18_english          51 non-null float64\n",
      "act_18_math             51 non-null float64\n",
      "act_18_reading          51 non-null float64\n",
      "act_18_science          51 non-null float64\n",
      "dtypes: float64(14), int64(6), object(1)\n",
      "memory usage: 8.8+ KB\n"
     ]
    }
   ],
   "source": [
    "# to check if ther's any null value\n",
    "final.info()"
   ]
  },
  {
   "cell_type": "markdown",
   "metadata": {},
   "source": [
    "\n",
    "<font color=blue> participant rate type : float"
   ]
  },
  {
   "cell_type": "code",
   "execution_count": 81,
   "metadata": {},
   "outputs": [],
   "source": [
    "final.to_csv('final.csv')"
   ]
  },
  {
   "cell_type": "markdown",
   "metadata": {},
   "source": [
    "## Exploratory Data Analysis\n",
    "\n",
    "\n",
    "### Summary Statistics\n",
    "Transpose the output of pandas `describe` method to create a quick overview of each numeric feature."
   ]
  },
  {
   "cell_type": "code",
   "execution_count": 88,
   "metadata": {},
   "outputs": [
    {
     "data": {
      "text/html": [
       "<div>\n",
       "<style scoped>\n",
       "    .dataframe tbody tr th:only-of-type {\n",
       "        vertical-align: middle;\n",
       "    }\n",
       "\n",
       "    .dataframe tbody tr th {\n",
       "        vertical-align: top;\n",
       "    }\n",
       "\n",
       "    .dataframe thead th {\n",
       "        text-align: right;\n",
       "    }\n",
       "</style>\n",
       "<table border=\"1\" class=\"dataframe\">\n",
       "  <thead>\n",
       "    <tr style=\"text-align: right;\">\n",
       "      <th></th>\n",
       "      <th>sat_17_participation</th>\n",
       "      <th>sat_17_ebrw</th>\n",
       "      <th>sat_17_math</th>\n",
       "      <th>sat_17_total</th>\n",
       "      <th>act_17_participation</th>\n",
       "      <th>act_17_english</th>\n",
       "      <th>act_17_math</th>\n",
       "      <th>act_17_reading</th>\n",
       "      <th>act_17_science</th>\n",
       "      <th>act_17_composite</th>\n",
       "      <th>sat_18_participation</th>\n",
       "      <th>sat_18_ebrw</th>\n",
       "      <th>sat_18_math</th>\n",
       "      <th>sat_18_total</th>\n",
       "      <th>act_18_participation</th>\n",
       "      <th>act_18_composite</th>\n",
       "      <th>act_18_english</th>\n",
       "      <th>act_18_math</th>\n",
       "      <th>act_18_reading</th>\n",
       "      <th>act_18_science</th>\n",
       "    </tr>\n",
       "  </thead>\n",
       "  <tbody>\n",
       "    <tr>\n",
       "      <th>count</th>\n",
       "      <td>51.000000</td>\n",
       "      <td>51.000000</td>\n",
       "      <td>51.000000</td>\n",
       "      <td>51.000000</td>\n",
       "      <td>51.000000</td>\n",
       "      <td>51.000000</td>\n",
       "      <td>51.000000</td>\n",
       "      <td>51.000000</td>\n",
       "      <td>51.000000</td>\n",
       "      <td>51.000000</td>\n",
       "      <td>51.000000</td>\n",
       "      <td>51.000000</td>\n",
       "      <td>51.000000</td>\n",
       "      <td>51.000000</td>\n",
       "      <td>51.000000</td>\n",
       "      <td>51.000000</td>\n",
       "      <td>51.000000</td>\n",
       "      <td>51.000000</td>\n",
       "      <td>51.000000</td>\n",
       "      <td>51.000000</td>\n",
       "    </tr>\n",
       "    <tr>\n",
       "      <th>mean</th>\n",
       "      <td>39.803922</td>\n",
       "      <td>569.117647</td>\n",
       "      <td>556.882353</td>\n",
       "      <td>1126.098039</td>\n",
       "      <td>65.254902</td>\n",
       "      <td>20.931373</td>\n",
       "      <td>21.182353</td>\n",
       "      <td>22.013725</td>\n",
       "      <td>21.450980</td>\n",
       "      <td>21.519608</td>\n",
       "      <td>45.745098</td>\n",
       "      <td>563.686275</td>\n",
       "      <td>556.235294</td>\n",
       "      <td>1120.019608</td>\n",
       "      <td>61.647059</td>\n",
       "      <td>21.486275</td>\n",
       "      <td>20.988235</td>\n",
       "      <td>21.125490</td>\n",
       "      <td>22.015686</td>\n",
       "      <td>21.345098</td>\n",
       "    </tr>\n",
       "    <tr>\n",
       "      <th>std</th>\n",
       "      <td>35.276632</td>\n",
       "      <td>45.666901</td>\n",
       "      <td>47.121395</td>\n",
       "      <td>92.494812</td>\n",
       "      <td>32.140842</td>\n",
       "      <td>2.353677</td>\n",
       "      <td>1.981989</td>\n",
       "      <td>2.067271</td>\n",
       "      <td>1.739353</td>\n",
       "      <td>2.020695</td>\n",
       "      <td>37.314256</td>\n",
       "      <td>47.502627</td>\n",
       "      <td>47.772623</td>\n",
       "      <td>94.155083</td>\n",
       "      <td>34.080976</td>\n",
       "      <td>2.106278</td>\n",
       "      <td>2.446356</td>\n",
       "      <td>2.035765</td>\n",
       "      <td>2.167245</td>\n",
       "      <td>1.870114</td>\n",
       "    </tr>\n",
       "    <tr>\n",
       "      <th>min</th>\n",
       "      <td>2.000000</td>\n",
       "      <td>482.000000</td>\n",
       "      <td>468.000000</td>\n",
       "      <td>950.000000</td>\n",
       "      <td>8.000000</td>\n",
       "      <td>16.300000</td>\n",
       "      <td>18.000000</td>\n",
       "      <td>18.100000</td>\n",
       "      <td>18.200000</td>\n",
       "      <td>17.800000</td>\n",
       "      <td>2.000000</td>\n",
       "      <td>480.000000</td>\n",
       "      <td>480.000000</td>\n",
       "      <td>977.000000</td>\n",
       "      <td>7.000000</td>\n",
       "      <td>17.700000</td>\n",
       "      <td>16.600000</td>\n",
       "      <td>17.800000</td>\n",
       "      <td>18.000000</td>\n",
       "      <td>17.900000</td>\n",
       "    </tr>\n",
       "    <tr>\n",
       "      <th>25%</th>\n",
       "      <td>4.000000</td>\n",
       "      <td>533.500000</td>\n",
       "      <td>523.500000</td>\n",
       "      <td>1055.500000</td>\n",
       "      <td>31.000000</td>\n",
       "      <td>19.000000</td>\n",
       "      <td>19.400000</td>\n",
       "      <td>20.450000</td>\n",
       "      <td>19.950000</td>\n",
       "      <td>19.800000</td>\n",
       "      <td>4.500000</td>\n",
       "      <td>534.500000</td>\n",
       "      <td>522.500000</td>\n",
       "      <td>1057.500000</td>\n",
       "      <td>28.500000</td>\n",
       "      <td>19.950000</td>\n",
       "      <td>19.100000</td>\n",
       "      <td>19.400000</td>\n",
       "      <td>20.450000</td>\n",
       "      <td>19.850000</td>\n",
       "    </tr>\n",
       "    <tr>\n",
       "      <th>50%</th>\n",
       "      <td>38.000000</td>\n",
       "      <td>559.000000</td>\n",
       "      <td>548.000000</td>\n",
       "      <td>1107.000000</td>\n",
       "      <td>69.000000</td>\n",
       "      <td>20.700000</td>\n",
       "      <td>20.900000</td>\n",
       "      <td>21.800000</td>\n",
       "      <td>21.300000</td>\n",
       "      <td>21.400000</td>\n",
       "      <td>52.000000</td>\n",
       "      <td>552.000000</td>\n",
       "      <td>544.000000</td>\n",
       "      <td>1098.000000</td>\n",
       "      <td>66.000000</td>\n",
       "      <td>21.300000</td>\n",
       "      <td>20.200000</td>\n",
       "      <td>20.700000</td>\n",
       "      <td>21.600000</td>\n",
       "      <td>21.100000</td>\n",
       "    </tr>\n",
       "    <tr>\n",
       "      <th>75%</th>\n",
       "      <td>66.000000</td>\n",
       "      <td>613.000000</td>\n",
       "      <td>599.000000</td>\n",
       "      <td>1212.000000</td>\n",
       "      <td>100.000000</td>\n",
       "      <td>23.300000</td>\n",
       "      <td>23.100000</td>\n",
       "      <td>24.150000</td>\n",
       "      <td>23.200000</td>\n",
       "      <td>23.600000</td>\n",
       "      <td>77.500000</td>\n",
       "      <td>610.500000</td>\n",
       "      <td>593.500000</td>\n",
       "      <td>1204.000000</td>\n",
       "      <td>100.000000</td>\n",
       "      <td>23.550000</td>\n",
       "      <td>23.700000</td>\n",
       "      <td>23.150000</td>\n",
       "      <td>24.100000</td>\n",
       "      <td>23.050000</td>\n",
       "    </tr>\n",
       "    <tr>\n",
       "      <th>max</th>\n",
       "      <td>100.000000</td>\n",
       "      <td>644.000000</td>\n",
       "      <td>651.000000</td>\n",
       "      <td>1295.000000</td>\n",
       "      <td>100.000000</td>\n",
       "      <td>25.500000</td>\n",
       "      <td>25.300000</td>\n",
       "      <td>26.000000</td>\n",
       "      <td>24.900000</td>\n",
       "      <td>25.500000</td>\n",
       "      <td>100.000000</td>\n",
       "      <td>643.000000</td>\n",
       "      <td>655.000000</td>\n",
       "      <td>1298.000000</td>\n",
       "      <td>100.000000</td>\n",
       "      <td>25.600000</td>\n",
       "      <td>26.000000</td>\n",
       "      <td>25.200000</td>\n",
       "      <td>26.100000</td>\n",
       "      <td>24.900000</td>\n",
       "    </tr>\n",
       "  </tbody>\n",
       "</table>\n",
       "</div>"
      ],
      "text/plain": [
       "       sat_17_participation  sat_17_ebrw  sat_17_math  sat_17_total  \\\n",
       "count             51.000000    51.000000    51.000000     51.000000   \n",
       "mean              39.803922   569.117647   556.882353   1126.098039   \n",
       "std               35.276632    45.666901    47.121395     92.494812   \n",
       "min                2.000000   482.000000   468.000000    950.000000   \n",
       "25%                4.000000   533.500000   523.500000   1055.500000   \n",
       "50%               38.000000   559.000000   548.000000   1107.000000   \n",
       "75%               66.000000   613.000000   599.000000   1212.000000   \n",
       "max              100.000000   644.000000   651.000000   1295.000000   \n",
       "\n",
       "       act_17_participation  act_17_english  act_17_math  act_17_reading  \\\n",
       "count             51.000000       51.000000    51.000000       51.000000   \n",
       "mean              65.254902       20.931373    21.182353       22.013725   \n",
       "std               32.140842        2.353677     1.981989        2.067271   \n",
       "min                8.000000       16.300000    18.000000       18.100000   \n",
       "25%               31.000000       19.000000    19.400000       20.450000   \n",
       "50%               69.000000       20.700000    20.900000       21.800000   \n",
       "75%              100.000000       23.300000    23.100000       24.150000   \n",
       "max              100.000000       25.500000    25.300000       26.000000   \n",
       "\n",
       "       act_17_science  act_17_composite  sat_18_participation  sat_18_ebrw  \\\n",
       "count       51.000000         51.000000             51.000000    51.000000   \n",
       "mean        21.450980         21.519608             45.745098   563.686275   \n",
       "std          1.739353          2.020695             37.314256    47.502627   \n",
       "min         18.200000         17.800000              2.000000   480.000000   \n",
       "25%         19.950000         19.800000              4.500000   534.500000   \n",
       "50%         21.300000         21.400000             52.000000   552.000000   \n",
       "75%         23.200000         23.600000             77.500000   610.500000   \n",
       "max         24.900000         25.500000            100.000000   643.000000   \n",
       "\n",
       "       sat_18_math  sat_18_total  act_18_participation  act_18_composite  \\\n",
       "count    51.000000     51.000000             51.000000         51.000000   \n",
       "mean    556.235294   1120.019608             61.647059         21.486275   \n",
       "std      47.772623     94.155083             34.080976          2.106278   \n",
       "min     480.000000    977.000000              7.000000         17.700000   \n",
       "25%     522.500000   1057.500000             28.500000         19.950000   \n",
       "50%     544.000000   1098.000000             66.000000         21.300000   \n",
       "75%     593.500000   1204.000000            100.000000         23.550000   \n",
       "max     655.000000   1298.000000            100.000000         25.600000   \n",
       "\n",
       "       act_18_english  act_18_math  act_18_reading  act_18_science  \n",
       "count       51.000000    51.000000       51.000000       51.000000  \n",
       "mean        20.988235    21.125490       22.015686       21.345098  \n",
       "std          2.446356     2.035765        2.167245        1.870114  \n",
       "min         16.600000    17.800000       18.000000       17.900000  \n",
       "25%         19.100000    19.400000       20.450000       19.850000  \n",
       "50%         20.200000    20.700000       21.600000       21.100000  \n",
       "75%         23.700000    23.150000       24.100000       23.050000  \n",
       "max         26.000000    25.200000       26.100000       24.900000  "
      ]
     },
     "execution_count": 88,
     "metadata": {},
     "output_type": "execute_result"
    }
   ],
   "source": [
    "final.describe()"
   ]
  },
  {
   "cell_type": "code",
   "execution_count": 89,
   "metadata": {},
   "outputs": [
    {
     "data": {
      "text/html": [
       "<div>\n",
       "<style scoped>\n",
       "    .dataframe tbody tr th:only-of-type {\n",
       "        vertical-align: middle;\n",
       "    }\n",
       "\n",
       "    .dataframe tbody tr th {\n",
       "        vertical-align: top;\n",
       "    }\n",
       "\n",
       "    .dataframe thead th {\n",
       "        text-align: right;\n",
       "    }\n",
       "</style>\n",
       "<table border=\"1\" class=\"dataframe\">\n",
       "  <thead>\n",
       "    <tr style=\"text-align: right;\">\n",
       "      <th></th>\n",
       "      <th>count</th>\n",
       "      <th>mean</th>\n",
       "      <th>std</th>\n",
       "      <th>min</th>\n",
       "      <th>25%</th>\n",
       "      <th>50%</th>\n",
       "      <th>75%</th>\n",
       "      <th>max</th>\n",
       "    </tr>\n",
       "  </thead>\n",
       "  <tbody>\n",
       "    <tr>\n",
       "      <th>sat_17_participation</th>\n",
       "      <td>51.0</td>\n",
       "      <td>39.803922</td>\n",
       "      <td>35.276632</td>\n",
       "      <td>2.0</td>\n",
       "      <td>4.00</td>\n",
       "      <td>38.0</td>\n",
       "      <td>66.00</td>\n",
       "      <td>100.0</td>\n",
       "    </tr>\n",
       "    <tr>\n",
       "      <th>sat_17_ebrw</th>\n",
       "      <td>51.0</td>\n",
       "      <td>569.117647</td>\n",
       "      <td>45.666901</td>\n",
       "      <td>482.0</td>\n",
       "      <td>533.50</td>\n",
       "      <td>559.0</td>\n",
       "      <td>613.00</td>\n",
       "      <td>644.0</td>\n",
       "    </tr>\n",
       "    <tr>\n",
       "      <th>sat_17_math</th>\n",
       "      <td>51.0</td>\n",
       "      <td>556.882353</td>\n",
       "      <td>47.121395</td>\n",
       "      <td>468.0</td>\n",
       "      <td>523.50</td>\n",
       "      <td>548.0</td>\n",
       "      <td>599.00</td>\n",
       "      <td>651.0</td>\n",
       "    </tr>\n",
       "    <tr>\n",
       "      <th>sat_17_total</th>\n",
       "      <td>51.0</td>\n",
       "      <td>1126.098039</td>\n",
       "      <td>92.494812</td>\n",
       "      <td>950.0</td>\n",
       "      <td>1055.50</td>\n",
       "      <td>1107.0</td>\n",
       "      <td>1212.00</td>\n",
       "      <td>1295.0</td>\n",
       "    </tr>\n",
       "    <tr>\n",
       "      <th>act_17_participation</th>\n",
       "      <td>51.0</td>\n",
       "      <td>65.254902</td>\n",
       "      <td>32.140842</td>\n",
       "      <td>8.0</td>\n",
       "      <td>31.00</td>\n",
       "      <td>69.0</td>\n",
       "      <td>100.00</td>\n",
       "      <td>100.0</td>\n",
       "    </tr>\n",
       "    <tr>\n",
       "      <th>act_17_english</th>\n",
       "      <td>51.0</td>\n",
       "      <td>20.931373</td>\n",
       "      <td>2.353677</td>\n",
       "      <td>16.3</td>\n",
       "      <td>19.00</td>\n",
       "      <td>20.7</td>\n",
       "      <td>23.30</td>\n",
       "      <td>25.5</td>\n",
       "    </tr>\n",
       "    <tr>\n",
       "      <th>act_17_math</th>\n",
       "      <td>51.0</td>\n",
       "      <td>21.182353</td>\n",
       "      <td>1.981989</td>\n",
       "      <td>18.0</td>\n",
       "      <td>19.40</td>\n",
       "      <td>20.9</td>\n",
       "      <td>23.10</td>\n",
       "      <td>25.3</td>\n",
       "    </tr>\n",
       "    <tr>\n",
       "      <th>act_17_reading</th>\n",
       "      <td>51.0</td>\n",
       "      <td>22.013725</td>\n",
       "      <td>2.067271</td>\n",
       "      <td>18.1</td>\n",
       "      <td>20.45</td>\n",
       "      <td>21.8</td>\n",
       "      <td>24.15</td>\n",
       "      <td>26.0</td>\n",
       "    </tr>\n",
       "    <tr>\n",
       "      <th>act_17_science</th>\n",
       "      <td>51.0</td>\n",
       "      <td>21.450980</td>\n",
       "      <td>1.739353</td>\n",
       "      <td>18.2</td>\n",
       "      <td>19.95</td>\n",
       "      <td>21.3</td>\n",
       "      <td>23.20</td>\n",
       "      <td>24.9</td>\n",
       "    </tr>\n",
       "    <tr>\n",
       "      <th>act_17_composite</th>\n",
       "      <td>51.0</td>\n",
       "      <td>21.519608</td>\n",
       "      <td>2.020695</td>\n",
       "      <td>17.8</td>\n",
       "      <td>19.80</td>\n",
       "      <td>21.4</td>\n",
       "      <td>23.60</td>\n",
       "      <td>25.5</td>\n",
       "    </tr>\n",
       "    <tr>\n",
       "      <th>sat_18_participation</th>\n",
       "      <td>51.0</td>\n",
       "      <td>45.745098</td>\n",
       "      <td>37.314256</td>\n",
       "      <td>2.0</td>\n",
       "      <td>4.50</td>\n",
       "      <td>52.0</td>\n",
       "      <td>77.50</td>\n",
       "      <td>100.0</td>\n",
       "    </tr>\n",
       "    <tr>\n",
       "      <th>sat_18_ebrw</th>\n",
       "      <td>51.0</td>\n",
       "      <td>563.686275</td>\n",
       "      <td>47.502627</td>\n",
       "      <td>480.0</td>\n",
       "      <td>534.50</td>\n",
       "      <td>552.0</td>\n",
       "      <td>610.50</td>\n",
       "      <td>643.0</td>\n",
       "    </tr>\n",
       "    <tr>\n",
       "      <th>sat_18_math</th>\n",
       "      <td>51.0</td>\n",
       "      <td>556.235294</td>\n",
       "      <td>47.772623</td>\n",
       "      <td>480.0</td>\n",
       "      <td>522.50</td>\n",
       "      <td>544.0</td>\n",
       "      <td>593.50</td>\n",
       "      <td>655.0</td>\n",
       "    </tr>\n",
       "    <tr>\n",
       "      <th>sat_18_total</th>\n",
       "      <td>51.0</td>\n",
       "      <td>1120.019608</td>\n",
       "      <td>94.155083</td>\n",
       "      <td>977.0</td>\n",
       "      <td>1057.50</td>\n",
       "      <td>1098.0</td>\n",
       "      <td>1204.00</td>\n",
       "      <td>1298.0</td>\n",
       "    </tr>\n",
       "    <tr>\n",
       "      <th>act_18_participation</th>\n",
       "      <td>51.0</td>\n",
       "      <td>61.647059</td>\n",
       "      <td>34.080976</td>\n",
       "      <td>7.0</td>\n",
       "      <td>28.50</td>\n",
       "      <td>66.0</td>\n",
       "      <td>100.00</td>\n",
       "      <td>100.0</td>\n",
       "    </tr>\n",
       "    <tr>\n",
       "      <th>act_18_composite</th>\n",
       "      <td>51.0</td>\n",
       "      <td>21.486275</td>\n",
       "      <td>2.106278</td>\n",
       "      <td>17.7</td>\n",
       "      <td>19.95</td>\n",
       "      <td>21.3</td>\n",
       "      <td>23.55</td>\n",
       "      <td>25.6</td>\n",
       "    </tr>\n",
       "    <tr>\n",
       "      <th>act_18_english</th>\n",
       "      <td>51.0</td>\n",
       "      <td>20.988235</td>\n",
       "      <td>2.446356</td>\n",
       "      <td>16.6</td>\n",
       "      <td>19.10</td>\n",
       "      <td>20.2</td>\n",
       "      <td>23.70</td>\n",
       "      <td>26.0</td>\n",
       "    </tr>\n",
       "    <tr>\n",
       "      <th>act_18_math</th>\n",
       "      <td>51.0</td>\n",
       "      <td>21.125490</td>\n",
       "      <td>2.035765</td>\n",
       "      <td>17.8</td>\n",
       "      <td>19.40</td>\n",
       "      <td>20.7</td>\n",
       "      <td>23.15</td>\n",
       "      <td>25.2</td>\n",
       "    </tr>\n",
       "    <tr>\n",
       "      <th>act_18_reading</th>\n",
       "      <td>51.0</td>\n",
       "      <td>22.015686</td>\n",
       "      <td>2.167245</td>\n",
       "      <td>18.0</td>\n",
       "      <td>20.45</td>\n",
       "      <td>21.6</td>\n",
       "      <td>24.10</td>\n",
       "      <td>26.1</td>\n",
       "    </tr>\n",
       "    <tr>\n",
       "      <th>act_18_science</th>\n",
       "      <td>51.0</td>\n",
       "      <td>21.345098</td>\n",
       "      <td>1.870114</td>\n",
       "      <td>17.9</td>\n",
       "      <td>19.85</td>\n",
       "      <td>21.1</td>\n",
       "      <td>23.05</td>\n",
       "      <td>24.9</td>\n",
       "    </tr>\n",
       "  </tbody>\n",
       "</table>\n",
       "</div>"
      ],
      "text/plain": [
       "                      count         mean        std    min      25%     50%  \\\n",
       "sat_17_participation   51.0    39.803922  35.276632    2.0     4.00    38.0   \n",
       "sat_17_ebrw            51.0   569.117647  45.666901  482.0   533.50   559.0   \n",
       "sat_17_math            51.0   556.882353  47.121395  468.0   523.50   548.0   \n",
       "sat_17_total           51.0  1126.098039  92.494812  950.0  1055.50  1107.0   \n",
       "act_17_participation   51.0    65.254902  32.140842    8.0    31.00    69.0   \n",
       "act_17_english         51.0    20.931373   2.353677   16.3    19.00    20.7   \n",
       "act_17_math            51.0    21.182353   1.981989   18.0    19.40    20.9   \n",
       "act_17_reading         51.0    22.013725   2.067271   18.1    20.45    21.8   \n",
       "act_17_science         51.0    21.450980   1.739353   18.2    19.95    21.3   \n",
       "act_17_composite       51.0    21.519608   2.020695   17.8    19.80    21.4   \n",
       "sat_18_participation   51.0    45.745098  37.314256    2.0     4.50    52.0   \n",
       "sat_18_ebrw            51.0   563.686275  47.502627  480.0   534.50   552.0   \n",
       "sat_18_math            51.0   556.235294  47.772623  480.0   522.50   544.0   \n",
       "sat_18_total           51.0  1120.019608  94.155083  977.0  1057.50  1098.0   \n",
       "act_18_participation   51.0    61.647059  34.080976    7.0    28.50    66.0   \n",
       "act_18_composite       51.0    21.486275   2.106278   17.7    19.95    21.3   \n",
       "act_18_english         51.0    20.988235   2.446356   16.6    19.10    20.2   \n",
       "act_18_math            51.0    21.125490   2.035765   17.8    19.40    20.7   \n",
       "act_18_reading         51.0    22.015686   2.167245   18.0    20.45    21.6   \n",
       "act_18_science         51.0    21.345098   1.870114   17.9    19.85    21.1   \n",
       "\n",
       "                          75%     max  \n",
       "sat_17_participation    66.00   100.0  \n",
       "sat_17_ebrw            613.00   644.0  \n",
       "sat_17_math            599.00   651.0  \n",
       "sat_17_total          1212.00  1295.0  \n",
       "act_17_participation   100.00   100.0  \n",
       "act_17_english          23.30    25.5  \n",
       "act_17_math             23.10    25.3  \n",
       "act_17_reading          24.15    26.0  \n",
       "act_17_science          23.20    24.9  \n",
       "act_17_composite        23.60    25.5  \n",
       "sat_18_participation    77.50   100.0  \n",
       "sat_18_ebrw            610.50   643.0  \n",
       "sat_18_math            593.50   655.0  \n",
       "sat_18_total          1204.00  1298.0  \n",
       "act_18_participation   100.00   100.0  \n",
       "act_18_composite        23.55    25.6  \n",
       "act_18_english          23.70    26.0  \n",
       "act_18_math             23.15    25.2  \n",
       "act_18_reading          24.10    26.1  \n",
       "act_18_science          23.05    24.9  "
      ]
     },
     "execution_count": 89,
     "metadata": {},
     "output_type": "execute_result"
    }
   ],
   "source": [
    "#Code:\n",
    "final.describe().T"
   ]
  },
  {
   "cell_type": "markdown",
   "metadata": {},
   "source": [
    "#### Manually calculate standard deviation\n",
    "\n",
    "$$\\sigma = \\sqrt{\\frac{1}{n}\\sum_{i=1}^n(x_i - \\mu)^2}$$\n",
    "\n",
    "- Write a function to calculate standard deviation using the formula above"
   ]
  },
  {
   "cell_type": "code",
   "execution_count": 90,
   "metadata": {},
   "outputs": [],
   "source": [
    "# mean in a column \n",
    "\n",
    "def mean_of_col(col):\n",
    "\n",
    "    sum_of_column=0\n",
    "\n",
    "    for row_index in range(len(final)):\n",
    "        value=final[col][row_index]\n",
    "        sum_of_column+=value\n",
    "    return((sum_of_column)/len(final))"
   ]
  },
  {
   "cell_type": "code",
   "execution_count": 91,
   "metadata": {},
   "outputs": [
    {
     "data": {
      "text/plain": [
       "569.1176470588235"
      ]
     },
     "execution_count": 91,
     "metadata": {},
     "output_type": "execute_result"
    }
   ],
   "source": [
    "# test on function created\n",
    "# mean_of_col('sat_17_ebrw')"
   ]
  },
  {
   "cell_type": "code",
   "execution_count": 93,
   "metadata": {},
   "outputs": [],
   "source": [
    "def std_dev(col):\n",
    "\n",
    "    mean=mean_of_col(col)\n",
    "\n",
    "    sum_of_value_mean_sqr=0    \n",
    "    for row_index in range(len(final)):\n",
    "        row_value=final[col][row_index]\n",
    "        var_sqr=(row_value- mean)**2\n",
    "        sum_of_value_mean_sqr+=var_sqr\n",
    "    return(((sum_of_value_mean_sqr)/len(final))**0.5) \n",
    "    \n"
   ]
  },
  {
   "cell_type": "code",
   "execution_count": 95,
   "metadata": {},
   "outputs": [
    {
     "data": {
      "text/plain": [
       "45.21697020437866"
      ]
     },
     "execution_count": 95,
     "metadata": {},
     "output_type": "execute_result"
    }
   ],
   "source": [
    "# test on function created\n",
    "# std_dev('sat_17_ebrw')"
   ]
  },
  {
   "cell_type": "markdown",
   "metadata": {},
   "source": [
    "- Use a **dictionary comprehension** to apply your standard deviation function to each numeric column in the dataframe.  **No loops**  \n",
    "- Assign the output to variable `sd` as a dictionary where: \n",
    "    - Each column name is now a key \n",
    "    - That standard deviation of the column is the value \n",
    "     \n",
    "*Example Output :* `{'ACT_Math': 120, 'ACT_Reading': 120, ...}`"
   ]
  },
  {
   "cell_type": "code",
   "execution_count": 96,
   "metadata": {},
   "outputs": [
    {
     "data": {
      "text/plain": [
       "{'sat_17_participation': 34.929071,\n",
       " 'sat_17_ebrw': 45.21697,\n",
       " 'sat_17_math': 46.657134,\n",
       " 'sat_17_total': 91.583511,\n",
       " 'act_17_participation': 31.824176,\n",
       " 'act_17_english': 2.330488,\n",
       " 'act_17_math': 1.962462,\n",
       " 'act_17_reading': 2.046903,\n",
       " 'act_17_science': 1.722216,\n",
       " 'act_17_composite': 2.000786,\n",
       " 'sat_18_participation': 36.946619,\n",
       " 'sat_18_ebrw': 47.03461,\n",
       " 'sat_18_math': 47.301946,\n",
       " 'sat_18_total': 93.227424,\n",
       " 'act_18_participation': 33.745195,\n",
       " 'act_18_composite': 2.085526,\n",
       " 'act_18_english': 2.422254,\n",
       " 'act_18_math': 2.015707,\n",
       " 'act_18_reading': 2.145892,\n",
       " 'act_18_science': 1.851689}"
      ]
     },
     "execution_count": 96,
     "metadata": {},
     "output_type": "execute_result"
    }
   ],
   "source": [
    "# dictionary comprehension, skip first column 'state'\n",
    "{col: round(std_dev(col),6) for col in final.columns[1:]}"
   ]
  },
  {
   "cell_type": "code",
   "execution_count": 98,
   "metadata": {},
   "outputs": [
    {
     "data": {
      "text/plain": [
       "array([593, 547, 563, 614, 531, 606, 530, 503, 482, 520, 535, 544, 513,\n",
       "       559, 542, 641, 632, 631, 611, 513, 536, 555, 509, 644, 634, 640,\n",
       "       605, 629, 563, 532, 530, 577, 528, 546, 635, 578, 530, 560, 540,\n",
       "       539, 543, 612, 623, 513, 624, 562, 561, 541, 558, 642, 626],\n",
       "      dtype=int64)"
      ]
     },
     "execution_count": 98,
     "metadata": {},
     "output_type": "execute_result"
    }
   ],
   "source": [
    "sat_17_ebrw_array= np.array(final['sat_17_ebrw'])\n",
    "sat_17_ebrw_array\n"
   ]
  },
  {
   "cell_type": "code",
   "execution_count": 99,
   "metadata": {},
   "outputs": [
    {
     "data": {
      "text/plain": [
       "45.21697020437866"
      ]
     },
     "execution_count": 99,
     "metadata": {},
     "output_type": "execute_result"
    }
   ],
   "source": [
    "# numpy's std\n",
    "sat_17_ebrw_array_npstd=np.std(sat_17_ebrw_array)\n",
    "sat_17_ebrw_array_npstd"
   ]
  },
  {
   "cell_type": "markdown",
   "metadata": {},
   "source": [
    "Do your manually calculated standard deviations match up with the output from pandas `describe`? What about numpy's `std` method?"
   ]
  },
  {
   "cell_type": "markdown",
   "metadata": {},
   "source": [
    "Answer\n",
    "<font color=blue>The manually calculated std is same as numpy's std method but differs from pandas decribe output.<br>\n",
    "    ie<br>\n",
    "    for sat_17_ebrw : <br>\n",
    "    manual calculated std=45.21697<br>\n",
    "    np std= 45.21697020437866<br>\n",
    "    pandas describe=45.666901<br><br>\n",
    "    As there many ways in calculating std.    \n",
    "    There is different with numpy.std by default parameter ddof (Delta Degrees of Freedom):<br>\n",
    "    pandas by default ddof=1<br>\n",
    "    numpy by default ddof=0<br>\n",
    "    </font>"
   ]
  },
  {
   "cell_type": "markdown",
   "metadata": {},
   "source": [
    "#### Investigate trends in the data\n",
    "Using sorting and/or masking (along with the `.head` method to not print our entire dataframe), consider the following questions:\n",
    "\n",
    "- Which states have the highest and lowest participation rates for the:\n",
    "    - 2017 SAT?\n",
    "    - 2018 SAT?\n",
    "    - 2017 ACT?\n",
    "    - 2018 ACT?\n",
    "- Which states have the highest and lowest mean total/composite scores for the:\n",
    "    - 2017 SAT?\n",
    "    - 2018 SAT?\n",
    "    - 2017 ACT?\n",
    "    - 2018 ACT?\n",
    "- Do any states with 100% participation on a given test have a rate change year-to-year?\n",
    "- Do any states show have >50% participation on *both* tests either year?\n",
    "\n",
    "Based on what you've just observed, have you identified any states that you're especially interested in? **Make a note of these and state *why* you think they're interesting**.\n",
    "\n",
    "**You should comment on your findings at each step in a markdown cell below your code block**. Make sure you include at least one example of sorting your dataframe by a column, and one example of using boolean filtering (i.e., masking) to select a subset of the dataframe."
   ]
  },
  {
   "cell_type": "code",
   "execution_count": 95,
   "metadata": {},
   "outputs": [
    {
     "data": {
      "text/html": [
       "<div>\n",
       "<style scoped>\n",
       "    .dataframe tbody tr th:only-of-type {\n",
       "        vertical-align: middle;\n",
       "    }\n",
       "\n",
       "    .dataframe tbody tr th {\n",
       "        vertical-align: top;\n",
       "    }\n",
       "\n",
       "    .dataframe thead th {\n",
       "        text-align: right;\n",
       "    }\n",
       "</style>\n",
       "<table border=\"1\" class=\"dataframe\">\n",
       "  <thead>\n",
       "    <tr style=\"text-align: right;\">\n",
       "      <th></th>\n",
       "      <th>state</th>\n",
       "      <th>sat_17_participation</th>\n",
       "    </tr>\n",
       "  </thead>\n",
       "  <tbody>\n",
       "    <tr>\n",
       "      <th>34</th>\n",
       "      <td>North Dakota</td>\n",
       "      <td>2.0</td>\n",
       "    </tr>\n",
       "    <tr>\n",
       "      <th>24</th>\n",
       "      <td>Mississippi</td>\n",
       "      <td>2.0</td>\n",
       "    </tr>\n",
       "    <tr>\n",
       "      <th>15</th>\n",
       "      <td>Iowa</td>\n",
       "      <td>2.0</td>\n",
       "    </tr>\n",
       "    <tr>\n",
       "      <th>25</th>\n",
       "      <td>Missouri</td>\n",
       "      <td>3.0</td>\n",
       "    </tr>\n",
       "    <tr>\n",
       "      <th>44</th>\n",
       "      <td>Utah</td>\n",
       "      <td>3.0</td>\n",
       "    </tr>\n",
       "  </tbody>\n",
       "</table>\n",
       "</div>"
      ],
      "text/plain": [
       "           state  sat_17_participation\n",
       "34  North Dakota                   2.0\n",
       "24   Mississippi                   2.0\n",
       "15          Iowa                   2.0\n",
       "25      Missouri                   3.0\n",
       "44          Utah                   3.0"
      ]
     },
     "execution_count": 95,
     "metadata": {},
     "output_type": "execute_result"
    }
   ],
   "source": [
    "final[['state','sat_17_participation']].sort_values('sat_17_participation',ascending=True).head()"
   ]
  },
  {
   "cell_type": "markdown",
   "metadata": {},
   "source": [
    "<font color=blue>\n",
    "Lowest participation rates 2017 SAT are North Dakota (2%), Mississippi(2%), Iowa(2%)"
   ]
  },
  {
   "cell_type": "code",
   "execution_count": 102,
   "metadata": {},
   "outputs": [
    {
     "data": {
      "text/html": [
       "<div>\n",
       "<style scoped>\n",
       "    .dataframe tbody tr th:only-of-type {\n",
       "        vertical-align: middle;\n",
       "    }\n",
       "\n",
       "    .dataframe tbody tr th {\n",
       "        vertical-align: top;\n",
       "    }\n",
       "\n",
       "    .dataframe thead th {\n",
       "        text-align: right;\n",
       "    }\n",
       "</style>\n",
       "<table border=\"1\" class=\"dataframe\">\n",
       "  <thead>\n",
       "    <tr style=\"text-align: right;\">\n",
       "      <th></th>\n",
       "      <th>state</th>\n",
       "      <th>sat_17_participation</th>\n",
       "    </tr>\n",
       "  </thead>\n",
       "  <tbody>\n",
       "    <tr>\n",
       "      <th>8</th>\n",
       "      <td>District of Columbia</td>\n",
       "      <td>100.0</td>\n",
       "    </tr>\n",
       "    <tr>\n",
       "      <th>22</th>\n",
       "      <td>Michigan</td>\n",
       "      <td>100.0</td>\n",
       "    </tr>\n",
       "    <tr>\n",
       "      <th>6</th>\n",
       "      <td>Connecticut</td>\n",
       "      <td>100.0</td>\n",
       "    </tr>\n",
       "    <tr>\n",
       "      <th>7</th>\n",
       "      <td>Delaware</td>\n",
       "      <td>100.0</td>\n",
       "    </tr>\n",
       "    <tr>\n",
       "      <th>29</th>\n",
       "      <td>New Hampshire</td>\n",
       "      <td>96.0</td>\n",
       "    </tr>\n",
       "  </tbody>\n",
       "</table>\n",
       "</div>"
      ],
      "text/plain": [
       "                   state  sat_17_participation\n",
       "8   District of Columbia                 100.0\n",
       "22              Michigan                 100.0\n",
       "6            Connecticut                 100.0\n",
       "7               Delaware                 100.0\n",
       "29         New Hampshire                  96.0"
      ]
     },
     "execution_count": 102,
     "metadata": {},
     "output_type": "execute_result"
    }
   ],
   "source": [
    "final[['state','sat_17_participation']].sort_values('sat_17_participation',ascending=False).head()"
   ]
  },
  {
   "cell_type": "markdown",
   "metadata": {},
   "source": [
    "<font color=blue>Highest participation rates 2017 SAT are District of Columbia (100%), Michigan(100%), Connecticut(100%) and Delaware(100%)"
   ]
  },
  {
   "cell_type": "code",
   "execution_count": 109,
   "metadata": {},
   "outputs": [
    {
     "data": {
      "text/html": [
       "<div>\n",
       "<style scoped>\n",
       "    .dataframe tbody tr th:only-of-type {\n",
       "        vertical-align: middle;\n",
       "    }\n",
       "\n",
       "    .dataframe tbody tr th {\n",
       "        vertical-align: top;\n",
       "    }\n",
       "\n",
       "    .dataframe thead th {\n",
       "        text-align: right;\n",
       "    }\n",
       "</style>\n",
       "<table border=\"1\" class=\"dataframe\">\n",
       "  <thead>\n",
       "    <tr style=\"text-align: right;\">\n",
       "      <th></th>\n",
       "      <th>state</th>\n",
       "      <th>sat_18_participation</th>\n",
       "    </tr>\n",
       "  </thead>\n",
       "  <tbody>\n",
       "    <tr>\n",
       "      <th>34</th>\n",
       "      <td>North Dakota</td>\n",
       "      <td>2.0</td>\n",
       "    </tr>\n",
       "    <tr>\n",
       "      <th>50</th>\n",
       "      <td>Wyoming</td>\n",
       "      <td>3.0</td>\n",
       "    </tr>\n",
       "    <tr>\n",
       "      <th>41</th>\n",
       "      <td>South Dakota</td>\n",
       "      <td>3.0</td>\n",
       "    </tr>\n",
       "    <tr>\n",
       "      <th>27</th>\n",
       "      <td>Nebraska</td>\n",
       "      <td>3.0</td>\n",
       "    </tr>\n",
       "    <tr>\n",
       "      <th>49</th>\n",
       "      <td>Wisconsin</td>\n",
       "      <td>3.0</td>\n",
       "    </tr>\n",
       "  </tbody>\n",
       "</table>\n",
       "</div>"
      ],
      "text/plain": [
       "           state  sat_18_participation\n",
       "34  North Dakota                   2.0\n",
       "50       Wyoming                   3.0\n",
       "41  South Dakota                   3.0\n",
       "27      Nebraska                   3.0\n",
       "49     Wisconsin                   3.0"
      ]
     },
     "execution_count": 109,
     "metadata": {},
     "output_type": "execute_result"
    }
   ],
   "source": [
    "final[['state','sat_18_participation']].sort_values('sat_18_participation',ascending=True).head()"
   ]
  },
  {
   "cell_type": "markdown",
   "metadata": {},
   "source": [
    "<font color=blue>\n",
    "Lowest participation rates 2018 SAT is North Dakota (2%)"
   ]
  },
  {
   "cell_type": "code",
   "execution_count": 111,
   "metadata": {},
   "outputs": [
    {
     "data": {
      "text/html": [
       "<div>\n",
       "<style scoped>\n",
       "    .dataframe tbody tr th:only-of-type {\n",
       "        vertical-align: middle;\n",
       "    }\n",
       "\n",
       "    .dataframe tbody tr th {\n",
       "        vertical-align: top;\n",
       "    }\n",
       "\n",
       "    .dataframe thead th {\n",
       "        text-align: right;\n",
       "    }\n",
       "</style>\n",
       "<table border=\"1\" class=\"dataframe\">\n",
       "  <thead>\n",
       "    <tr style=\"text-align: right;\">\n",
       "      <th></th>\n",
       "      <th>state</th>\n",
       "      <th>sat_18_participation</th>\n",
       "    </tr>\n",
       "  </thead>\n",
       "  <tbody>\n",
       "    <tr>\n",
       "      <th>5</th>\n",
       "      <td>Colorado</td>\n",
       "      <td>100.0</td>\n",
       "    </tr>\n",
       "    <tr>\n",
       "      <th>6</th>\n",
       "      <td>Connecticut</td>\n",
       "      <td>100.0</td>\n",
       "    </tr>\n",
       "    <tr>\n",
       "      <th>7</th>\n",
       "      <td>Delaware</td>\n",
       "      <td>100.0</td>\n",
       "    </tr>\n",
       "    <tr>\n",
       "      <th>22</th>\n",
       "      <td>Michigan</td>\n",
       "      <td>100.0</td>\n",
       "    </tr>\n",
       "    <tr>\n",
       "      <th>12</th>\n",
       "      <td>Idaho</td>\n",
       "      <td>100.0</td>\n",
       "    </tr>\n",
       "    <tr>\n",
       "      <th>19</th>\n",
       "      <td>Maine</td>\n",
       "      <td>99.0</td>\n",
       "    </tr>\n",
       "  </tbody>\n",
       "</table>\n",
       "</div>"
      ],
      "text/plain": [
       "          state  sat_18_participation\n",
       "5      Colorado                 100.0\n",
       "6   Connecticut                 100.0\n",
       "7      Delaware                 100.0\n",
       "22     Michigan                 100.0\n",
       "12        Idaho                 100.0\n",
       "19        Maine                  99.0"
      ]
     },
     "execution_count": 111,
     "metadata": {},
     "output_type": "execute_result"
    }
   ],
   "source": [
    "final[['state','sat_18_participation']].sort_values('sat_18_participation',ascending=False).head(6)"
   ]
  },
  {
   "cell_type": "markdown",
   "metadata": {},
   "source": [
    "<font color=blue>Highest participation rates 2018 SAT are Colorado (100%), Connecticut (100%),Delaware (100%),Michigan (100%) and Idaho (100%)"
   ]
  },
  {
   "cell_type": "code",
   "execution_count": 113,
   "metadata": {},
   "outputs": [
    {
     "data": {
      "text/html": [
       "<div>\n",
       "<style scoped>\n",
       "    .dataframe tbody tr th:only-of-type {\n",
       "        vertical-align: middle;\n",
       "    }\n",
       "\n",
       "    .dataframe tbody tr th {\n",
       "        vertical-align: top;\n",
       "    }\n",
       "\n",
       "    .dataframe thead th {\n",
       "        text-align: right;\n",
       "    }\n",
       "</style>\n",
       "<table border=\"1\" class=\"dataframe\">\n",
       "  <thead>\n",
       "    <tr style=\"text-align: right;\">\n",
       "      <th></th>\n",
       "      <th>state</th>\n",
       "      <th>act_17_participation</th>\n",
       "    </tr>\n",
       "  </thead>\n",
       "  <tbody>\n",
       "    <tr>\n",
       "      <th>19</th>\n",
       "      <td>Maine</td>\n",
       "      <td>8.0</td>\n",
       "    </tr>\n",
       "    <tr>\n",
       "      <th>29</th>\n",
       "      <td>New Hampshire</td>\n",
       "      <td>18.0</td>\n",
       "    </tr>\n",
       "    <tr>\n",
       "      <th>7</th>\n",
       "      <td>Delaware</td>\n",
       "      <td>18.0</td>\n",
       "    </tr>\n",
       "    <tr>\n",
       "      <th>39</th>\n",
       "      <td>Rhode Island</td>\n",
       "      <td>21.0</td>\n",
       "    </tr>\n",
       "    <tr>\n",
       "      <th>38</th>\n",
       "      <td>Pennsylvania</td>\n",
       "      <td>23.0</td>\n",
       "    </tr>\n",
       "  </tbody>\n",
       "</table>\n",
       "</div>"
      ],
      "text/plain": [
       "            state  act_17_participation\n",
       "19          Maine                   8.0\n",
       "29  New Hampshire                  18.0\n",
       "7        Delaware                  18.0\n",
       "39   Rhode Island                  21.0\n",
       "38   Pennsylvania                  23.0"
      ]
     },
     "execution_count": 113,
     "metadata": {},
     "output_type": "execute_result"
    }
   ],
   "source": [
    "final[['state','act_17_participation']].sort_values('act_17_participation',ascending=True).head()"
   ]
  },
  {
   "cell_type": "markdown",
   "metadata": {},
   "source": [
    "<font color=blue>Lowest participation rates 2017 ACT is Maine (8%)"
   ]
  },
  {
   "cell_type": "code",
   "execution_count": 115,
   "metadata": {},
   "outputs": [
    {
     "data": {
      "text/html": [
       "<div>\n",
       "<style scoped>\n",
       "    .dataframe tbody tr th:only-of-type {\n",
       "        vertical-align: middle;\n",
       "    }\n",
       "\n",
       "    .dataframe tbody tr th {\n",
       "        vertical-align: top;\n",
       "    }\n",
       "\n",
       "    .dataframe thead th {\n",
       "        text-align: right;\n",
       "    }\n",
       "</style>\n",
       "<table border=\"1\" class=\"dataframe\">\n",
       "  <thead>\n",
       "    <tr style=\"text-align: right;\">\n",
       "      <th></th>\n",
       "      <th>state</th>\n",
       "      <th>act_17_participation</th>\n",
       "    </tr>\n",
       "  </thead>\n",
       "  <tbody>\n",
       "    <tr>\n",
       "      <th>0</th>\n",
       "      <td>Alabama</td>\n",
       "      <td>100.0</td>\n",
       "    </tr>\n",
       "    <tr>\n",
       "      <th>17</th>\n",
       "      <td>Kentucky</td>\n",
       "      <td>100.0</td>\n",
       "    </tr>\n",
       "    <tr>\n",
       "      <th>49</th>\n",
       "      <td>Wisconsin</td>\n",
       "      <td>100.0</td>\n",
       "    </tr>\n",
       "    <tr>\n",
       "      <th>44</th>\n",
       "      <td>Utah</td>\n",
       "      <td>100.0</td>\n",
       "    </tr>\n",
       "    <tr>\n",
       "      <th>42</th>\n",
       "      <td>Tennessee</td>\n",
       "      <td>100.0</td>\n",
       "    </tr>\n",
       "    <tr>\n",
       "      <th>40</th>\n",
       "      <td>South Carolina</td>\n",
       "      <td>100.0</td>\n",
       "    </tr>\n",
       "    <tr>\n",
       "      <th>36</th>\n",
       "      <td>Oklahoma</td>\n",
       "      <td>100.0</td>\n",
       "    </tr>\n",
       "    <tr>\n",
       "      <th>33</th>\n",
       "      <td>North Carolina</td>\n",
       "      <td>100.0</td>\n",
       "    </tr>\n",
       "    <tr>\n",
       "      <th>28</th>\n",
       "      <td>Nevada</td>\n",
       "      <td>100.0</td>\n",
       "    </tr>\n",
       "    <tr>\n",
       "      <th>26</th>\n",
       "      <td>Montana</td>\n",
       "      <td>100.0</td>\n",
       "    </tr>\n",
       "    <tr>\n",
       "      <th>24</th>\n",
       "      <td>Mississippi</td>\n",
       "      <td>100.0</td>\n",
       "    </tr>\n",
       "    <tr>\n",
       "      <th>23</th>\n",
       "      <td>Minnesota</td>\n",
       "      <td>100.0</td>\n",
       "    </tr>\n",
       "    <tr>\n",
       "      <th>18</th>\n",
       "      <td>Louisiana</td>\n",
       "      <td>100.0</td>\n",
       "    </tr>\n",
       "    <tr>\n",
       "      <th>25</th>\n",
       "      <td>Missouri</td>\n",
       "      <td>100.0</td>\n",
       "    </tr>\n",
       "    <tr>\n",
       "      <th>50</th>\n",
       "      <td>Wyoming</td>\n",
       "      <td>100.0</td>\n",
       "    </tr>\n",
       "    <tr>\n",
       "      <th>5</th>\n",
       "      <td>Colorado</td>\n",
       "      <td>100.0</td>\n",
       "    </tr>\n",
       "    <tr>\n",
       "      <th>3</th>\n",
       "      <td>Arkansas</td>\n",
       "      <td>100.0</td>\n",
       "    </tr>\n",
       "    <tr>\n",
       "      <th>34</th>\n",
       "      <td>North Dakota</td>\n",
       "      <td>98.0</td>\n",
       "    </tr>\n",
       "    <tr>\n",
       "      <th>13</th>\n",
       "      <td>Illinois</td>\n",
       "      <td>93.0</td>\n",
       "    </tr>\n",
       "  </tbody>\n",
       "</table>\n",
       "</div>"
      ],
      "text/plain": [
       "             state  act_17_participation\n",
       "0          Alabama                 100.0\n",
       "17        Kentucky                 100.0\n",
       "49       Wisconsin                 100.0\n",
       "44            Utah                 100.0\n",
       "42       Tennessee                 100.0\n",
       "40  South Carolina                 100.0\n",
       "36        Oklahoma                 100.0\n",
       "33  North Carolina                 100.0\n",
       "28          Nevada                 100.0\n",
       "26         Montana                 100.0\n",
       "24     Mississippi                 100.0\n",
       "23       Minnesota                 100.0\n",
       "18       Louisiana                 100.0\n",
       "25        Missouri                 100.0\n",
       "50         Wyoming                 100.0\n",
       "5         Colorado                 100.0\n",
       "3         Arkansas                 100.0\n",
       "34    North Dakota                  98.0\n",
       "13        Illinois                  93.0"
      ]
     },
     "execution_count": 115,
     "metadata": {},
     "output_type": "execute_result"
    }
   ],
   "source": [
    "final[['state','act_17_participation']].sort_values('act_17_participation',ascending=False).head(19)"
   ]
  },
  {
   "cell_type": "markdown",
   "metadata": {},
   "source": [
    "<font color=blue> Highest participation rates 2017 ACT are Alabama,Kentucky,Wisconsin,Utah,Tennessee,South Carolina,Oklahoma,North Carolina,Nevada,Montana,Mississippi,Minnesota,Louisiana,Missouri,Wyoming,Colorado and Arkansas with the rate of 100%"
   ]
  },
  {
   "cell_type": "code",
   "execution_count": 116,
   "metadata": {},
   "outputs": [
    {
     "data": {
      "text/html": [
       "<div>\n",
       "<style scoped>\n",
       "    .dataframe tbody tr th:only-of-type {\n",
       "        vertical-align: middle;\n",
       "    }\n",
       "\n",
       "    .dataframe tbody tr th {\n",
       "        vertical-align: top;\n",
       "    }\n",
       "\n",
       "    .dataframe thead th {\n",
       "        text-align: right;\n",
       "    }\n",
       "</style>\n",
       "<table border=\"1\" class=\"dataframe\">\n",
       "  <thead>\n",
       "    <tr style=\"text-align: right;\">\n",
       "      <th></th>\n",
       "      <th>state</th>\n",
       "      <th>act_18_participation</th>\n",
       "    </tr>\n",
       "  </thead>\n",
       "  <tbody>\n",
       "    <tr>\n",
       "      <th>19</th>\n",
       "      <td>Maine</td>\n",
       "      <td>7.0</td>\n",
       "    </tr>\n",
       "    <tr>\n",
       "      <th>39</th>\n",
       "      <td>Rhode Island</td>\n",
       "      <td>15.0</td>\n",
       "    </tr>\n",
       "    <tr>\n",
       "      <th>29</th>\n",
       "      <td>New Hampshire</td>\n",
       "      <td>16.0</td>\n",
       "    </tr>\n",
       "    <tr>\n",
       "      <th>7</th>\n",
       "      <td>Delaware</td>\n",
       "      <td>17.0</td>\n",
       "    </tr>\n",
       "    <tr>\n",
       "      <th>38</th>\n",
       "      <td>Pennsylvania</td>\n",
       "      <td>20.0</td>\n",
       "    </tr>\n",
       "  </tbody>\n",
       "</table>\n",
       "</div>"
      ],
      "text/plain": [
       "            state  act_18_participation\n",
       "19          Maine                   7.0\n",
       "39   Rhode Island                  15.0\n",
       "29  New Hampshire                  16.0\n",
       "7        Delaware                  17.0\n",
       "38   Pennsylvania                  20.0"
      ]
     },
     "execution_count": 116,
     "metadata": {},
     "output_type": "execute_result"
    }
   ],
   "source": [
    "final[['state','act_18_participation']].sort_values('act_18_participation',ascending=True).head()"
   ]
  },
  {
   "cell_type": "markdown",
   "metadata": {},
   "source": [
    "<font color=blue> Lowest participation rates 2018 ACT is Maine (7%)"
   ]
  },
  {
   "cell_type": "code",
   "execution_count": 118,
   "metadata": {},
   "outputs": [
    {
     "data": {
      "text/html": [
       "<div>\n",
       "<style scoped>\n",
       "    .dataframe tbody tr th:only-of-type {\n",
       "        vertical-align: middle;\n",
       "    }\n",
       "\n",
       "    .dataframe tbody tr th {\n",
       "        vertical-align: top;\n",
       "    }\n",
       "\n",
       "    .dataframe thead th {\n",
       "        text-align: right;\n",
       "    }\n",
       "</style>\n",
       "<table border=\"1\" class=\"dataframe\">\n",
       "  <thead>\n",
       "    <tr style=\"text-align: right;\">\n",
       "      <th></th>\n",
       "      <th>state</th>\n",
       "      <th>act_18_participation</th>\n",
       "    </tr>\n",
       "  </thead>\n",
       "  <tbody>\n",
       "    <tr>\n",
       "      <th>0</th>\n",
       "      <td>Alabama</td>\n",
       "      <td>100.0</td>\n",
       "    </tr>\n",
       "    <tr>\n",
       "      <th>17</th>\n",
       "      <td>Kentucky</td>\n",
       "      <td>100.0</td>\n",
       "    </tr>\n",
       "    <tr>\n",
       "      <th>49</th>\n",
       "      <td>Wisconsin</td>\n",
       "      <td>100.0</td>\n",
       "    </tr>\n",
       "    <tr>\n",
       "      <th>44</th>\n",
       "      <td>Utah</td>\n",
       "      <td>100.0</td>\n",
       "    </tr>\n",
       "    <tr>\n",
       "      <th>42</th>\n",
       "      <td>Tennessee</td>\n",
       "      <td>100.0</td>\n",
       "    </tr>\n",
       "    <tr>\n",
       "      <th>40</th>\n",
       "      <td>South Carolina</td>\n",
       "      <td>100.0</td>\n",
       "    </tr>\n",
       "    <tr>\n",
       "      <th>36</th>\n",
       "      <td>Oklahoma</td>\n",
       "      <td>100.0</td>\n",
       "    </tr>\n",
       "    <tr>\n",
       "      <th>35</th>\n",
       "      <td>Ohio</td>\n",
       "      <td>100.0</td>\n",
       "    </tr>\n",
       "    <tr>\n",
       "      <th>33</th>\n",
       "      <td>North Carolina</td>\n",
       "      <td>100.0</td>\n",
       "    </tr>\n",
       "    <tr>\n",
       "      <th>28</th>\n",
       "      <td>Nevada</td>\n",
       "      <td>100.0</td>\n",
       "    </tr>\n",
       "    <tr>\n",
       "      <th>27</th>\n",
       "      <td>Nebraska</td>\n",
       "      <td>100.0</td>\n",
       "    </tr>\n",
       "    <tr>\n",
       "      <th>26</th>\n",
       "      <td>Montana</td>\n",
       "      <td>100.0</td>\n",
       "    </tr>\n",
       "    <tr>\n",
       "      <th>24</th>\n",
       "      <td>Mississippi</td>\n",
       "      <td>100.0</td>\n",
       "    </tr>\n",
       "    <tr>\n",
       "      <th>18</th>\n",
       "      <td>Louisiana</td>\n",
       "      <td>100.0</td>\n",
       "    </tr>\n",
       "    <tr>\n",
       "      <th>25</th>\n",
       "      <td>Missouri</td>\n",
       "      <td>100.0</td>\n",
       "    </tr>\n",
       "    <tr>\n",
       "      <th>50</th>\n",
       "      <td>Wyoming</td>\n",
       "      <td>100.0</td>\n",
       "    </tr>\n",
       "    <tr>\n",
       "      <th>3</th>\n",
       "      <td>Arkansas</td>\n",
       "      <td>100.0</td>\n",
       "    </tr>\n",
       "    <tr>\n",
       "      <th>23</th>\n",
       "      <td>Minnesota</td>\n",
       "      <td>99.0</td>\n",
       "    </tr>\n",
       "    <tr>\n",
       "      <th>34</th>\n",
       "      <td>North Dakota</td>\n",
       "      <td>98.0</td>\n",
       "    </tr>\n",
       "  </tbody>\n",
       "</table>\n",
       "</div>"
      ],
      "text/plain": [
       "             state  act_18_participation\n",
       "0          Alabama                 100.0\n",
       "17        Kentucky                 100.0\n",
       "49       Wisconsin                 100.0\n",
       "44            Utah                 100.0\n",
       "42       Tennessee                 100.0\n",
       "40  South Carolina                 100.0\n",
       "36        Oklahoma                 100.0\n",
       "35            Ohio                 100.0\n",
       "33  North Carolina                 100.0\n",
       "28          Nevada                 100.0\n",
       "27        Nebraska                 100.0\n",
       "26         Montana                 100.0\n",
       "24     Mississippi                 100.0\n",
       "18       Louisiana                 100.0\n",
       "25        Missouri                 100.0\n",
       "50         Wyoming                 100.0\n",
       "3         Arkansas                 100.0\n",
       "23       Minnesota                  99.0\n",
       "34    North Dakota                  98.0"
      ]
     },
     "execution_count": 118,
     "metadata": {},
     "output_type": "execute_result"
    }
   ],
   "source": [
    "final[['state','act_18_participation']].sort_values('act_18_participation',ascending=False).head(19)"
   ]
  },
  {
   "cell_type": "markdown",
   "metadata": {},
   "source": [
    "<font color=blue> Highest participation rates 2018 ACT are Alabama,Kentucky,Wisconsin,Utah,Tennessee,South Carolina,Oklahoma,Ohio\t,North Carolina,Nevada,Nebraska,Montana,Mississippi,Louisiana,Missouri,Wyoming and Arkansas with the rate of 100%\n"
   ]
  },
  {
   "cell_type": "code",
   "execution_count": 122,
   "metadata": {},
   "outputs": [
    {
     "data": {
      "text/html": [
       "<div>\n",
       "<style scoped>\n",
       "    .dataframe tbody tr th:only-of-type {\n",
       "        vertical-align: middle;\n",
       "    }\n",
       "\n",
       "    .dataframe tbody tr th {\n",
       "        vertical-align: top;\n",
       "    }\n",
       "\n",
       "    .dataframe thead th {\n",
       "        text-align: right;\n",
       "    }\n",
       "</style>\n",
       "<table border=\"1\" class=\"dataframe\">\n",
       "  <thead>\n",
       "    <tr style=\"text-align: right;\">\n",
       "      <th></th>\n",
       "      <th>state</th>\n",
       "      <th>sat_17_total</th>\n",
       "    </tr>\n",
       "  </thead>\n",
       "  <tbody>\n",
       "    <tr>\n",
       "      <th>8</th>\n",
       "      <td>District of Columbia</td>\n",
       "      <td>950</td>\n",
       "    </tr>\n",
       "    <tr>\n",
       "      <th>7</th>\n",
       "      <td>Delaware</td>\n",
       "      <td>996</td>\n",
       "    </tr>\n",
       "    <tr>\n",
       "      <th>12</th>\n",
       "      <td>Idaho</td>\n",
       "      <td>1005</td>\n",
       "    </tr>\n",
       "    <tr>\n",
       "      <th>22</th>\n",
       "      <td>Michigan</td>\n",
       "      <td>1005</td>\n",
       "    </tr>\n",
       "    <tr>\n",
       "      <th>19</th>\n",
       "      <td>Maine</td>\n",
       "      <td>1012</td>\n",
       "    </tr>\n",
       "  </tbody>\n",
       "</table>\n",
       "</div>"
      ],
      "text/plain": [
       "                   state  sat_17_total\n",
       "8   District of Columbia           950\n",
       "7               Delaware           996\n",
       "12                 Idaho          1005\n",
       "22              Michigan          1005\n",
       "19                 Maine          1012"
      ]
     },
     "execution_count": 122,
     "metadata": {},
     "output_type": "execute_result"
    }
   ],
   "source": [
    "composite_total=final[['state','sat_17_total']].sort_values('sat_17_total',ascending=True).head()\n",
    "composite_total"
   ]
  },
  {
   "cell_type": "markdown",
   "metadata": {},
   "source": [
    "<font color=blue>States have the lowest mean total/composite scores for 2017 SAT is District of Columbia (950)"
   ]
  },
  {
   "cell_type": "code",
   "execution_count": 125,
   "metadata": {},
   "outputs": [
    {
     "data": {
      "text/html": [
       "<div>\n",
       "<style scoped>\n",
       "    .dataframe tbody tr th:only-of-type {\n",
       "        vertical-align: middle;\n",
       "    }\n",
       "\n",
       "    .dataframe tbody tr th {\n",
       "        vertical-align: top;\n",
       "    }\n",
       "\n",
       "    .dataframe thead th {\n",
       "        text-align: right;\n",
       "    }\n",
       "</style>\n",
       "<table border=\"1\" class=\"dataframe\">\n",
       "  <thead>\n",
       "    <tr style=\"text-align: right;\">\n",
       "      <th></th>\n",
       "      <th>state</th>\n",
       "      <th>sat_17_total</th>\n",
       "    </tr>\n",
       "  </thead>\n",
       "  <tbody>\n",
       "    <tr>\n",
       "      <th>23</th>\n",
       "      <td>Minnesota</td>\n",
       "      <td>1295</td>\n",
       "    </tr>\n",
       "    <tr>\n",
       "      <th>49</th>\n",
       "      <td>Wisconsin</td>\n",
       "      <td>1291</td>\n",
       "    </tr>\n",
       "    <tr>\n",
       "      <th>15</th>\n",
       "      <td>Iowa</td>\n",
       "      <td>1275</td>\n",
       "    </tr>\n",
       "    <tr>\n",
       "      <th>25</th>\n",
       "      <td>Missouri</td>\n",
       "      <td>1271</td>\n",
       "    </tr>\n",
       "    <tr>\n",
       "      <th>16</th>\n",
       "      <td>Kansas</td>\n",
       "      <td>1260</td>\n",
       "    </tr>\n",
       "  </tbody>\n",
       "</table>\n",
       "</div>"
      ],
      "text/plain": [
       "        state  sat_17_total\n",
       "23  Minnesota          1295\n",
       "49  Wisconsin          1291\n",
       "15       Iowa          1275\n",
       "25   Missouri          1271\n",
       "16     Kansas          1260"
      ]
     },
     "execution_count": 125,
     "metadata": {},
     "output_type": "execute_result"
    }
   ],
   "source": [
    "composite_total=final[['state','sat_17_total']].sort_values('sat_17_total',ascending=False).head()\n",
    "composite_total"
   ]
  },
  {
   "cell_type": "markdown",
   "metadata": {},
   "source": [
    "<font color=blue>\n",
    "States have the highest  mean total/composite scores for 2017 SAT is Minnesota (1295)"
   ]
  },
  {
   "cell_type": "code",
   "execution_count": 128,
   "metadata": {},
   "outputs": [
    {
     "data": {
      "text/html": [
       "<div>\n",
       "<style scoped>\n",
       "    .dataframe tbody tr th:only-of-type {\n",
       "        vertical-align: middle;\n",
       "    }\n",
       "\n",
       "    .dataframe tbody tr th {\n",
       "        vertical-align: top;\n",
       "    }\n",
       "\n",
       "    .dataframe thead th {\n",
       "        text-align: right;\n",
       "    }\n",
       "</style>\n",
       "<table border=\"1\" class=\"dataframe\">\n",
       "  <thead>\n",
       "    <tr style=\"text-align: right;\">\n",
       "      <th></th>\n",
       "      <th>state</th>\n",
       "      <th>sat_18_total</th>\n",
       "    </tr>\n",
       "  </thead>\n",
       "  <tbody>\n",
       "    <tr>\n",
       "      <th>8</th>\n",
       "      <td>District of Columbia</td>\n",
       "      <td>977</td>\n",
       "    </tr>\n",
       "    <tr>\n",
       "      <th>7</th>\n",
       "      <td>Delaware</td>\n",
       "      <td>998</td>\n",
       "    </tr>\n",
       "    <tr>\n",
       "      <th>48</th>\n",
       "      <td>West Virginia</td>\n",
       "      <td>999</td>\n",
       "    </tr>\n",
       "    <tr>\n",
       "      <th>12</th>\n",
       "      <td>Idaho</td>\n",
       "      <td>1001</td>\n",
       "    </tr>\n",
       "    <tr>\n",
       "      <th>44</th>\n",
       "      <td>Utah</td>\n",
       "      <td>1010</td>\n",
       "    </tr>\n",
       "  </tbody>\n",
       "</table>\n",
       "</div>"
      ],
      "text/plain": [
       "                   state  sat_18_total\n",
       "8   District of Columbia           977\n",
       "7               Delaware           998\n",
       "48         West Virginia           999\n",
       "12                 Idaho          1001\n",
       "44                  Utah          1010"
      ]
     },
     "execution_count": 128,
     "metadata": {},
     "output_type": "execute_result"
    }
   ],
   "source": [
    "composite_total=final[['state','sat_18_total']].sort_values('sat_18_total',ascending=True).head()\n",
    "composite_total"
   ]
  },
  {
   "cell_type": "markdown",
   "metadata": {},
   "source": [
    "<font color=blue>States have the lowest  mean total/composite scores for 2018 SAT is District of Columbia (977)"
   ]
  },
  {
   "cell_type": "code",
   "execution_count": 129,
   "metadata": {},
   "outputs": [
    {
     "data": {
      "text/html": [
       "<div>\n",
       "<style scoped>\n",
       "    .dataframe tbody tr th:only-of-type {\n",
       "        vertical-align: middle;\n",
       "    }\n",
       "\n",
       "    .dataframe tbody tr th {\n",
       "        vertical-align: top;\n",
       "    }\n",
       "\n",
       "    .dataframe thead th {\n",
       "        text-align: right;\n",
       "    }\n",
       "</style>\n",
       "<table border=\"1\" class=\"dataframe\">\n",
       "  <thead>\n",
       "    <tr style=\"text-align: right;\">\n",
       "      <th></th>\n",
       "      <th>state</th>\n",
       "      <th>sat_18_total</th>\n",
       "    </tr>\n",
       "  </thead>\n",
       "  <tbody>\n",
       "    <tr>\n",
       "      <th>23</th>\n",
       "      <td>Minnesota</td>\n",
       "      <td>1298</td>\n",
       "    </tr>\n",
       "    <tr>\n",
       "      <th>49</th>\n",
       "      <td>Wisconsin</td>\n",
       "      <td>1294</td>\n",
       "    </tr>\n",
       "    <tr>\n",
       "      <th>34</th>\n",
       "      <td>North Dakota</td>\n",
       "      <td>1283</td>\n",
       "    </tr>\n",
       "    <tr>\n",
       "      <th>15</th>\n",
       "      <td>Iowa</td>\n",
       "      <td>1265</td>\n",
       "    </tr>\n",
       "    <tr>\n",
       "      <th>16</th>\n",
       "      <td>Kansas</td>\n",
       "      <td>1265</td>\n",
       "    </tr>\n",
       "  </tbody>\n",
       "</table>\n",
       "</div>"
      ],
      "text/plain": [
       "           state  sat_18_total\n",
       "23     Minnesota          1298\n",
       "49     Wisconsin          1294\n",
       "34  North Dakota          1283\n",
       "15          Iowa          1265\n",
       "16        Kansas          1265"
      ]
     },
     "execution_count": 129,
     "metadata": {},
     "output_type": "execute_result"
    }
   ],
   "source": [
    "composite_total=final[['state','sat_18_total']].sort_values('sat_18_total',ascending=False).head()\n",
    "composite_total"
   ]
  },
  {
   "cell_type": "markdown",
   "metadata": {},
   "source": [
    "<font color=blue>States have the highest  mean total/composite scores for 2018 SAT is Minnesota (1298)"
   ]
  },
  {
   "cell_type": "code",
   "execution_count": 132,
   "metadata": {},
   "outputs": [
    {
     "data": {
      "text/html": [
       "<div>\n",
       "<style scoped>\n",
       "    .dataframe tbody tr th:only-of-type {\n",
       "        vertical-align: middle;\n",
       "    }\n",
       "\n",
       "    .dataframe tbody tr th {\n",
       "        vertical-align: top;\n",
       "    }\n",
       "\n",
       "    .dataframe thead th {\n",
       "        text-align: right;\n",
       "    }\n",
       "</style>\n",
       "<table border=\"1\" class=\"dataframe\">\n",
       "  <thead>\n",
       "    <tr style=\"text-align: right;\">\n",
       "      <th></th>\n",
       "      <th>state</th>\n",
       "      <th>act_17_composite</th>\n",
       "    </tr>\n",
       "  </thead>\n",
       "  <tbody>\n",
       "    <tr>\n",
       "      <th>28</th>\n",
       "      <td>Nevada</td>\n",
       "      <td>17.8</td>\n",
       "    </tr>\n",
       "    <tr>\n",
       "      <th>24</th>\n",
       "      <td>Mississippi</td>\n",
       "      <td>18.6</td>\n",
       "    </tr>\n",
       "    <tr>\n",
       "      <th>40</th>\n",
       "      <td>South Carolina</td>\n",
       "      <td>18.7</td>\n",
       "    </tr>\n",
       "    <tr>\n",
       "      <th>11</th>\n",
       "      <td>Hawaii</td>\n",
       "      <td>19.0</td>\n",
       "    </tr>\n",
       "    <tr>\n",
       "      <th>33</th>\n",
       "      <td>North Carolina</td>\n",
       "      <td>19.1</td>\n",
       "    </tr>\n",
       "  </tbody>\n",
       "</table>\n",
       "</div>"
      ],
      "text/plain": [
       "             state  act_17_composite\n",
       "28          Nevada              17.8\n",
       "24     Mississippi              18.6\n",
       "40  South Carolina              18.7\n",
       "11          Hawaii              19.0\n",
       "33  North Carolina              19.1"
      ]
     },
     "execution_count": 132,
     "metadata": {},
     "output_type": "execute_result"
    }
   ],
   "source": [
    "composite_total=final[['state','act_17_composite']].sort_values('act_17_composite',ascending=True).head()\n",
    "composite_total"
   ]
  },
  {
   "cell_type": "markdown",
   "metadata": {},
   "source": [
    "<font color=blue> States have the lowest  mean total/composite scores for 2017 ACT is Nevada (17.8)"
   ]
  },
  {
   "cell_type": "code",
   "execution_count": 134,
   "metadata": {},
   "outputs": [
    {
     "data": {
      "text/html": [
       "<div>\n",
       "<style scoped>\n",
       "    .dataframe tbody tr th:only-of-type {\n",
       "        vertical-align: middle;\n",
       "    }\n",
       "\n",
       "    .dataframe tbody tr th {\n",
       "        vertical-align: top;\n",
       "    }\n",
       "\n",
       "    .dataframe thead th {\n",
       "        text-align: right;\n",
       "    }\n",
       "</style>\n",
       "<table border=\"1\" class=\"dataframe\">\n",
       "  <thead>\n",
       "    <tr style=\"text-align: right;\">\n",
       "      <th></th>\n",
       "      <th>state</th>\n",
       "      <th>act_17_composite</th>\n",
       "    </tr>\n",
       "  </thead>\n",
       "  <tbody>\n",
       "    <tr>\n",
       "      <th>29</th>\n",
       "      <td>New Hampshire</td>\n",
       "      <td>25.5</td>\n",
       "    </tr>\n",
       "    <tr>\n",
       "      <th>21</th>\n",
       "      <td>Massachusetts</td>\n",
       "      <td>25.4</td>\n",
       "    </tr>\n",
       "    <tr>\n",
       "      <th>6</th>\n",
       "      <td>Connecticut</td>\n",
       "      <td>25.2</td>\n",
       "    </tr>\n",
       "    <tr>\n",
       "      <th>19</th>\n",
       "      <td>Maine</td>\n",
       "      <td>24.3</td>\n",
       "    </tr>\n",
       "    <tr>\n",
       "      <th>8</th>\n",
       "      <td>District of Columbia</td>\n",
       "      <td>24.2</td>\n",
       "    </tr>\n",
       "  </tbody>\n",
       "</table>\n",
       "</div>"
      ],
      "text/plain": [
       "                   state  act_17_composite\n",
       "29         New Hampshire              25.5\n",
       "21         Massachusetts              25.4\n",
       "6            Connecticut              25.2\n",
       "19                 Maine              24.3\n",
       "8   District of Columbia              24.2"
      ]
     },
     "execution_count": 134,
     "metadata": {},
     "output_type": "execute_result"
    }
   ],
   "source": [
    "composite_total=final[['state','act_17_composite']].sort_values('act_17_composite',ascending=False).head()\n",
    "composite_total"
   ]
  },
  {
   "cell_type": "markdown",
   "metadata": {},
   "source": [
    "<font color=blue> States have the highest  mean total/composite scores for 2017 ACT is New Hampshire (25.5)"
   ]
  },
  {
   "cell_type": "code",
   "execution_count": 135,
   "metadata": {},
   "outputs": [
    {
     "data": {
      "text/html": [
       "<div>\n",
       "<style scoped>\n",
       "    .dataframe tbody tr th:only-of-type {\n",
       "        vertical-align: middle;\n",
       "    }\n",
       "\n",
       "    .dataframe tbody tr th {\n",
       "        vertical-align: top;\n",
       "    }\n",
       "\n",
       "    .dataframe thead th {\n",
       "        text-align: right;\n",
       "    }\n",
       "</style>\n",
       "<table border=\"1\" class=\"dataframe\">\n",
       "  <thead>\n",
       "    <tr style=\"text-align: right;\">\n",
       "      <th></th>\n",
       "      <th>state</th>\n",
       "      <th>act_18_composite</th>\n",
       "    </tr>\n",
       "  </thead>\n",
       "  <tbody>\n",
       "    <tr>\n",
       "      <th>28</th>\n",
       "      <td>Nevada</td>\n",
       "      <td>17.7</td>\n",
       "    </tr>\n",
       "    <tr>\n",
       "      <th>40</th>\n",
       "      <td>South Carolina</td>\n",
       "      <td>18.3</td>\n",
       "    </tr>\n",
       "    <tr>\n",
       "      <th>24</th>\n",
       "      <td>Mississippi</td>\n",
       "      <td>18.6</td>\n",
       "    </tr>\n",
       "    <tr>\n",
       "      <th>11</th>\n",
       "      <td>Hawaii</td>\n",
       "      <td>18.9</td>\n",
       "    </tr>\n",
       "    <tr>\n",
       "      <th>0</th>\n",
       "      <td>Alabama</td>\n",
       "      <td>19.1</td>\n",
       "    </tr>\n",
       "  </tbody>\n",
       "</table>\n",
       "</div>"
      ],
      "text/plain": [
       "             state  act_18_composite\n",
       "28          Nevada              17.7\n",
       "40  South Carolina              18.3\n",
       "24     Mississippi              18.6\n",
       "11          Hawaii              18.9\n",
       "0          Alabama              19.1"
      ]
     },
     "execution_count": 135,
     "metadata": {},
     "output_type": "execute_result"
    }
   ],
   "source": [
    "composite_total=final[['state','act_18_composite']].sort_values('act_18_composite',ascending=True).head()\n",
    "composite_total"
   ]
  },
  {
   "cell_type": "markdown",
   "metadata": {},
   "source": [
    "<font color=blue>States have the lowest  mean total/composite scores for2018 ACT is Nevada (17.7)"
   ]
  },
  {
   "cell_type": "code",
   "execution_count": 136,
   "metadata": {},
   "outputs": [
    {
     "data": {
      "text/html": [
       "<div>\n",
       "<style scoped>\n",
       "    .dataframe tbody tr th:only-of-type {\n",
       "        vertical-align: middle;\n",
       "    }\n",
       "\n",
       "    .dataframe tbody tr th {\n",
       "        vertical-align: top;\n",
       "    }\n",
       "\n",
       "    .dataframe thead th {\n",
       "        text-align: right;\n",
       "    }\n",
       "</style>\n",
       "<table border=\"1\" class=\"dataframe\">\n",
       "  <thead>\n",
       "    <tr style=\"text-align: right;\">\n",
       "      <th></th>\n",
       "      <th>state</th>\n",
       "      <th>act_18_composite</th>\n",
       "    </tr>\n",
       "  </thead>\n",
       "  <tbody>\n",
       "    <tr>\n",
       "      <th>6</th>\n",
       "      <td>Connecticut</td>\n",
       "      <td>25.6</td>\n",
       "    </tr>\n",
       "    <tr>\n",
       "      <th>21</th>\n",
       "      <td>Massachusetts</td>\n",
       "      <td>25.5</td>\n",
       "    </tr>\n",
       "    <tr>\n",
       "      <th>29</th>\n",
       "      <td>New Hampshire</td>\n",
       "      <td>25.1</td>\n",
       "    </tr>\n",
       "    <tr>\n",
       "      <th>32</th>\n",
       "      <td>New York</td>\n",
       "      <td>24.5</td>\n",
       "    </tr>\n",
       "    <tr>\n",
       "      <th>22</th>\n",
       "      <td>Michigan</td>\n",
       "      <td>24.4</td>\n",
       "    </tr>\n",
       "  </tbody>\n",
       "</table>\n",
       "</div>"
      ],
      "text/plain": [
       "            state  act_18_composite\n",
       "6     Connecticut              25.6\n",
       "21  Massachusetts              25.5\n",
       "29  New Hampshire              25.1\n",
       "32       New York              24.5\n",
       "22       Michigan              24.4"
      ]
     },
     "execution_count": 136,
     "metadata": {},
     "output_type": "execute_result"
    }
   ],
   "source": [
    "composite_total=final[['state','act_18_composite']].sort_values('act_18_composite',ascending=False).head()\n",
    "composite_total"
   ]
  },
  {
   "cell_type": "markdown",
   "metadata": {},
   "source": [
    "<font color=blue>States have the highest  mean total/composite scores for2018 ACT is Connecticut (25.6)"
   ]
  },
  {
   "cell_type": "markdown",
   "metadata": {},
   "source": [
    "Do any states with 100% participation on a given test have a rate change year-to-year?</font>"
   ]
  },
  {
   "cell_type": "code",
   "execution_count": null,
   "metadata": {},
   "outputs": [],
   "source": [
    "#participation_sat=final[['state','sat_17_participation','sat_18_participation','act_17_participation','act_18_participation']]"
   ]
  },
  {
   "cell_type": "code",
   "execution_count": 193,
   "metadata": {},
   "outputs": [],
   "source": [
    "# create participation_sat\n",
    "participation_sat=final[['state','sat_17_participation','sat_18_participation']]"
   ]
  },
  {
   "cell_type": "code",
   "execution_count": 194,
   "metadata": {},
   "outputs": [
    {
     "data": {
      "text/html": [
       "<div>\n",
       "<style scoped>\n",
       "    .dataframe tbody tr th:only-of-type {\n",
       "        vertical-align: middle;\n",
       "    }\n",
       "\n",
       "    .dataframe tbody tr th {\n",
       "        vertical-align: top;\n",
       "    }\n",
       "\n",
       "    .dataframe thead th {\n",
       "        text-align: right;\n",
       "    }\n",
       "</style>\n",
       "<table border=\"1\" class=\"dataframe\">\n",
       "  <thead>\n",
       "    <tr style=\"text-align: right;\">\n",
       "      <th></th>\n",
       "      <th>state</th>\n",
       "      <th>sat_17_participation</th>\n",
       "      <th>sat_18_participation</th>\n",
       "    </tr>\n",
       "  </thead>\n",
       "  <tbody>\n",
       "    <tr>\n",
       "      <th>6</th>\n",
       "      <td>Connecticut</td>\n",
       "      <td>100.0</td>\n",
       "      <td>100.0</td>\n",
       "    </tr>\n",
       "    <tr>\n",
       "      <th>6</th>\n",
       "      <td>Connecticut</td>\n",
       "      <td>100.0</td>\n",
       "      <td>100.0</td>\n",
       "    </tr>\n",
       "    <tr>\n",
       "      <th>7</th>\n",
       "      <td>Delaware</td>\n",
       "      <td>100.0</td>\n",
       "      <td>100.0</td>\n",
       "    </tr>\n",
       "    <tr>\n",
       "      <th>7</th>\n",
       "      <td>Delaware</td>\n",
       "      <td>100.0</td>\n",
       "      <td>100.0</td>\n",
       "    </tr>\n",
       "    <tr>\n",
       "      <th>8</th>\n",
       "      <td>District of Columbia</td>\n",
       "      <td>100.0</td>\n",
       "      <td>92.0</td>\n",
       "    </tr>\n",
       "    <tr>\n",
       "      <th>22</th>\n",
       "      <td>Michigan</td>\n",
       "      <td>100.0</td>\n",
       "      <td>100.0</td>\n",
       "    </tr>\n",
       "    <tr>\n",
       "      <th>22</th>\n",
       "      <td>Michigan</td>\n",
       "      <td>100.0</td>\n",
       "      <td>100.0</td>\n",
       "    </tr>\n",
       "    <tr>\n",
       "      <th>12</th>\n",
       "      <td>Idaho</td>\n",
       "      <td>93.0</td>\n",
       "      <td>100.0</td>\n",
       "    </tr>\n",
       "    <tr>\n",
       "      <th>5</th>\n",
       "      <td>Colorado</td>\n",
       "      <td>11.0</td>\n",
       "      <td>100.0</td>\n",
       "    </tr>\n",
       "  </tbody>\n",
       "</table>\n",
       "</div>"
      ],
      "text/plain": [
       "                   state  sat_17_participation  sat_18_participation\n",
       "6            Connecticut                 100.0                 100.0\n",
       "6            Connecticut                 100.0                 100.0\n",
       "7               Delaware                 100.0                 100.0\n",
       "7               Delaware                 100.0                 100.0\n",
       "8   District of Columbia                 100.0                  92.0\n",
       "22              Michigan                 100.0                 100.0\n",
       "22              Michigan                 100.0                 100.0\n",
       "12                 Idaho                  93.0                 100.0\n",
       "5               Colorado                  11.0                 100.0"
      ]
     },
     "execution_count": 194,
     "metadata": {},
     "output_type": "execute_result"
    }
   ],
   "source": [
    "# filter sat participation rate ==100 and sort by sat_17 value descending order\n",
    "participation_sat[participation_sat[['state','sat_17_participation','sat_18_participation']].values==100.0].sort_values('sat_17_participation',ascending=False)"
   ]
  },
  {
   "cell_type": "markdown",
   "metadata": {},
   "source": [
    "<font color=blue> For SAT test:<br>\n",
    "Of the 4 states that has 100% participation rate in year 2017, only Connecticut,Delaware and Michigan maintained 100% participation rate in year 2018.<br> \n",
    "District of Columbia has dropped from 100% in year 2017 to 92% in year 2018\t<br>\n",
    "Colorado on the other hand has increased from 11% in Year 2017 to 100% in year 2018 <br><br>"
   ]
  },
  {
   "cell_type": "code",
   "execution_count": 158,
   "metadata": {},
   "outputs": [],
   "source": [
    "# create participation_act\n",
    "participation_act=final[['state','act_17_participation','act_18_participation']]"
   ]
  },
  {
   "cell_type": "code",
   "execution_count": 159,
   "metadata": {},
   "outputs": [
    {
     "data": {
      "text/html": [
       "<div>\n",
       "<style scoped>\n",
       "    .dataframe tbody tr th:only-of-type {\n",
       "        vertical-align: middle;\n",
       "    }\n",
       "\n",
       "    .dataframe tbody tr th {\n",
       "        vertical-align: top;\n",
       "    }\n",
       "\n",
       "    .dataframe thead th {\n",
       "        text-align: right;\n",
       "    }\n",
       "</style>\n",
       "<table border=\"1\" class=\"dataframe\">\n",
       "  <thead>\n",
       "    <tr style=\"text-align: right;\">\n",
       "      <th></th>\n",
       "      <th>state</th>\n",
       "      <th>act_17_participation</th>\n",
       "      <th>act_18_participation</th>\n",
       "    </tr>\n",
       "  </thead>\n",
       "  <tbody>\n",
       "    <tr>\n",
       "      <th>0</th>\n",
       "      <td>Alabama</td>\n",
       "      <td>100.0</td>\n",
       "      <td>100.0</td>\n",
       "    </tr>\n",
       "    <tr>\n",
       "      <th>0</th>\n",
       "      <td>Alabama</td>\n",
       "      <td>100.0</td>\n",
       "      <td>100.0</td>\n",
       "    </tr>\n",
       "    <tr>\n",
       "      <th>50</th>\n",
       "      <td>Wyoming</td>\n",
       "      <td>100.0</td>\n",
       "      <td>100.0</td>\n",
       "    </tr>\n",
       "    <tr>\n",
       "      <th>49</th>\n",
       "      <td>Wisconsin</td>\n",
       "      <td>100.0</td>\n",
       "      <td>100.0</td>\n",
       "    </tr>\n",
       "    <tr>\n",
       "      <th>49</th>\n",
       "      <td>Wisconsin</td>\n",
       "      <td>100.0</td>\n",
       "      <td>100.0</td>\n",
       "    </tr>\n",
       "    <tr>\n",
       "      <th>44</th>\n",
       "      <td>Utah</td>\n",
       "      <td>100.0</td>\n",
       "      <td>100.0</td>\n",
       "    </tr>\n",
       "    <tr>\n",
       "      <th>44</th>\n",
       "      <td>Utah</td>\n",
       "      <td>100.0</td>\n",
       "      <td>100.0</td>\n",
       "    </tr>\n",
       "    <tr>\n",
       "      <th>42</th>\n",
       "      <td>Tennessee</td>\n",
       "      <td>100.0</td>\n",
       "      <td>100.0</td>\n",
       "    </tr>\n",
       "    <tr>\n",
       "      <th>42</th>\n",
       "      <td>Tennessee</td>\n",
       "      <td>100.0</td>\n",
       "      <td>100.0</td>\n",
       "    </tr>\n",
       "    <tr>\n",
       "      <th>40</th>\n",
       "      <td>South Carolina</td>\n",
       "      <td>100.0</td>\n",
       "      <td>100.0</td>\n",
       "    </tr>\n",
       "    <tr>\n",
       "      <th>40</th>\n",
       "      <td>South Carolina</td>\n",
       "      <td>100.0</td>\n",
       "      <td>100.0</td>\n",
       "    </tr>\n",
       "    <tr>\n",
       "      <th>36</th>\n",
       "      <td>Oklahoma</td>\n",
       "      <td>100.0</td>\n",
       "      <td>100.0</td>\n",
       "    </tr>\n",
       "    <tr>\n",
       "      <th>36</th>\n",
       "      <td>Oklahoma</td>\n",
       "      <td>100.0</td>\n",
       "      <td>100.0</td>\n",
       "    </tr>\n",
       "    <tr>\n",
       "      <th>33</th>\n",
       "      <td>North Carolina</td>\n",
       "      <td>100.0</td>\n",
       "      <td>100.0</td>\n",
       "    </tr>\n",
       "    <tr>\n",
       "      <th>33</th>\n",
       "      <td>North Carolina</td>\n",
       "      <td>100.0</td>\n",
       "      <td>100.0</td>\n",
       "    </tr>\n",
       "    <tr>\n",
       "      <th>28</th>\n",
       "      <td>Nevada</td>\n",
       "      <td>100.0</td>\n",
       "      <td>100.0</td>\n",
       "    </tr>\n",
       "    <tr>\n",
       "      <th>28</th>\n",
       "      <td>Nevada</td>\n",
       "      <td>100.0</td>\n",
       "      <td>100.0</td>\n",
       "    </tr>\n",
       "    <tr>\n",
       "      <th>23</th>\n",
       "      <td>Minnesota</td>\n",
       "      <td>100.0</td>\n",
       "      <td>99.0</td>\n",
       "    </tr>\n",
       "    <tr>\n",
       "      <th>18</th>\n",
       "      <td>Louisiana</td>\n",
       "      <td>100.0</td>\n",
       "      <td>100.0</td>\n",
       "    </tr>\n",
       "    <tr>\n",
       "      <th>3</th>\n",
       "      <td>Arkansas</td>\n",
       "      <td>100.0</td>\n",
       "      <td>100.0</td>\n",
       "    </tr>\n",
       "    <tr>\n",
       "      <th>3</th>\n",
       "      <td>Arkansas</td>\n",
       "      <td>100.0</td>\n",
       "      <td>100.0</td>\n",
       "    </tr>\n",
       "    <tr>\n",
       "      <th>5</th>\n",
       "      <td>Colorado</td>\n",
       "      <td>100.0</td>\n",
       "      <td>30.0</td>\n",
       "    </tr>\n",
       "    <tr>\n",
       "      <th>17</th>\n",
       "      <td>Kentucky</td>\n",
       "      <td>100.0</td>\n",
       "      <td>100.0</td>\n",
       "    </tr>\n",
       "    <tr>\n",
       "      <th>17</th>\n",
       "      <td>Kentucky</td>\n",
       "      <td>100.0</td>\n",
       "      <td>100.0</td>\n",
       "    </tr>\n",
       "    <tr>\n",
       "      <th>18</th>\n",
       "      <td>Louisiana</td>\n",
       "      <td>100.0</td>\n",
       "      <td>100.0</td>\n",
       "    </tr>\n",
       "    <tr>\n",
       "      <th>50</th>\n",
       "      <td>Wyoming</td>\n",
       "      <td>100.0</td>\n",
       "      <td>100.0</td>\n",
       "    </tr>\n",
       "    <tr>\n",
       "      <th>26</th>\n",
       "      <td>Montana</td>\n",
       "      <td>100.0</td>\n",
       "      <td>100.0</td>\n",
       "    </tr>\n",
       "    <tr>\n",
       "      <th>24</th>\n",
       "      <td>Mississippi</td>\n",
       "      <td>100.0</td>\n",
       "      <td>100.0</td>\n",
       "    </tr>\n",
       "    <tr>\n",
       "      <th>24</th>\n",
       "      <td>Mississippi</td>\n",
       "      <td>100.0</td>\n",
       "      <td>100.0</td>\n",
       "    </tr>\n",
       "    <tr>\n",
       "      <th>25</th>\n",
       "      <td>Missouri</td>\n",
       "      <td>100.0</td>\n",
       "      <td>100.0</td>\n",
       "    </tr>\n",
       "    <tr>\n",
       "      <th>25</th>\n",
       "      <td>Missouri</td>\n",
       "      <td>100.0</td>\n",
       "      <td>100.0</td>\n",
       "    </tr>\n",
       "    <tr>\n",
       "      <th>26</th>\n",
       "      <td>Montana</td>\n",
       "      <td>100.0</td>\n",
       "      <td>100.0</td>\n",
       "    </tr>\n",
       "    <tr>\n",
       "      <th>27</th>\n",
       "      <td>Nebraska</td>\n",
       "      <td>84.0</td>\n",
       "      <td>100.0</td>\n",
       "    </tr>\n",
       "    <tr>\n",
       "      <th>35</th>\n",
       "      <td>Ohio</td>\n",
       "      <td>75.0</td>\n",
       "      <td>100.0</td>\n",
       "    </tr>\n",
       "  </tbody>\n",
       "</table>\n",
       "</div>"
      ],
      "text/plain": [
       "             state  act_17_participation  act_18_participation\n",
       "0          Alabama                 100.0                 100.0\n",
       "0          Alabama                 100.0                 100.0\n",
       "50         Wyoming                 100.0                 100.0\n",
       "49       Wisconsin                 100.0                 100.0\n",
       "49       Wisconsin                 100.0                 100.0\n",
       "44            Utah                 100.0                 100.0\n",
       "44            Utah                 100.0                 100.0\n",
       "42       Tennessee                 100.0                 100.0\n",
       "42       Tennessee                 100.0                 100.0\n",
       "40  South Carolina                 100.0                 100.0\n",
       "40  South Carolina                 100.0                 100.0\n",
       "36        Oklahoma                 100.0                 100.0\n",
       "36        Oklahoma                 100.0                 100.0\n",
       "33  North Carolina                 100.0                 100.0\n",
       "33  North Carolina                 100.0                 100.0\n",
       "28          Nevada                 100.0                 100.0\n",
       "28          Nevada                 100.0                 100.0\n",
       "23       Minnesota                 100.0                  99.0\n",
       "18       Louisiana                 100.0                 100.0\n",
       "3         Arkansas                 100.0                 100.0\n",
       "3         Arkansas                 100.0                 100.0\n",
       "5         Colorado                 100.0                  30.0\n",
       "17        Kentucky                 100.0                 100.0\n",
       "17        Kentucky                 100.0                 100.0\n",
       "18       Louisiana                 100.0                 100.0\n",
       "50         Wyoming                 100.0                 100.0\n",
       "26         Montana                 100.0                 100.0\n",
       "24     Mississippi                 100.0                 100.0\n",
       "24     Mississippi                 100.0                 100.0\n",
       "25        Missouri                 100.0                 100.0\n",
       "25        Missouri                 100.0                 100.0\n",
       "26         Montana                 100.0                 100.0\n",
       "27        Nebraska                  84.0                 100.0\n",
       "35            Ohio                  75.0                 100.0"
      ]
     },
     "execution_count": 159,
     "metadata": {},
     "output_type": "execute_result"
    }
   ],
   "source": [
    "# filter act participation rate ==100 and sort by act_17 value descending order\n",
    "participation_act[participation_act[['state','act_17_participation','act_18_participation']].values==100.0].sort_values('act_17_participation',ascending=False)"
   ]
  },
  {
   "cell_type": "markdown",
   "metadata": {},
   "source": [
    "<font color=blue> \n",
    "For ACT tets:<br>\n",
    "Of the 17 states that has 100% participation rate in year 2017, all has maintained 100% participation rate in year 2018 except for Minnesota and Colorado which has dropped to 99% and 30% respectively in year 2018.<br>\n",
    "On the other hand, participation rate for Ohio and Nebraska has increased from 75% and 84% respectively in year 2017 to 100 % in year 2018\n"
   ]
  },
  {
   "cell_type": "markdown",
   "metadata": {},
   "source": [
    "Based on what you've just observed, have you identified any states that you're especially interested in? Make a note of these and state why you think they're interesting.</font>"
   ]
  },
  {
   "cell_type": "code",
   "execution_count": 212,
   "metadata": {},
   "outputs": [
    {
     "data": {
      "text/html": [
       "<div>\n",
       "<style scoped>\n",
       "    .dataframe tbody tr th:only-of-type {\n",
       "        vertical-align: middle;\n",
       "    }\n",
       "\n",
       "    .dataframe tbody tr th {\n",
       "        vertical-align: top;\n",
       "    }\n",
       "\n",
       "    .dataframe thead th {\n",
       "        text-align: right;\n",
       "    }\n",
       "</style>\n",
       "<table border=\"1\" class=\"dataframe\">\n",
       "  <thead>\n",
       "    <tr style=\"text-align: right;\">\n",
       "      <th></th>\n",
       "      <th>state</th>\n",
       "      <th>sat_17_participation</th>\n",
       "      <th>sat_18_participation</th>\n",
       "      <th>sat_participant-changes %</th>\n",
       "    </tr>\n",
       "  </thead>\n",
       "  <tbody>\n",
       "    <tr>\n",
       "      <th>9</th>\n",
       "      <td>Florida</td>\n",
       "      <td>83.0</td>\n",
       "      <td>56.0</td>\n",
       "      <td>-32.530120</td>\n",
       "    </tr>\n",
       "    <tr>\n",
       "      <th>28</th>\n",
       "      <td>Nevada</td>\n",
       "      <td>26.0</td>\n",
       "      <td>23.0</td>\n",
       "      <td>-11.538462</td>\n",
       "    </tr>\n",
       "    <tr>\n",
       "      <th>8</th>\n",
       "      <td>District of Columbia</td>\n",
       "      <td>100.0</td>\n",
       "      <td>92.0</td>\n",
       "      <td>-8.000000</td>\n",
       "    </tr>\n",
       "    <tr>\n",
       "      <th>2</th>\n",
       "      <td>Arizona</td>\n",
       "      <td>30.0</td>\n",
       "      <td>29.0</td>\n",
       "      <td>-3.333333</td>\n",
       "    </tr>\n",
       "    <tr>\n",
       "      <th>50</th>\n",
       "      <td>Wyoming</td>\n",
       "      <td>3.0</td>\n",
       "      <td>3.0</td>\n",
       "      <td>0.000000</td>\n",
       "    </tr>\n",
       "  </tbody>\n",
       "</table>\n",
       "</div>"
      ],
      "text/plain": [
       "                   state  sat_17_participation  sat_18_participation  \\\n",
       "9                Florida                  83.0                  56.0   \n",
       "28                Nevada                  26.0                  23.0   \n",
       "8   District of Columbia                 100.0                  92.0   \n",
       "2                Arizona                  30.0                  29.0   \n",
       "50               Wyoming                   3.0                   3.0   \n",
       "\n",
       "    sat_participant-changes %  \n",
       "9                  -32.530120  \n",
       "28                 -11.538462  \n",
       "8                   -8.000000  \n",
       "2                   -3.333333  \n",
       "50                   0.000000  "
      ]
     },
     "execution_count": 212,
     "metadata": {},
     "output_type": "execute_result"
    }
   ],
   "source": [
    "# check on change of participant rate of sat from Year 2017 to Year 2018.\n",
    "\n",
    "participation_sat['sat_participant-changes %']=(participation_sat['sat_18_participation']-participation_sat['sat_17_participation'])/participation_sat['sat_17_participation']*100\n",
    "participation_sat.sort_values('sat_participant-changes %', ascending=True).head()"
   ]
  },
  {
   "cell_type": "markdown",
   "metadata": {},
   "source": [
    "<font color=blue> States Florida & Nevada shows decrease in participantion rate in SAT test in Year 2018."
   ]
  },
  {
   "cell_type": "code",
   "execution_count": 213,
   "metadata": {},
   "outputs": [
    {
     "data": {
      "text/html": [
       "<div>\n",
       "<style scoped>\n",
       "    .dataframe tbody tr th:only-of-type {\n",
       "        vertical-align: middle;\n",
       "    }\n",
       "\n",
       "    .dataframe tbody tr th {\n",
       "        vertical-align: top;\n",
       "    }\n",
       "\n",
       "    .dataframe thead th {\n",
       "        text-align: right;\n",
       "    }\n",
       "</style>\n",
       "<table border=\"1\" class=\"dataframe\">\n",
       "  <thead>\n",
       "    <tr style=\"text-align: right;\">\n",
       "      <th></th>\n",
       "      <th>state</th>\n",
       "      <th>sat_17_participation</th>\n",
       "      <th>sat_18_participation</th>\n",
       "      <th>sat_participant-changes %</th>\n",
       "    </tr>\n",
       "  </thead>\n",
       "  <tbody>\n",
       "    <tr>\n",
       "      <th>13</th>\n",
       "      <td>Illinois</td>\n",
       "      <td>9.0</td>\n",
       "      <td>99.0</td>\n",
       "      <td>1000.000000</td>\n",
       "    </tr>\n",
       "    <tr>\n",
       "      <th>5</th>\n",
       "      <td>Colorado</td>\n",
       "      <td>11.0</td>\n",
       "      <td>100.0</td>\n",
       "      <td>809.090909</td>\n",
       "    </tr>\n",
       "    <tr>\n",
       "      <th>48</th>\n",
       "      <td>West Virginia</td>\n",
       "      <td>14.0</td>\n",
       "      <td>28.0</td>\n",
       "      <td>100.000000</td>\n",
       "    </tr>\n",
       "    <tr>\n",
       "      <th>3</th>\n",
       "      <td>Arkansas</td>\n",
       "      <td>3.0</td>\n",
       "      <td>5.0</td>\n",
       "      <td>66.666667</td>\n",
       "    </tr>\n",
       "    <tr>\n",
       "      <th>35</th>\n",
       "      <td>Ohio</td>\n",
       "      <td>12.0</td>\n",
       "      <td>18.0</td>\n",
       "      <td>50.000000</td>\n",
       "    </tr>\n",
       "  </tbody>\n",
       "</table>\n",
       "</div>"
      ],
      "text/plain": [
       "            state  sat_17_participation  sat_18_participation  \\\n",
       "13       Illinois                   9.0                  99.0   \n",
       "5        Colorado                  11.0                 100.0   \n",
       "48  West Virginia                  14.0                  28.0   \n",
       "3        Arkansas                   3.0                   5.0   \n",
       "35           Ohio                  12.0                  18.0   \n",
       "\n",
       "    sat_participant-changes %  \n",
       "13                1000.000000  \n",
       "5                  809.090909  \n",
       "48                 100.000000  \n",
       "3                   66.666667  \n",
       "35                  50.000000  "
      ]
     },
     "execution_count": 213,
     "metadata": {},
     "output_type": "execute_result"
    }
   ],
   "source": [
    "participation_sat['sat_participant-changes %']=(participation_sat['sat_18_participation']-participation_sat['sat_17_participation'])/participation_sat['sat_17_participation']*100\n",
    "participation_sat.sort_values('sat_participant-changes %',ascending=False).head()"
   ]
  },
  {
   "cell_type": "markdown",
   "metadata": {},
   "source": [
    "<font color=blue> States Illinois & Colorado shows significant increase in participantion rate in SAT test in Year 2018."
   ]
  },
  {
   "cell_type": "code",
   "execution_count": 215,
   "metadata": {},
   "outputs": [
    {
     "name": "stderr",
     "output_type": "stream",
     "text": [
      "C:\\Users\\user\\Anaconda3\\lib\\site-packages\\ipykernel_launcher.py:3: SettingWithCopyWarning: \n",
      "A value is trying to be set on a copy of a slice from a DataFrame.\n",
      "Try using .loc[row_indexer,col_indexer] = value instead\n",
      "\n",
      "See the caveats in the documentation: http://pandas.pydata.org/pandas-docs/stable/indexing.html#indexing-view-versus-copy\n",
      "  This is separate from the ipykernel package so we can avoid doing imports until\n"
     ]
    },
    {
     "data": {
      "text/html": [
       "<div>\n",
       "<style scoped>\n",
       "    .dataframe tbody tr th:only-of-type {\n",
       "        vertical-align: middle;\n",
       "    }\n",
       "\n",
       "    .dataframe tbody tr th {\n",
       "        vertical-align: top;\n",
       "    }\n",
       "\n",
       "    .dataframe thead th {\n",
       "        text-align: right;\n",
       "    }\n",
       "</style>\n",
       "<table border=\"1\" class=\"dataframe\">\n",
       "  <thead>\n",
       "    <tr style=\"text-align: right;\">\n",
       "      <th></th>\n",
       "      <th>state</th>\n",
       "      <th>act_17_participation</th>\n",
       "      <th>act_18_participation</th>\n",
       "      <th>act_participant-changes %</th>\n",
       "    </tr>\n",
       "  </thead>\n",
       "  <tbody>\n",
       "    <tr>\n",
       "      <th>5</th>\n",
       "      <td>Colorado</td>\n",
       "      <td>100.0</td>\n",
       "      <td>30.0</td>\n",
       "      <td>-70.000000</td>\n",
       "    </tr>\n",
       "    <tr>\n",
       "      <th>13</th>\n",
       "      <td>Illinois</td>\n",
       "      <td>93.0</td>\n",
       "      <td>43.0</td>\n",
       "      <td>-53.763441</td>\n",
       "    </tr>\n",
       "    <tr>\n",
       "      <th>1</th>\n",
       "      <td>Alaska</td>\n",
       "      <td>65.0</td>\n",
       "      <td>33.0</td>\n",
       "      <td>-49.230769</td>\n",
       "    </tr>\n",
       "    <tr>\n",
       "      <th>39</th>\n",
       "      <td>Rhode Island</td>\n",
       "      <td>21.0</td>\n",
       "      <td>15.0</td>\n",
       "      <td>-28.571429</td>\n",
       "    </tr>\n",
       "    <tr>\n",
       "      <th>22</th>\n",
       "      <td>Michigan</td>\n",
       "      <td>29.0</td>\n",
       "      <td>22.0</td>\n",
       "      <td>-24.137931</td>\n",
       "    </tr>\n",
       "  </tbody>\n",
       "</table>\n",
       "</div>"
      ],
      "text/plain": [
       "           state  act_17_participation  act_18_participation  \\\n",
       "5       Colorado                 100.0                  30.0   \n",
       "13      Illinois                  93.0                  43.0   \n",
       "1         Alaska                  65.0                  33.0   \n",
       "39  Rhode Island                  21.0                  15.0   \n",
       "22      Michigan                  29.0                  22.0   \n",
       "\n",
       "    act_participant-changes %  \n",
       "5                  -70.000000  \n",
       "13                 -53.763441  \n",
       "1                  -49.230769  \n",
       "39                 -28.571429  \n",
       "22                 -24.137931  "
      ]
     },
     "execution_count": 215,
     "metadata": {},
     "output_type": "execute_result"
    }
   ],
   "source": [
    "# check on change of participant rate of act from Year 2017 to Year 2018.\n",
    "\n",
    "participation_act['act_participant-changes %']=(participation_act['act_18_participation']-participation_act['act_17_participation'])/participation_act['act_17_participation']*100\n",
    "participation_act.sort_values('act_participant-changes %', ascending=True).head()"
   ]
  },
  {
   "cell_type": "markdown",
   "metadata": {},
   "source": [
    "<font color=blue> States Colorado & Illinois shows decrease in participantion rate in ACT test in Year 2018."
   ]
  },
  {
   "cell_type": "code",
   "execution_count": 218,
   "metadata": {},
   "outputs": [
    {
     "name": "stderr",
     "output_type": "stream",
     "text": [
      "C:\\Users\\user\\Anaconda3\\lib\\site-packages\\ipykernel_launcher.py:1: SettingWithCopyWarning: \n",
      "A value is trying to be set on a copy of a slice from a DataFrame.\n",
      "Try using .loc[row_indexer,col_indexer] = value instead\n",
      "\n",
      "See the caveats in the documentation: http://pandas.pydata.org/pandas-docs/stable/indexing.html#indexing-view-versus-copy\n",
      "  \"\"\"Entry point for launching an IPython kernel.\n"
     ]
    },
    {
     "data": {
      "text/html": [
       "<div>\n",
       "<style scoped>\n",
       "    .dataframe tbody tr th:only-of-type {\n",
       "        vertical-align: middle;\n",
       "    }\n",
       "\n",
       "    .dataframe tbody tr th {\n",
       "        vertical-align: top;\n",
       "    }\n",
       "\n",
       "    .dataframe thead th {\n",
       "        text-align: right;\n",
       "    }\n",
       "</style>\n",
       "<table border=\"1\" class=\"dataframe\">\n",
       "  <thead>\n",
       "    <tr style=\"text-align: right;\">\n",
       "      <th></th>\n",
       "      <th>state</th>\n",
       "      <th>act_17_participation</th>\n",
       "      <th>act_18_participation</th>\n",
       "      <th>act_participant-changes %</th>\n",
       "    </tr>\n",
       "  </thead>\n",
       "  <tbody>\n",
       "    <tr>\n",
       "      <th>35</th>\n",
       "      <td>Ohio</td>\n",
       "      <td>75.0</td>\n",
       "      <td>100.0</td>\n",
       "      <td>33.333333</td>\n",
       "    </tr>\n",
       "    <tr>\n",
       "      <th>27</th>\n",
       "      <td>Nebraska</td>\n",
       "      <td>84.0</td>\n",
       "      <td>100.0</td>\n",
       "      <td>19.047619</td>\n",
       "    </tr>\n",
       "    <tr>\n",
       "      <th>20</th>\n",
       "      <td>Maryland</td>\n",
       "      <td>28.0</td>\n",
       "      <td>31.0</td>\n",
       "      <td>10.714286</td>\n",
       "    </tr>\n",
       "    <tr>\n",
       "      <th>2</th>\n",
       "      <td>Arizona</td>\n",
       "      <td>62.0</td>\n",
       "      <td>66.0</td>\n",
       "      <td>6.451613</td>\n",
       "    </tr>\n",
       "    <tr>\n",
       "      <th>37</th>\n",
       "      <td>Oregon</td>\n",
       "      <td>40.0</td>\n",
       "      <td>42.0</td>\n",
       "      <td>5.000000</td>\n",
       "    </tr>\n",
       "  </tbody>\n",
       "</table>\n",
       "</div>"
      ],
      "text/plain": [
       "       state  act_17_participation  act_18_participation  \\\n",
       "35      Ohio                  75.0                 100.0   \n",
       "27  Nebraska                  84.0                 100.0   \n",
       "20  Maryland                  28.0                  31.0   \n",
       "2    Arizona                  62.0                  66.0   \n",
       "37    Oregon                  40.0                  42.0   \n",
       "\n",
       "    act_participant-changes %  \n",
       "35                  33.333333  \n",
       "27                  19.047619  \n",
       "20                  10.714286  \n",
       "2                    6.451613  \n",
       "37                   5.000000  "
      ]
     },
     "execution_count": 218,
     "metadata": {},
     "output_type": "execute_result"
    }
   ],
   "source": [
    "participation_act['act_participant-changes %']=(participation_act['act_18_participation']-participation_act['act_17_participation'])/participation_act['act_17_participation']*100\n",
    "participation_act.sort_values('act_participant-changes %', ascending=False).head()"
   ]
  },
  {
   "cell_type": "markdown",
   "metadata": {},
   "source": [
    "<font color=blue> States Ohio & Nebraska shows increase in participantion rate in ACT test in Year 2018"
   ]
  },
  {
   "cell_type": "markdown",
   "metadata": {},
   "source": [
    "<font color=blue> Colorado:<br>\n",
    "There's a switch trend in test taken for state Colorado observed.(from ACT to SAT) <br>\n",
    "In Year 2017, the participation rate is higher for ACT test (100%) compared to SAT test (11%)<br>\n",
    "In Year 2018, the participation rate for ACT test has dropped to 30% while SAT test has drastically increased to 100%.<br><br>\n",
    "    \n",
    "Illinois:<br>\n",
    "There's a switch trend in test taken for state Illinois observed.(from ACT to SAT)  <br>\n",
    "In Year 2017, the participation rate is higher for ACT test (93%) compared to SAT test (9%)<br>\n",
    "In Year 2018, the participation rate for ACT test has dropped to 43% while SAT test has drastically increased to 99%.<br><br>\n",
    "\n",
    "Ohio:<br> \n",
    "There is an increase in ACT test participation rate observed in Ohio from 75% in Year 2017 to 100% in Year 2018<br>\n",
    "The participation rate for SAT test in Ohio also shows increase from 12% in Year 2017 to 18% in Year 2018.<br><br>\n",
    "\n",
    "\n",
    "Nebraska:<br>\n",
    "There is an increase in ACT test participation rate observed in Nebraska from 84% in Year 2017 to 100% in Year 2018<br>\n",
    "The participation rate for SAT test in Nebraska however maintained at 3% for both Year 2017 & Year 2018.<br><br>"
   ]
  },
  {
   "cell_type": "markdown",
   "metadata": {},
   "source": [
    "## Visualize the data\n",
    "\n",
    "There's not a magic bullet recommendation for the right number of plots to understand a given dataset, but visualizing your data is *always* a good idea. Not only does it allow you to quickly convey your findings (even if you have a non-technical audience), it will often reveal trends in your data that escaped you when you were looking only at numbers.\n",
    "\n",
    "Some recommendations on plotting:\n",
    "- Plots have titles\n",
    "- Plots have axis labels\n",
    "- Plots have appropriate tick labels\n",
    "- All text is legible in a plot\n",
    "- Plots demonstrate meaningful and valid relationships\n",
    "- Plots are interpreted to aid understanding\n",
    "\n",
    "There is such a thing as too many plots, and there are a *lot* of bad plots. You might make some! (But hopefully not with the guided prompts below)."
   ]
  },
  {
   "cell_type": "code",
   "execution_count": 174,
   "metadata": {},
   "outputs": [],
   "source": [
    "import matplotlib.pyplot as plt\n",
    "import seaborn as sns\n",
    "import scipy.stats as stats\n",
    "from scipy.stats import norm\n",
    "\n",
    "%matplotlib inline"
   ]
  },
  {
   "cell_type": "markdown",
   "metadata": {},
   "source": [
    "#### Use Seaborn's heatmap with pandas `.corr()` to visualize correlations between all numeric features\n",
    "\n",
    "Heatmaps are generally not appropriate for presentations, and should often be excluded from reports as they can be visually overwhelming. **However**, they can be extremely useful in identify relationships of potential interest (as well as identifying potential collinearity before modeling).\n",
    "\n",
    "*example*:\n",
    "```python\n",
    "sns.heatmap(df.corr())\n",
    "```\n",
    "\n",
    "Please take time to format your output, adding a title. Look through some of the additional arguments and options. (Axis labels aren't really necessary, as long as the title is informative)."
   ]
  },
  {
   "cell_type": "code",
   "execution_count": 175,
   "metadata": {},
   "outputs": [
    {
     "data": {
      "text/plain": [
       "Text(0.5, 1, 'Correlationship Within All Variables')"
      ]
     },
     "execution_count": 175,
     "metadata": {},
     "output_type": "execute_result"
    },
    {
     "data": {
      "image/png": "[encoded data removed]",
      "text/plain": [
       "<Figure size 432x288 with 2 Axes>"
      ]
     },
     "metadata": {
      "needs_background": "light"
     },
     "output_type": "display_data"
    }
   ],
   "source": [
    "ax = plt.axes()\n",
    "sns.heatmap(final.corr(),ax = ax)\n",
    "ax.set_title('Correlationship Within All Variables')"
   ]
  },
  {
   "cell_type": "markdown",
   "metadata": {},
   "source": [
    "#### Define a custom function to subplot histograms\n",
    "\n",
    "We have data for two tests for two years. We only have composite (and not subtest scores) for the 2018 ACT. We should write a function that will take the names of 2+ columns and subplot histograms. While you can use pandas plotting or Seaborn here, matplotlib gives you greater control over all aspects of your plots.\n",
    "\n",
    "[Helpful Link for Plotting Multiple Figures](https://matplotlib.org/users/pyplot_tutorial.html#working-with-multiple-figures-and-axes)\n",
    "\n",
    "Here's some starter code:"
   ]
  },
  {
   "cell_type": "code",
   "execution_count": 180,
   "metadata": {},
   "outputs": [],
   "source": [
    "def subplot_histograms(dataframe, list_of_columns, list_of_titles, list_of_xlabels):\n",
    "    nrows = int(np.ceil(len(list_of_columns)/2)) # Makes sure you have enough rows\n",
    "    fig, ax = plt.subplots(nrows=nrows, ncols=2,figsize=(16,8),sharex=False,sharey=False) # You'll want to specify your figsize\n",
    "    ax = ax.ravel() # Ravel turns a matrix into a vector, which is easier to iterate\n",
    "    for i, column in enumerate(list_of_columns): # Gives us an index value to get into all our lists\n",
    "        sns.distplot(dataframe[column],ax=ax[i],bins=10,kde=True,fit=norm)\n",
    "        ax[i].set_title(list_of_titles[i])\n",
    "        ax[i].set_xlabel(list_of_xlabels[i])\n",
    "         \n",
    "        # Set titles, labels, etc here for each subplot"
   ]
  },
  {
   "cell_type": "markdown",
   "metadata": {},
   "source": [
    "#### Plot and interpret histograms \n",
    "For each of the following:\n",
    "- Participation rates for SAT & ACT\n",
    "- Math scores for SAT & ACT\n",
    "- Reading/verbal scores for SAT & ACT"
   ]
  },
  {
   "cell_type": "code",
   "execution_count": 183,
   "metadata": {},
   "outputs": [
    {
     "data": {
      "image/png": "[encoded data removed]",
      "text/plain": [
       "<Figure size 1152x576 with 4 Axes>"
      ]
     },
     "metadata": {
      "needs_background": "light"
     },
     "output_type": "display_data"
    }
   ],
   "source": [
    "# Subplot_histogram for Participation rates for SAT & ACT\n",
    "Participation_Rates_Hist=subplot_histograms(final,\n",
    "                   ['sat_17_participation','act_17_participation','sat_18_participation','act_18_participation'],\n",
    "                   ['Histogram of SAT Participation Rate 2017','Histogram of ACT Participation Rate 2017','Histogram of SAT Participation Rate 2018','Histogram of ACT Participation Rate 2018'],\n",
    "                   ['Participation Rate','Participation Rate','Participation Rate','Participation Rate'])\n",
    "plt.tight_layout()"
   ]
  },
  {
   "cell_type": "markdown",
   "metadata": {},
   "source": [
    "<font color=blue> \n",
    "All the 4 histograms shape are not symmetric .<br>\n",
    "Based on the histograms above, Participation Rate for SAT Test is more density at the lower participation rate (less than 20 %). The shape is skewed to the right.<br> \n",
    "On the other hand, Participation Rate for ACT Test is more density at the higher participation rate (100 %).The shape is skewed to the right<br>\n",
    "The spread for both test in both Year 2017 & Year 2018 is wide with mean at a lower peak.\n"
   ]
  },
  {
   "cell_type": "code",
   "execution_count": 184,
   "metadata": {},
   "outputs": [
    {
     "data": {
      "image/png": "[encoded data removed]",
      "text/plain": [
       "<Figure size 1152x576 with 4 Axes>"
      ]
     },
     "metadata": {
      "needs_background": "light"
     },
     "output_type": "display_data"
    }
   ],
   "source": [
    "# Subplot_histogram for Math scores for SAT & ACT\n",
    "Math_Score_Hist= subplot_histograms(final,\n",
    "                   ['sat_17_math','act_17_math','sat_18_math','act_18_math'],\n",
    "                   ['Histogram of SAT Math Score 2017','Histogram of ACT Math Score 2017','Histogram of SAT Math Score 2018','Histogram of ACT Math Score 2018'],\n",
    "                   ['Math Score','Math Score','Math Score','Math Score'])\n",
    "plt.tight_layout()"
   ]
  },
  {
   "cell_type": "markdown",
   "metadata": {},
   "source": [
    "<font color=blue>\n",
    "All the 4 histograms shape are not symmetric and skewed to the right.<br>\n",
    "Based on the histograms above, Math score for SAT Test is more density at the lower score (less than 600 score).<br>\n",
    "On the other hand, Math score for ACT Test has bimodal shape, having 2 peaks.\n",
    "The spread for both test in both Year 2017 & Year 2018 is narrow."
   ]
  },
  {
   "cell_type": "code",
   "execution_count": 185,
   "metadata": {},
   "outputs": [
    {
     "data": {
      "image/png": "[encoded data removed]",
      "text/plain": [
       "<Figure size 1152x576 with 4 Axes>"
      ]
     },
     "metadata": {
      "needs_background": "light"
     },
     "output_type": "display_data"
    }
   ],
   "source": [
    "# Subplot_histogram for Reading/verbal scores for SAT & ACT\n",
    "Read_Verbal_Score_Hist= subplot_histograms(final,\n",
    "                   ['sat_17_ebrw','act_17_reading','sat_18_ebrw','act_18_reading'],\n",
    "                   ['Histogram of SAT Reading/Verbal Score 2017','Histogram of ACT Reading/Verbal Score 2017','Histogram of SAT Reading/Verbal Score 2018','Histogram of ACT Reading/Verbal Score 2018'],\n",
    "                   ['Reading/Verbal Score','Reading/Verbal Score','Reading/Verbal Score','Reading/Verbal Score'])\n",
    "plt.tight_layout()"
   ]
  },
  {
   "cell_type": "markdown",
   "metadata": {},
   "source": [
    "<font color=blue>\n",
    "All the 4 histograms shape are not symmetric, having bimodal shape with 2 peaks.\n",
    "Based on the histograms above, Reading/ Verbal score for SAT Test is more density at the lower score (less than 600 score).\n",
    "The spread for both test in both Year 2017 & Year 2018 is not widely spread."
   ]
  },
  {
   "cell_type": "markdown",
   "metadata": {},
   "source": [
    "#### Plot and interpret scatter plots\n",
    "\n",
    "For each of the following:\n",
    "- SAT vs. ACT math scores for 2017\n",
    "- SAT vs. ACT verbal/reading scores for 2017\n",
    "- SAT vs. ACT total/composite scores for 2017\n",
    "- Total scores for SAT 2017 vs. 2018\n",
    "- Composite scores for ACT 2017 vs. 2018\n",
    "\n",
    "Plot the two variables against each other using matplotlib or Seaborn\n",
    "\n",
    "Your plots should show:\n",
    "- Two clearly labeled axes\n",
    "- A proper title\n",
    "- Using colors and symbols that are clear and unmistakable\n",
    "\n",
    "**Feel free to write a custom function, and subplot if you'd like.** Functions save both time and space.\n"
   ]
  },
  {
   "cell_type": "code",
   "execution_count": 110,
   "metadata": {},
   "outputs": [
    {
     "data": {
      "text/plain": [
       "Text(0.5, 1.0, 'Year 2017 Math Score\\n SAT vs ACT')"
      ]
     },
     "execution_count": 110,
     "metadata": {},
     "output_type": "execute_result"
    },
    {
     "data": {
      "image/png": "[encoded data removed]",
      "text/plain": [
       "<Figure size 432x288 with 1 Axes>"
      ]
     },
     "metadata": {
      "needs_background": "light"
     },
     "output_type": "display_data"
    }
   ],
   "source": [
    "# SAT vs. ACT math scores for 2017\n",
    "fig_1=sns.regplot(x=final['act_17_math'], y=final['sat_17_math'])\n",
    "fig_1.set_title('Year 2017 Math Score\\n SAT vs ACT')"
   ]
  },
  {
   "cell_type": "markdown",
   "metadata": {},
   "source": [
    "<font color=blue> Year 2017 Math Score SAT vs ACT have a negative correlation. As student is given option to choose to take either SAT or ACT Test"
   ]
  },
  {
   "cell_type": "code",
   "execution_count": 111,
   "metadata": {},
   "outputs": [
    {
     "data": {
      "text/plain": [
       "Text(0.5, 1.0, 'Year 2017 Reading/Verbal Score\\n SAT vs ACT')"
      ]
     },
     "execution_count": 111,
     "metadata": {},
     "output_type": "execute_result"
    },
    {
     "data": {
      "image/png": "[encoded data removed]",
      "text/plain": [
       "<Figure size 432x288 with 1 Axes>"
      ]
     },
     "metadata": {
      "needs_background": "light"
     },
     "output_type": "display_data"
    }
   ],
   "source": [
    "#SAT vs. ACT verbal/reading scores for 2017\n",
    "fig_2=sns.regplot(x=final['act_17_reading'], y=final['sat_17_ebrw'])\n",
    "fig_2.set_title('Year 2017 Reading/Verbal Score\\n SAT vs ACT')"
   ]
  },
  {
   "cell_type": "markdown",
   "metadata": {},
   "source": [
    "<font color=blue> Year 2017 Reading/ Verbal Score SAT vs ACT have a negative correlation.As student is given option to choose to take either SAT or ACT Test"
   ]
  },
  {
   "cell_type": "code",
   "execution_count": 112,
   "metadata": {},
   "outputs": [
    {
     "data": {
      "text/plain": [
       "Text(0.5, 1.0, 'Year 2017 Total/Composite Score\\n SAT vs ACT')"
      ]
     },
     "execution_count": 112,
     "metadata": {},
     "output_type": "execute_result"
    },
    {
     "data": {
      "image/png": "[encoded data removed]",
      "text/plain": [
       "<Figure size 432x288 with 1 Axes>"
      ]
     },
     "metadata": {
      "needs_background": "light"
     },
     "output_type": "display_data"
    }
   ],
   "source": [
    "# SAT vs. ACT total/composite scores for 2017\n",
    "fig_3=sns.regplot(x=final['act_17_composite'], y=final['sat_17_total'])\n",
    "fig_3.set_title('Year 2017 Total/Composite Score\\n SAT vs ACT')"
   ]
  },
  {
   "cell_type": "markdown",
   "metadata": {},
   "source": [
    "<font color=blue> Year 2017 Total/ Composite Score SAT vs ACT have a negative correlation.As student is given option to choose to take either SAT or ACT Test"
   ]
  },
  {
   "cell_type": "code",
   "execution_count": 113,
   "metadata": {},
   "outputs": [
    {
     "data": {
      "text/plain": [
       "Text(0.5, 1.0, 'Year 2017 Total/Composite Score\\n SAT vs ACT')"
      ]
     },
     "execution_count": 113,
     "metadata": {},
     "output_type": "execute_result"
    },
    {
     "data": {
      "image/png": "[encoded data removed]",
      "text/plain": [
       "<Figure size 432x288 with 1 Axes>"
      ]
     },
     "metadata": {
      "needs_background": "light"
     },
     "output_type": "display_data"
    }
   ],
   "source": [
    "# SAT vs. ACT total/composite scores for 2018\n",
    "fig_4=sns.regplot(x=final['act_18_composite'], y=final['sat_18_total'])\n",
    "fig_4.set_title('Year 2017 Total/Composite Score\\n SAT vs ACT')"
   ]
  },
  {
   "cell_type": "markdown",
   "metadata": {},
   "source": [
    "<font color=blue> Year 2018 Total/ Composite Score SAT vs ACT have a negative correlation. As student is given option to choose to take either SAT or ACT Test"
   ]
  },
  {
   "cell_type": "code",
   "execution_count": 114,
   "metadata": {},
   "outputs": [
    {
     "data": {
      "text/plain": [
       "Text(0.5, 1.0, 'SAT Total Score\\n Year 2017 vs Year 2018 ')"
      ]
     },
     "execution_count": 114,
     "metadata": {},
     "output_type": "execute_result"
    },
    {
     "data": {
      "image/png": "[encoded data removed]",
      "text/plain": [
       "<Figure size 432x288 with 1 Axes>"
      ]
     },
     "metadata": {
      "needs_background": "light"
     },
     "output_type": "display_data"
    }
   ],
   "source": [
    "# Total scores for SAT 2017 vs. 2018\n",
    "fig_5=sns.regplot(x=final['sat_18_total'], y=final['sat_17_total'])\n",
    "fig_5.set_title('SAT Total Score\\n Year 2017 vs Year 2018 ')"
   ]
  },
  {
   "cell_type": "markdown",
   "metadata": {},
   "source": [
    "<font color=blue> Year 2017 vs Year 2018 Total SAT Score have a positive correlation."
   ]
  },
  {
   "cell_type": "code",
   "execution_count": 115,
   "metadata": {},
   "outputs": [
    {
     "data": {
      "text/plain": [
       "Text(0.5, 1.0, 'ACT Composite Score\\n Year 2017 vs Year 2018 ')"
      ]
     },
     "execution_count": 115,
     "metadata": {},
     "output_type": "execute_result"
    },
    {
     "data": {
      "image/png": "[encoded data removed]",
      "text/plain": [
       "<Figure size 432x288 with 1 Axes>"
      ]
     },
     "metadata": {
      "needs_background": "light"
     },
     "output_type": "display_data"
    }
   ],
   "source": [
    "# Composite scores for ACT 2017 vs. 2018\n",
    "fig_6=sns.regplot(x=final['act_18_composite'], y=final['act_17_composite'])\n",
    "fig_6.set_title('ACT Composite Score\\n Year 2017 vs Year 2018 ')\n"
   ]
  },
  {
   "cell_type": "markdown",
   "metadata": {},
   "source": [
    "<font color=blue> Year 2017 vs Year 2018 Total SAT Score have a positive correlation."
   ]
  },
  {
   "cell_type": "markdown",
   "metadata": {},
   "source": [
    "#### Plot and interpret boxplots\n",
    "\n",
    "For each numeric variable in the dataframe create a boxplot using Seaborn. Boxplots demonstrate central tendency and spread in variables. In a certain sense, these are somewhat redundant with histograms, but you may be better able to identify clear outliers or differences in IQR, etc.\n",
    "\n",
    "Multiple values can be plotted to a single boxplot as long as they are of the same relative scale (meaning they have similar min/max values).\n",
    "\n",
    "Each boxplot should:\n",
    "- Only include variables of a similar scale\n",
    "- Have clear labels for each variable\n",
    "- Have appropriate titles and labels"
   ]
  },
  {
   "cell_type": "code",
   "execution_count": 230,
   "metadata": {},
   "outputs": [
    {
     "data": {
      "image/png": "[encoded data removed]",
      "text/plain": [
       "<Figure size 432x288 with 1 Axes>"
      ]
     },
     "metadata": {
      "needs_background": "light"
     },
     "output_type": "display_data"
    }
   ],
   "source": [
    "participation_r=final[['sat_17_participation','sat_18_participation','act_17_participation','act_18_participation']]\n",
    "box_plot_participation=sns.boxplot(data=participation_r,orient='h')\n",
    "box_plot_participation.set_title('Participation Rate for SAT & ACT\\n Year 2017 & Year 2018')\n",
    "plt.tight_layout()"
   ]
  },
  {
   "cell_type": "markdown",
   "metadata": {},
   "source": [
    "<font color=blue> \n",
    "SAT Test:<br>\n",
    "The boxplot shape for SAT Participation Rate is not symmetric, it's skewed left.<br>\n",
    "For SAT Test Participation rate, the Mean in Year 2018 is higher than Year 2017.<br>\n",
    "There is an increase in Participation Rate for SAT Test from Year 2017 to Year 2018.<br>\n",
    "    \n",
    "ACT Test:<br>\n",
    "The boxplot shape for ACT Participation Rate 2017 is not symmetric, it's skewed left.<br>\n",
    "The boxplot shape for ACT Participation Rate 2018 is symmetric, length of both sides are about the same.<br>\n",
    "For ACT Test Participation rate, the Mean in Year 2018 is slightly lower than Year 2017.<br>\n",
    "There is a decrease in Participation Rate for ACT Test from Year 2017 to Year 2018.<br>"
   ]
  },
  {
   "cell_type": "code",
   "execution_count": 232,
   "metadata": {},
   "outputs": [
    {
     "data": {
      "image/png": "[encoded data removed]",
      "text/plain": [
       "<Figure size 432x288 with 1 Axes>"
      ]
     },
     "metadata": {
      "needs_background": "light"
     },
     "output_type": "display_data"
    }
   ],
   "source": [
    "# SAT subjects 2017, 2018\n",
    "sat_sub_1718=final[['sat_17_ebrw','sat_18_ebrw','sat_17_math','sat_18_math']]\n",
    "box_plot_sat_sub_1718=sns.boxplot(data=sat_sub_1718,orient='h')\n",
    "box_plot_sat_sub_1718.set_title('SAT Subjects Score \\n Year 2017 & Year 2018')\n",
    "plt.tight_layout()"
   ]
  },
  {
   "cell_type": "code",
   "execution_count": 241,
   "metadata": {},
   "outputs": [
    {
     "data": {
      "image/png": "[encoded data removed]",
      "text/plain": [
       "<Figure size 432x288 with 1 Axes>"
      ]
     },
     "metadata": {
      "needs_background": "light"
     },
     "output_type": "display_data"
    }
   ],
   "source": [
    "# SAT Total Score 2017, 2018\n",
    "sat_tol_1718=final[['sat_17_total','sat_18_total']]\n",
    "box_plot_sat_tol_1718=sns.boxplot(data=sat_tol_1718)\n",
    "box_plot_sat_tol_1718.set_title('SAT Total Score\\n Year 2017 & Year 2018')\n",
    "plt.tight_layout()\n"
   ]
  },
  {
   "cell_type": "markdown",
   "metadata": {},
   "source": [
    "<font color=blue> \n",
    "SAT Subject Test & Total Score:<br>\n",
    "The boxplot shape for all SAT subjects score & SAT Total Score is not symmetric, it's skewed right.<br>\n",
    "Generally, mean for both subjects in SAT and SAT Total Score has dropped in Year 2018 compared to Year 2017.<br>\n",
    "Canditates taking SAT, generally score better in Reading/ Writing subject compared to Math subject.<br>"
   ]
  },
  {
   "cell_type": "code",
   "execution_count": 234,
   "metadata": {},
   "outputs": [
    {
     "data": {
      "image/png": "[encoded data removed]",
      "text/plain": [
       "<Figure size 432x288 with 1 Axes>"
      ]
     },
     "metadata": {
      "needs_background": "light"
     },
     "output_type": "display_data"
    }
   ],
   "source": [
    "# ACT subjects 2017, 2018\n",
    "\n",
    "act_sub_1718=final[['act_17_english','act_18_english','act_17_math','act_18_math','act_17_reading','act_18_reading','act_17_science','act_18_science']]\n",
    "box_plot_act_sub_1718=sns.boxplot(data=act_sub_1718,orient='h')\n",
    "box_plot_act_sub_1718.set_title('ACT Subjects Score \\n Year 2017 & Year 2018')\n",
    "plt.tight_layout()\n"
   ]
  },
  {
   "cell_type": "code",
   "execution_count": 243,
   "metadata": {},
   "outputs": [
    {
     "data": {
      "text/plain": [
       "Text(0.5, 1.0, 'ACT Composite Score\\n Year 2017 & Year 2018')"
      ]
     },
     "execution_count": 243,
     "metadata": {},
     "output_type": "execute_result"
    },
    {
     "data": {
      "image/png": "[encoded data removed]",
      "text/plain": [
       "<Figure size 432x288 with 1 Axes>"
      ]
     },
     "metadata": {
      "needs_background": "light"
     },
     "output_type": "display_data"
    }
   ],
   "source": [
    "# ACT Total Score 2017, 2018\n",
    "act_tol_1718=final[['act_17_composite','act_18_composite']]\n",
    "box_plot_act_tol_1718=sns.boxplot(data=act_tol_1718)\n",
    "box_plot_act_tol_1718.set_title('ACT Composite Score\\n Year 2017 & Year 2018')\n"
   ]
  },
  {
   "cell_type": "markdown",
   "metadata": {},
   "source": [
    "<font color=blue> \n",
    "ACT Subject Test & Composite Score:<br>\n",
    "The boxplot shape for all ACT subjects score & ACT Composite Score is not symmetric, it's skewed right.<br>\n",
    "Generally, mean for all subjects in ACT and ACT Composite Score has dropped in Year 2018 compared to Year 2017.<br>\n",
    "Canditates taking ACT, generally score better in English & Reading subject compared to Math & Science subject.<br>"
   ]
  },
  {
   "cell_type": "markdown",
   "metadata": {},
   "source": [
    "#### Feel free to do additional plots below\n",
    "*(do research and choose your own chart types & variables)*\n",
    "\n",
    "Are there any additional trends or relationships you haven't explored? Was there something interesting you saw that you'd like to dive further into? It's likely that there are a few more plots you might want to generate to support your narrative and recommendations that you are building toward. **As always, make sure you're interpreting your plots as you go**."
   ]
  },
  {
   "cell_type": "code",
   "execution_count": null,
   "metadata": {},
   "outputs": [],
   "source": []
  },
  {
   "cell_type": "markdown",
   "metadata": {},
   "source": [
    "#### (Optional): Using Tableau, create a choropleth map for each variable using a map of the US. \n",
    "\n",
    "Save this plot as an image file in an images directory, provide a relative path, and insert the image into notebook in markdown."
   ]
  },
  {
   "cell_type": "code",
   "execution_count": null,
   "metadata": {},
   "outputs": [],
   "source": []
  },
  {
   "cell_type": "markdown",
   "metadata": {},
   "source": [
    "## Descriptive and Inferential Statistics"
   ]
  },
  {
   "cell_type": "markdown",
   "metadata": {},
   "source": [
    "#### Summarizing Distributions\n",
    "\n",
    "Above, we used pandas `describe` to provide quick summary statistics of our numeric columns. We also demonstrated many visual relationships.\n",
    "\n",
    "As data scientists, having a complete understanding of data is imperative prior to modeling.\n",
    "\n",
    "While we will continue to build our analytic tools, we know that measures of *central tendency*, *spread*, and *shape/skewness* provide a quick summary of distributions.\n",
    "\n",
    "For each variable in your data, summarize the underlying distributions (in words & statistics)\n",
    " - Be thorough in your verbal description of these distributions.\n",
    " - Be sure to back up these summaries with statistics."
   ]
  },
  {
   "cell_type": "markdown",
   "metadata": {},
   "source": [
    "Answers:\n",
    "<font color=blue>  refer to Participation Rate for SAT & ACT box plot above:"
   ]
  },
  {
   "cell_type": "markdown",
   "metadata": {},
   "source": [
    "#### We generally assuming that data we sample from a population will be normally distributed. Do we observe this trend?"
   ]
  },
  {
   "cell_type": "code",
   "execution_count": 171,
   "metadata": {},
   "outputs": [
    {
     "data": {
      "text/html": [
       "<div>\n",
       "<style scoped>\n",
       "    .dataframe tbody tr th:only-of-type {\n",
       "        vertical-align: middle;\n",
       "    }\n",
       "\n",
       "    .dataframe tbody tr th {\n",
       "        vertical-align: top;\n",
       "    }\n",
       "\n",
       "    .dataframe thead th {\n",
       "        text-align: right;\n",
       "    }\n",
       "</style>\n",
       "<table border=\"1\" class=\"dataframe\">\n",
       "  <thead>\n",
       "    <tr style=\"text-align: right;\">\n",
       "      <th></th>\n",
       "      <th>sat_17_participation</th>\n",
       "      <th>sat_17_ebrw</th>\n",
       "      <th>sat_17_math</th>\n",
       "      <th>sat_17_total</th>\n",
       "      <th>act_17_participation</th>\n",
       "      <th>act_17_english</th>\n",
       "      <th>act_17_math</th>\n",
       "      <th>act_17_reading</th>\n",
       "      <th>act_17_science</th>\n",
       "      <th>act_17_composite</th>\n",
       "      <th>sat_18_participation</th>\n",
       "      <th>sat_18_ebrw</th>\n",
       "      <th>sat_18_math</th>\n",
       "      <th>sat_18_total</th>\n",
       "      <th>act_18_participation</th>\n",
       "      <th>act_18_composite</th>\n",
       "      <th>act_18_english</th>\n",
       "      <th>act_18_math</th>\n",
       "      <th>act_18_reading</th>\n",
       "      <th>act_18_science</th>\n",
       "    </tr>\n",
       "  </thead>\n",
       "  <tbody>\n",
       "    <tr>\n",
       "      <th>0</th>\n",
       "      <td>5.0</td>\n",
       "      <td>593</td>\n",
       "      <td>572</td>\n",
       "      <td>1165</td>\n",
       "      <td>100.0</td>\n",
       "      <td>18.9</td>\n",
       "      <td>18.4</td>\n",
       "      <td>19.7</td>\n",
       "      <td>19.4</td>\n",
       "      <td>19.2</td>\n",
       "      <td>6.0</td>\n",
       "      <td>595</td>\n",
       "      <td>571</td>\n",
       "      <td>1166</td>\n",
       "      <td>100.0</td>\n",
       "      <td>19.1</td>\n",
       "      <td>18.9</td>\n",
       "      <td>18.3</td>\n",
       "      <td>19.6</td>\n",
       "      <td>19.0</td>\n",
       "    </tr>\n",
       "    <tr>\n",
       "      <th>1</th>\n",
       "      <td>38.0</td>\n",
       "      <td>547</td>\n",
       "      <td>533</td>\n",
       "      <td>1080</td>\n",
       "      <td>65.0</td>\n",
       "      <td>18.7</td>\n",
       "      <td>19.8</td>\n",
       "      <td>20.4</td>\n",
       "      <td>19.9</td>\n",
       "      <td>19.8</td>\n",
       "      <td>43.0</td>\n",
       "      <td>562</td>\n",
       "      <td>544</td>\n",
       "      <td>1106</td>\n",
       "      <td>33.0</td>\n",
       "      <td>20.8</td>\n",
       "      <td>19.8</td>\n",
       "      <td>20.6</td>\n",
       "      <td>21.6</td>\n",
       "      <td>20.7</td>\n",
       "    </tr>\n",
       "    <tr>\n",
       "      <th>2</th>\n",
       "      <td>30.0</td>\n",
       "      <td>563</td>\n",
       "      <td>553</td>\n",
       "      <td>1116</td>\n",
       "      <td>62.0</td>\n",
       "      <td>18.6</td>\n",
       "      <td>19.8</td>\n",
       "      <td>20.1</td>\n",
       "      <td>19.8</td>\n",
       "      <td>19.7</td>\n",
       "      <td>29.0</td>\n",
       "      <td>577</td>\n",
       "      <td>572</td>\n",
       "      <td>1149</td>\n",
       "      <td>66.0</td>\n",
       "      <td>19.2</td>\n",
       "      <td>18.2</td>\n",
       "      <td>19.4</td>\n",
       "      <td>19.5</td>\n",
       "      <td>19.2</td>\n",
       "    </tr>\n",
       "    <tr>\n",
       "      <th>3</th>\n",
       "      <td>3.0</td>\n",
       "      <td>614</td>\n",
       "      <td>594</td>\n",
       "      <td>1208</td>\n",
       "      <td>100.0</td>\n",
       "      <td>18.9</td>\n",
       "      <td>19.0</td>\n",
       "      <td>19.7</td>\n",
       "      <td>19.5</td>\n",
       "      <td>19.4</td>\n",
       "      <td>5.0</td>\n",
       "      <td>592</td>\n",
       "      <td>576</td>\n",
       "      <td>1169</td>\n",
       "      <td>100.0</td>\n",
       "      <td>19.4</td>\n",
       "      <td>19.1</td>\n",
       "      <td>18.9</td>\n",
       "      <td>19.7</td>\n",
       "      <td>19.4</td>\n",
       "    </tr>\n",
       "    <tr>\n",
       "      <th>4</th>\n",
       "      <td>53.0</td>\n",
       "      <td>531</td>\n",
       "      <td>524</td>\n",
       "      <td>1055</td>\n",
       "      <td>31.0</td>\n",
       "      <td>22.5</td>\n",
       "      <td>22.7</td>\n",
       "      <td>23.1</td>\n",
       "      <td>22.2</td>\n",
       "      <td>22.8</td>\n",
       "      <td>60.0</td>\n",
       "      <td>540</td>\n",
       "      <td>536</td>\n",
       "      <td>1076</td>\n",
       "      <td>27.0</td>\n",
       "      <td>22.7</td>\n",
       "      <td>22.5</td>\n",
       "      <td>22.5</td>\n",
       "      <td>23.0</td>\n",
       "      <td>22.1</td>\n",
       "    </tr>\n",
       "  </tbody>\n",
       "</table>\n",
       "</div>"
      ],
      "text/plain": [
       "   sat_17_participation  sat_17_ebrw  sat_17_math  sat_17_total  \\\n",
       "0                   5.0          593          572          1165   \n",
       "1                  38.0          547          533          1080   \n",
       "2                  30.0          563          553          1116   \n",
       "3                   3.0          614          594          1208   \n",
       "4                  53.0          531          524          1055   \n",
       "\n",
       "   act_17_participation  act_17_english  act_17_math  act_17_reading  \\\n",
       "0                 100.0            18.9         18.4            19.7   \n",
       "1                  65.0            18.7         19.8            20.4   \n",
       "2                  62.0            18.6         19.8            20.1   \n",
       "3                 100.0            18.9         19.0            19.7   \n",
       "4                  31.0            22.5         22.7            23.1   \n",
       "\n",
       "   act_17_science  act_17_composite  sat_18_participation  sat_18_ebrw  \\\n",
       "0            19.4              19.2                   6.0          595   \n",
       "1            19.9              19.8                  43.0          562   \n",
       "2            19.8              19.7                  29.0          577   \n",
       "3            19.5              19.4                   5.0          592   \n",
       "4            22.2              22.8                  60.0          540   \n",
       "\n",
       "   sat_18_math  sat_18_total  act_18_participation  act_18_composite  \\\n",
       "0          571          1166                 100.0              19.1   \n",
       "1          544          1106                  33.0              20.8   \n",
       "2          572          1149                  66.0              19.2   \n",
       "3          576          1169                 100.0              19.4   \n",
       "4          536          1076                  27.0              22.7   \n",
       "\n",
       "   act_18_english  act_18_math  act_18_reading  act_18_science  \n",
       "0            18.9         18.3            19.6            19.0  \n",
       "1            19.8         20.6            21.6            20.7  \n",
       "2            18.2         19.4            19.5            19.2  \n",
       "3            19.1         18.9            19.7            19.4  \n",
       "4            22.5         22.5            23.0            22.1  "
      ]
     },
     "execution_count": 171,
     "metadata": {},
     "output_type": "execute_result"
    }
   ],
   "source": [
    "# Getting columns for normaltest to check if the data used is normalized.\n",
    "# exclude column State\n",
    "col_for_test=final.iloc[:,1:]\n",
    "col_for_test.head()"
   ]
  },
  {
   "cell_type": "markdown",
   "metadata": {},
   "source": [
    "<font color=blue> 2 test were formed to check if the data used is normalized."
   ]
  },
  {
   "cell_type": "code",
   "execution_count": 238,
   "metadata": {},
   "outputs": [
    {
     "name": "stdout",
     "output_type": "stream",
     "text": [
      "Statistics=0.6714633703231812, p=1.875441812713762e-40\n",
      "The null hypothesis,H0 can be rejected\n"
     ]
    }
   ],
   "source": [
    "# shapiro test\n",
    "\n",
    "from scipy.stats import shapiro\n",
    "\n",
    "# normality test\n",
    "col_for_test=final.iloc[:,1:]\n",
    "stat, p = shapiro(col_for_test)\n",
    "print('Statistics={}, p={}'.format(stat, p))\n",
    "\n",
    "# interpret\n",
    "alpha = 0.05\n",
    "if p > alpha:\n",
    "    print('The null hypothesis,,H0 cannot be rejected')\n",
    "else:\n",
    "    print('The null hypothesis,H0 can be rejected')"
   ]
  },
  {
   "cell_type": "code",
   "execution_count": 173,
   "metadata": {},
   "outputs": [
    {
     "name": "stdout",
     "output_type": "stream",
     "text": [
      "[4.02894335e-06 9.98679508e-04 5.60729990e-02 8.20023081e-03\n",
      " 1.80184196e-16 8.43476449e-02 3.78680596e-02 4.39668308e-02\n",
      " 6.38854744e-02 3.76773959e-02 3.73999942e-12 1.82227609e-02\n",
      " 8.86662060e-02 1.45587248e-02 1.17985770e-31 1.28627601e-02\n",
      " 1.11186649e-02 8.67842346e-03 9.05580495e-03 1.06259332e-02]\n"
     ]
    }
   ],
   "source": [
    "# normaltest\n",
    "\n",
    "k2,p = stats.normaltest(col_for_test)\n",
    "alpha = 5*1e-2\n",
    "print(p)"
   ]
  },
  {
   "cell_type": "markdown",
   "metadata": {},
   "source": [
    "Answer: \n",
    "<font color=blue>Based on the Nomal Test perform on our datasets, it shows p values is significantly lesser than alpha, where the null hypothesis can be rejected."
   ]
  },
  {
   "cell_type": "markdown",
   "metadata": {},
   "source": [
    "Does This Assumption Hold for:\n",
    "    - Math\n",
    "    - Reading\n",
    "    - Rates\n",
    "Explain your answers for each distribution and how you think this will affect estimates made from these data."
   ]
  },
  {
   "cell_type": "markdown",
   "metadata": {},
   "source": [
    "Answer: <font color=blue> \n",
    "Based on Central Limit Theorem, given if the population distribution is not normaly distributed, the sampling distribution of  𝑋¯ , is Normally distributed even if the distribution of  𝑋  is not when sample size is more than 30. In this case we haave 51 states of sample. <br>\n",
    "Yes, this assumption hold for Math, Reading and Rates"
   ]
  },
  {
   "cell_type": "markdown",
   "metadata": {},
   "source": [
    "#### Estimate Limits of Data\n",
    "\n",
    "Suppose we only seek to understand the relationship between SAT and ACT participation rates in 2017. \n",
    "\n",
    "##### Does it make sense to conduct statistical inference given these data specifically? \n",
    "\n",
    "Why or why not?\n",
    "\n",
    "*(think about granularity, aggregation, the relationships between populations size & rates...consider the actually populations these data describe in answering this question)*"
   ]
  },
  {
   "cell_type": "markdown",
   "metadata": {},
   "source": [
    "Answer:<font color=blue>. Yes. Given the data set of more than 30 samples, we believe the sample statistic can be used to inference the participation rates data"
   ]
  },
  {
   "cell_type": "markdown",
   "metadata": {},
   "source": [
    "##### Is it appropriate to compare *these* specific SAT and ACT math scores? \n",
    "\n",
    "Why or why not?"
   ]
  },
  {
   "cell_type": "markdown",
   "metadata": {},
   "source": [
    "Answer:<font color=blue>. No. The score scale range for both test are different.Both Math score will only be comparable if either one test scoring has been converted to another test' score using a specfic factor."
   ]
  },
  {
   "cell_type": "markdown",
   "metadata": {},
   "source": [
    "#### Statistical Evaluation of Distributions \n",
    "\n",
    "**If you feel it's appropriate**, using methods we discussed in class, run hypothesis tests to compare variables of interest in our dataset. "
   ]
  },
  {
   "cell_type": "code",
   "execution_count": null,
   "metadata": {},
   "outputs": [],
   "source": [
    "# Code:"
   ]
  },
  {
   "cell_type": "markdown",
   "metadata": {},
   "source": [
    "## Outside Research"
   ]
  },
  {
   "cell_type": "markdown",
   "metadata": {},
   "source": [
    "Based upon your observations, choose **three** states that demonstrate interesting trends in their SAT and/or ACT participation rates. Spend some time doing outside research on state policies that might influence these rates, and summarize your findings below. **Feel free to go back and create new plots that highlight these states of interest**. If you bring in any outside tables or charts, make sure you are explicit about having borrowed them. If you quote any text, make sure that it renders as being quoted. (Make sure that you cite your sources -- check with you local instructor for citation preferences)."
   ]
  },
  {
   "cell_type": "markdown",
   "metadata": {},
   "source": [
    " <font color=blue>States Choosen:<br>\n",
    " 1.Colorado:<br>\n",
    " There's a switch trend in test taken for state Colorado observed.(from ACT to SAT)<br><br>\n",
    " 2. Illinois:<br>\n",
    " There's a switch trend in test taken for state Illinois observed.(from ACT to SAT)<br><br>\n",
    " 3. Ohio:<br>\n",
    " There is a big increase for ACT Participation Rate from 75% to 100%, but only a small increase in  \n",
    "\n",
    "\n"
   ]
  },
  {
   "cell_type": "markdown",
   "metadata": {},
   "source": [
    "## Conclusions and Recommendations"
   ]
  },
  {
   "cell_type": "markdown",
   "metadata": {},
   "source": [
    "Based on your exploration of the data, what are you key takeaways and recommendations? Choose one state with a lower participation rate and provide a suggestion for how the College Board might increase participation amongst graduating seniors in this state. Are there additional data you desire that would better inform your investigations?"
   ]
  },
  {
   "cell_type": "markdown",
   "metadata": {},
   "source": [
    " <font color=blue>To encourage students to be more competitive, it's recommended for the state to make SAT as a compulsory test to be taken in state high school.\n"
   ]
  },
  {
   "cell_type": "code",
   "execution_count": null,
   "metadata": {},
   "outputs": [],
   "source": []
  }
 ],
 "metadata": {
  "anaconda-cloud": {},
  "kernelspec": {
   "display_name": "Python 3",
   "language": "python",
   "name": "python3"
  },
  "language_info": {
   "codemirror_mode": {
    "name": "ipython",
    "version": 3
   },
   "file_extension": ".py",
   "mimetype": "text/x-python",
   "name": "python",
   "nbconvert_exporter": "python",
   "pygments_lexer": "ipython3",
   "version": "3.7.3"
  }
 },
 "nbformat": 4,
 "nbformat_minor": 2
}
